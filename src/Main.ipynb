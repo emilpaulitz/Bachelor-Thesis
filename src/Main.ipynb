{
 "cells": [
  {
   "cell_type": "code",
   "execution_count": 9,
   "metadata": {},
   "outputs": [
    {
     "name": "stdout",
     "output_type": "stream",
     "text": [
      "file read...\n",
      "strings converted to floats...\n",
      "q-values estimated...\n",
      "ranks computed...\n",
      "features normed...\n",
      "floats converted to ints...\n",
      "file ready!\n",
      "Wall time: 17.3 s\n"
     ]
    }
   ],
   "source": [
    "%%time\n",
    "from pycolator import *\n",
    "\n",
    "idCol = 'SpecId'\n",
    "scoreCol = 'NuXL:score'\n",
    "excluded = ['SpecId', 'Label', 'ScanNr', 'Peptide', 'Proteins', 'FDR', 'q-val', 'class-specific_q-val', 'Rank', 'temp_score', 'percolator_score']\n",
    "\n",
    "dSlow = readAndProcess('../data/1-AChernev_080219_dir_HeLa_cyt_UCGA_slow.tsv', idCol, scoreCol, excludedCols = excluded)\n",
    "features = [x for x in list(dSlow.columns) if (x not in excluded)]"
   ]
  },
  {
   "cell_type": "code",
   "execution_count": 19,
   "metadata": {},
   "outputs": [
    {
     "data": {
      "text/plain": [
       "52"
      ]
     },
     "execution_count": 19,
     "metadata": {},
     "output_type": "execute_result"
    }
   ],
   "source": [
    "len(features)"
   ]
  },
  {
   "cell_type": "code",
   "execution_count": 10,
   "metadata": {},
   "outputs": [
    {
     "data": {
      "text/html": [
       "<div>\n",
       "<style scoped>\n",
       "    .dataframe tbody tr th:only-of-type {\n",
       "        vertical-align: middle;\n",
       "    }\n",
       "\n",
       "    .dataframe tbody tr th {\n",
       "        vertical-align: top;\n",
       "    }\n",
       "\n",
       "    .dataframe thead th {\n",
       "        text-align: right;\n",
       "    }\n",
       "</style>\n",
       "<table border=\"1\" class=\"dataframe\">\n",
       "  <thead>\n",
       "    <tr style=\"text-align: right;\">\n",
       "      <th></th>\n",
       "      <th>SpecId</th>\n",
       "      <th>Label</th>\n",
       "      <th>ScanNr</th>\n",
       "      <th>ExpMass</th>\n",
       "      <th>CalcMass</th>\n",
       "      <th>mass</th>\n",
       "      <th>peplen</th>\n",
       "      <th>charge2</th>\n",
       "      <th>charge3</th>\n",
       "      <th>charge4</th>\n",
       "      <th>...</th>\n",
       "      <th>NuXL:XL_U</th>\n",
       "      <th>NuXL:XL_C</th>\n",
       "      <th>NuXL:XL_G</th>\n",
       "      <th>NuXL:XL_A</th>\n",
       "      <th>Peptide</th>\n",
       "      <th>Proteins</th>\n",
       "      <th>FDR</th>\n",
       "      <th>q-val</th>\n",
       "      <th>class-specific_q-val</th>\n",
       "      <th>Rank</th>\n",
       "    </tr>\n",
       "  </thead>\n",
       "  <tbody>\n",
       "    <tr>\n",
       "      <th>15534</th>\n",
       "      <td>controllerType=0controllerNumber=1scan=8704</td>\n",
       "      <td>1</td>\n",
       "      <td>8704</td>\n",
       "      <td>0.628104</td>\n",
       "      <td>0.628105</td>\n",
       "      <td>0.628104</td>\n",
       "      <td>0.772727</td>\n",
       "      <td>0</td>\n",
       "      <td>1</td>\n",
       "      <td>0</td>\n",
       "      <td>...</td>\n",
       "      <td>0</td>\n",
       "      <td>0</td>\n",
       "      <td>0</td>\n",
       "      <td>0</td>\n",
       "      <td>R.GGSGGSHGGGSGFGGESGGSYGGGEEASGSGGGYGGGSGK.S</td>\n",
       "      <td>sp|P35527|K1C9_HUMAN</td>\n",
       "      <td>0.0</td>\n",
       "      <td>0.0</td>\n",
       "      <td>0.0</td>\n",
       "      <td>1</td>\n",
       "    </tr>\n",
       "    <tr>\n",
       "      <th>15647</th>\n",
       "      <td>controllerType=0controllerNumber=1scan=8757</td>\n",
       "      <td>1</td>\n",
       "      <td>8757</td>\n",
       "      <td>0.628107</td>\n",
       "      <td>0.628105</td>\n",
       "      <td>0.628107</td>\n",
       "      <td>0.772727</td>\n",
       "      <td>0</td>\n",
       "      <td>1</td>\n",
       "      <td>0</td>\n",
       "      <td>...</td>\n",
       "      <td>0</td>\n",
       "      <td>0</td>\n",
       "      <td>0</td>\n",
       "      <td>0</td>\n",
       "      <td>R.GGSGGSHGGGSGFGGESGGSYGGGEEASGSGGGYGGGSGK.S</td>\n",
       "      <td>sp|P35527|K1C9_HUMAN</td>\n",
       "      <td>0.0</td>\n",
       "      <td>0.0</td>\n",
       "      <td>0.0</td>\n",
       "      <td>1</td>\n",
       "    </tr>\n",
       "    <tr>\n",
       "      <th>12279</th>\n",
       "      <td>controllerType=0controllerNumber=1scan=7273</td>\n",
       "      <td>1</td>\n",
       "      <td>7273</td>\n",
       "      <td>0.479916</td>\n",
       "      <td>0.479915</td>\n",
       "      <td>0.479916</td>\n",
       "      <td>0.863636</td>\n",
       "      <td>0</td>\n",
       "      <td>0</td>\n",
       "      <td>1</td>\n",
       "      <td>...</td>\n",
       "      <td>0</td>\n",
       "      <td>0</td>\n",
       "      <td>0</td>\n",
       "      <td>0</td>\n",
       "      <td>R.GGSGGSHGGGSGFGGESGGSYGGGEEASGSGGGYGGGSGKSSHS.-</td>\n",
       "      <td>sp|P35527|K1C9_HUMAN</td>\n",
       "      <td>0.0</td>\n",
       "      <td>0.0</td>\n",
       "      <td>0.0</td>\n",
       "      <td>1</td>\n",
       "    </tr>\n",
       "    <tr>\n",
       "      <th>14073</th>\n",
       "      <td>controllerType=0controllerNumber=1scan=7991</td>\n",
       "      <td>1</td>\n",
       "      <td>7991</td>\n",
       "      <td>0.857004</td>\n",
       "      <td>0.857001</td>\n",
       "      <td>0.857004</td>\n",
       "      <td>0.590909</td>\n",
       "      <td>0</td>\n",
       "      <td>1</td>\n",
       "      <td>0</td>\n",
       "      <td>...</td>\n",
       "      <td>0</td>\n",
       "      <td>0</td>\n",
       "      <td>0</td>\n",
       "      <td>0</td>\n",
       "      <td>K.KKEEEEDEEDEEDEEEEEDEEDEDEEEDDDDE.-</td>\n",
       "      <td>sp|P09429|HMGB1_HUMAN</td>\n",
       "      <td>0.0</td>\n",
       "      <td>0.0</td>\n",
       "      <td>0.0</td>\n",
       "      <td>1</td>\n",
       "    </tr>\n",
       "    <tr>\n",
       "      <th>14191</th>\n",
       "      <td>controllerType=0controllerNumber=1scan=8046</td>\n",
       "      <td>1</td>\n",
       "      <td>8046</td>\n",
       "      <td>0.857005</td>\n",
       "      <td>0.857001</td>\n",
       "      <td>0.857005</td>\n",
       "      <td>0.590909</td>\n",
       "      <td>0</td>\n",
       "      <td>1</td>\n",
       "      <td>0</td>\n",
       "      <td>...</td>\n",
       "      <td>0</td>\n",
       "      <td>0</td>\n",
       "      <td>0</td>\n",
       "      <td>0</td>\n",
       "      <td>K.KKEEEEDEEDEEDEEEEEDEEDEDEEEDDDDE.-</td>\n",
       "      <td>sp|P09429|HMGB1_HUMAN</td>\n",
       "      <td>0.0</td>\n",
       "      <td>0.0</td>\n",
       "      <td>0.0</td>\n",
       "      <td>1</td>\n",
       "    </tr>\n",
       "  </tbody>\n",
       "</table>\n",
       "<p>5 rows × 61 columns</p>\n",
       "</div>"
      ],
      "text/plain": [
       "                                            SpecId  Label  ScanNr   ExpMass  \\\n",
       "15534  controllerType=0controllerNumber=1scan=8704      1    8704  0.628104   \n",
       "15647  controllerType=0controllerNumber=1scan=8757      1    8757  0.628107   \n",
       "12279  controllerType=0controllerNumber=1scan=7273      1    7273  0.479916   \n",
       "14073  controllerType=0controllerNumber=1scan=7991      1    7991  0.857004   \n",
       "14191  controllerType=0controllerNumber=1scan=8046      1    8046  0.857005   \n",
       "\n",
       "       CalcMass      mass    peplen  charge2  charge3  charge4  ...  \\\n",
       "15534  0.628105  0.628104  0.772727        0        1        0  ...   \n",
       "15647  0.628105  0.628107  0.772727        0        1        0  ...   \n",
       "12279  0.479915  0.479916  0.863636        0        0        1  ...   \n",
       "14073  0.857001  0.857004  0.590909        0        1        0  ...   \n",
       "14191  0.857001  0.857005  0.590909        0        1        0  ...   \n",
       "\n",
       "       NuXL:XL_U  NuXL:XL_C  NuXL:XL_G  NuXL:XL_A  \\\n",
       "15534          0          0          0          0   \n",
       "15647          0          0          0          0   \n",
       "12279          0          0          0          0   \n",
       "14073          0          0          0          0   \n",
       "14191          0          0          0          0   \n",
       "\n",
       "                                                Peptide  \\\n",
       "15534      R.GGSGGSHGGGSGFGGESGGSYGGGEEASGSGGGYGGGSGK.S   \n",
       "15647      R.GGSGGSHGGGSGFGGESGGSYGGGEEASGSGGGYGGGSGK.S   \n",
       "12279  R.GGSGGSHGGGSGFGGESGGSYGGGEEASGSGGGYGGGSGKSSHS.-   \n",
       "14073              K.KKEEEEDEEDEEDEEEEEDEEDEDEEEDDDDE.-   \n",
       "14191              K.KKEEEEDEEDEEDEEEEEDEEDEDEEEDDDDE.-   \n",
       "\n",
       "                    Proteins  FDR  q-val  class-specific_q-val  Rank  \n",
       "15534   sp|P35527|K1C9_HUMAN  0.0    0.0                   0.0     1  \n",
       "15647   sp|P35527|K1C9_HUMAN  0.0    0.0                   0.0     1  \n",
       "12279   sp|P35527|K1C9_HUMAN  0.0    0.0                   0.0     1  \n",
       "14073  sp|P09429|HMGB1_HUMAN  0.0    0.0                   0.0     1  \n",
       "14191  sp|P09429|HMGB1_HUMAN  0.0    0.0                   0.0     1  \n",
       "\n",
       "[5 rows x 61 columns]"
      ]
     },
     "execution_count": 10,
     "metadata": {},
     "output_type": "execute_result"
    }
   ],
   "source": [
    "dSlow.head()"
   ]
  },
  {
   "cell_type": "code",
   "execution_count": 13,
   "metadata": {},
   "outputs": [
    {
     "data": {
      "text/plain": [
       "50627"
      ]
     },
     "execution_count": 13,
     "metadata": {},
     "output_type": "execute_result"
    }
   ],
   "source": [
    "len(dSlow.loc[dSlow.Label == 1])"
   ]
  },
  {
   "cell_type": "code",
   "execution_count": 14,
   "metadata": {},
   "outputs": [
    {
     "data": {
      "text/plain": [
       "42592"
      ]
     },
     "execution_count": 14,
     "metadata": {},
     "output_type": "execute_result"
    }
   ],
   "source": [
    "len(dSlow.loc[dSlow.Label == 0])"
   ]
  },
  {
   "cell_type": "code",
   "execution_count": 15,
   "metadata": {},
   "outputs": [
    {
     "data": {
      "text/plain": [
       "51521"
      ]
     },
     "execution_count": 15,
     "metadata": {},
     "output_type": "execute_result"
    }
   ],
   "source": [
    "len(dSlow.loc[dSlow['NuXL:isXL'] == 1])"
   ]
  },
  {
   "cell_type": "code",
   "execution_count": 16,
   "metadata": {},
   "outputs": [
    {
     "data": {
      "text/plain": [
       "41698"
      ]
     },
     "execution_count": 16,
     "metadata": {},
     "output_type": "execute_result"
    }
   ],
   "source": [
    "len(dSlow.loc[dSlow['NuXL:isXL'] == 0])"
   ]
  },
  {
   "cell_type": "code",
   "execution_count": 17,
   "metadata": {},
   "outputs": [
    {
     "data": {
      "text/plain": [
       "93219"
      ]
     },
     "execution_count": 17,
     "metadata": {},
     "output_type": "execute_result"
    }
   ],
   "source": [
    "len(dSlow)"
   ]
  },
  {
   "cell_type": "code",
   "execution_count": 2,
   "metadata": {},
   "outputs": [
    {
     "name": "stdout",
     "output_type": "stream",
     "text": [
      "Training in iteration 1 with split 1/3 starts!\n",
      "Training in iteration 1 with split 2/3 starts!\n",
      "Training in iteration 1 with split 3/3 starts!\n",
      "Iteration 1/10 done!\n",
      "Training in iteration 2 with split 1/3 starts!\n",
      "Training in iteration 2 with split 2/3 starts!\n",
      "Training in iteration 2 with split 3/3 starts!\n",
      "Iteration 2/10 done!\n",
      "Training in iteration 3 with split 1/3 starts!\n",
      "Training in iteration 3 with split 2/3 starts!\n",
      "Training in iteration 3 with split 3/3 starts!\n",
      "Iteration 3/10 done!\n",
      "Training in iteration 4 with split 1/3 starts!\n",
      "Training in iteration 4 with split 2/3 starts!\n",
      "Training in iteration 4 with split 3/3 starts!\n",
      "Iteration 4/10 done!\n",
      "Training in iteration 5 with split 1/3 starts!\n",
      "Training in iteration 5 with split 2/3 starts!\n",
      "Training in iteration 5 with split 3/3 starts!\n",
      "Iteration 5/10 done!\n",
      "Training in iteration 6 with split 1/3 starts!\n",
      "Training in iteration 6 with split 2/3 starts!\n",
      "Training in iteration 6 with split 3/3 starts!\n",
      "Iteration 6/10 done!\n",
      "Training in iteration 7 with split 1/3 starts!\n",
      "Training in iteration 7 with split 2/3 starts!\n",
      "Training in iteration 7 with split 3/3 starts!\n",
      "Iteration 7/10 done!\n",
      "Training in iteration 8 with split 1/3 starts!\n",
      "Training in iteration 8 with split 2/3 starts!\n",
      "Training in iteration 8 with split 3/3 starts!\n",
      "Iteration 8/10 done!\n",
      "Training in iteration 9 with split 1/3 starts!\n",
      "Training in iteration 9 with split 2/3 starts!\n",
      "Training in iteration 9 with split 3/3 starts!\n",
      "Iteration 9/10 done!\n",
      "Training in iteration 10 with split 1/3 starts!\n",
      "Training in iteration 10 with split 2/3 starts!\n",
      "Training in iteration 10 with split 3/3 starts!\n",
      "Iteration 10/10 done!\n",
      "Terminating and using Iteration 9 with an auc of 373.4.\n",
      "Wall time: 3min 39s\n"
     ]
    }
   ],
   "source": [
    "%%time\n",
    "\n",
    "saveName = '../results/percolator_reimplementation.png'\n",
    "\n",
    "p = percolator_reimplementation(dSlow, idCol, features)"
   ]
  },
  {
   "cell_type": "code",
   "execution_count": 8,
   "metadata": {},
   "outputs": [
    {
     "data": {
      "text/plain": [
       "342.709078415209"
      ]
     },
     "execution_count": 8,
     "metadata": {},
     "output_type": "execute_result"
    },
    {
     "data": {
      "image/png": "[encoded data removed]",
      "text/plain": [
       "<Figure size 432x288 with 1 Axes>"
      ]
     },
     "metadata": {
      "needs_background": "light"
     },
     "output_type": "display_data"
    }
   ],
   "source": [
    "pseudoROC(p)#, onlyFirstRank = False)"
   ]
  },
  {
   "cell_type": "code",
   "execution_count": 3,
   "metadata": {},
   "outputs": [
    {
     "data": {
      "text/plain": [
       "6867"
      ]
     },
     "execution_count": 3,
     "metadata": {},
     "output_type": "execute_result"
    }
   ],
   "source": [
    "len(p.loc[p['q-val'] <= 0.01])"
   ]
  }
 ],
 "metadata": {
  "kernelspec": {
   "display_name": "Python 3",
   "language": "python",
   "name": "python3"
  },
  "language_info": {
   "codemirror_mode": {
    "name": "ipython",
    "version": 3
   },
   "file_extension": ".py",
   "mimetype": "text/x-python",
   "name": "python",
   "nbconvert_exporter": "python",
   "pygments_lexer": "ipython3",
   "version": "3.7.6"
  }
 },
 "nbformat": 4,
 "nbformat_minor": 2
}
