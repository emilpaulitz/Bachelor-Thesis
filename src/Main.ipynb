{
 "cells": [
  {
   "cell_type": "code",
   "execution_count": 1,
   "metadata": {},
   "outputs": [
    {
     "name": "stdout",
     "output_type": "stream",
     "text": [
      "file read\n",
      "strings converted to numbers\n",
      "q-values estimated\n",
      "ranks computed\n"
     ]
    }
   ],
   "source": [
    "from pycolator import *\n",
    "\n",
    "idCol = 'SpecId'\n",
    "scoreCol = 'NuXL:score'\n",
    "excluded = ['SpecId', 'Label', 'ScanNr', 'Peptide', 'Proteins', 'FDR', 'q-val', 'Rank']\n",
    "\n",
    "dSlow = readAndProcess('../Data/1-AChernev_080219_dir_HeLa_cyt_UCGA_slow.tsv', idCol, scoreCol)\n",
    "p = percolator(dSlow, idCol, excluded, suppressLog = True)"
   ]
  },
  {
   "cell_type": "code",
   "execution_count": 74,
   "metadata": {},
   "outputs": [
    {
     "data": {
      "text/plain": [
       "5108"
      ]
     },
     "execution_count": 74,
     "metadata": {},
     "output_type": "execute_result"
    }
   ],
   "source": [
    "df = p\n",
    "\n",
    "scores = [x for x in list(df.columns) if (x not in excluded)]\n",
    "\n",
    "ixFalse = list(df[df.Label == 0].index)\n",
    "\n",
    "falseTrain = df[scores].loc[ixFalse].values.tolist()\n",
    "trueTrain = df[scores][(df['q-val'] <= 0.05) & (df.Label == 1)].values.tolist()\n",
    "\n",
    "# compute training and response sets\n",
    "train = falseTrain + trueTrain\n",
    "classes = [0] * len(falseTrain) + [1] * len(trueTrain)\n",
    "\n",
    "W = svm.LinearSVC(dual = False, C = 1, class_weight = {0:1,1:1}).fit(train, classes)\n",
    "X = df[scores].values.tolist()\n",
    "df['testScore'] = W.decision_function(X)\n",
    "calcQ(df, 'testScore')\n",
    "len(df[df['q-val'] <= 0.01])"
   ]
  }
 ],
 "metadata": {
  "kernelspec": {
   "display_name": "Python 3",
   "language": "python",
   "name": "python3"
  },
  "language_info": {
   "codemirror_mode": {
    "name": "ipython",
    "version": 3
   },
   "file_extension": ".py",
   "mimetype": "text/x-python",
   "name": "python",
   "nbconvert_exporter": "python",
   "pygments_lexer": "ipython3",
   "version": "3.7.4"
  }
 },
 "nbformat": 4,
 "nbformat_minor": 2
}
