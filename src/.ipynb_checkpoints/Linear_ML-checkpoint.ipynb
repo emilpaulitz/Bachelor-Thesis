{
 "cells": [
  {
   "cell_type": "code",
   "execution_count": 1,
   "metadata": {},
   "outputs": [
    {
     "name": "stdout",
     "output_type": "stream",
     "text": [
      "file read\n",
      "strings converted to numbers\n",
      "q-values estimated\n",
      "ranks computed\n"
     ]
    },
    {
     "data": {
      "text/html": [
       "<div>\n",
       "<style scoped>\n",
       "    .dataframe tbody tr th:only-of-type {\n",
       "        vertical-align: middle;\n",
       "    }\n",
       "\n",
       "    .dataframe tbody tr th {\n",
       "        vertical-align: top;\n",
       "    }\n",
       "\n",
       "    .dataframe thead th {\n",
       "        text-align: right;\n",
       "    }\n",
       "</style>\n",
       "<table border=\"1\" class=\"dataframe\">\n",
       "  <thead>\n",
       "    <tr style=\"text-align: right;\">\n",
       "      <th></th>\n",
       "      <th>SpecId</th>\n",
       "      <th>Label</th>\n",
       "      <th>ScanNr</th>\n",
       "      <th>ExpMass</th>\n",
       "      <th>CalcMass</th>\n",
       "      <th>mass</th>\n",
       "      <th>peplen</th>\n",
       "      <th>charge2</th>\n",
       "      <th>charge3</th>\n",
       "      <th>charge4</th>\n",
       "      <th>...</th>\n",
       "      <th>precursor_purity</th>\n",
       "      <th>NuXL:XL_U</th>\n",
       "      <th>NuXL:XL_C</th>\n",
       "      <th>NuXL:XL_G</th>\n",
       "      <th>NuXL:XL_A</th>\n",
       "      <th>Peptide</th>\n",
       "      <th>Proteins</th>\n",
       "      <th>FDR</th>\n",
       "      <th>q-val</th>\n",
       "      <th>Rank</th>\n",
       "    </tr>\n",
       "  </thead>\n",
       "  <tbody>\n",
       "    <tr>\n",
       "      <th>15534</th>\n",
       "      <td>controllerType=0controllerNumber=1scan=8704</td>\n",
       "      <td>1</td>\n",
       "      <td>8704</td>\n",
       "      <td>1075.096069</td>\n",
       "      <td>1075.098716</td>\n",
       "      <td>1075.096069</td>\n",
       "      <td>40</td>\n",
       "      <td>0</td>\n",
       "      <td>1</td>\n",
       "      <td>0</td>\n",
       "      <td>...</td>\n",
       "      <td>1.000000</td>\n",
       "      <td>0</td>\n",
       "      <td>0</td>\n",
       "      <td>0</td>\n",
       "      <td>0</td>\n",
       "      <td>R.GGSGGSHGGGSGFGGESGGSYGGGEEASGSGGGYGGGSGK.S</td>\n",
       "      <td>sp|P35527|K1C9_HUMAN</td>\n",
       "      <td>0.0</td>\n",
       "      <td>0.0</td>\n",
       "      <td>1</td>\n",
       "    </tr>\n",
       "    <tr>\n",
       "      <th>15647</th>\n",
       "      <td>controllerType=0controllerNumber=1scan=8757</td>\n",
       "      <td>1</td>\n",
       "      <td>8757</td>\n",
       "      <td>1075.099487</td>\n",
       "      <td>1075.098716</td>\n",
       "      <td>1075.099487</td>\n",
       "      <td>40</td>\n",
       "      <td>0</td>\n",
       "      <td>1</td>\n",
       "      <td>0</td>\n",
       "      <td>...</td>\n",
       "      <td>1.000000</td>\n",
       "      <td>0</td>\n",
       "      <td>0</td>\n",
       "      <td>0</td>\n",
       "      <td>0</td>\n",
       "      <td>R.GGSGGSHGGGSGFGGESGGSYGGGEEASGSGGGYGGGSGK.S</td>\n",
       "      <td>sp|P35527|K1C9_HUMAN</td>\n",
       "      <td>0.0</td>\n",
       "      <td>0.0</td>\n",
       "      <td>1</td>\n",
       "    </tr>\n",
       "    <tr>\n",
       "      <th>12279</th>\n",
       "      <td>controllerType=0controllerNumber=1scan=7273</td>\n",
       "      <td>1</td>\n",
       "      <td>7273</td>\n",
       "      <td>906.114624</td>\n",
       "      <td>906.114606</td>\n",
       "      <td>906.114624</td>\n",
       "      <td>44</td>\n",
       "      <td>0</td>\n",
       "      <td>0</td>\n",
       "      <td>1</td>\n",
       "      <td>...</td>\n",
       "      <td>0.969195</td>\n",
       "      <td>0</td>\n",
       "      <td>0</td>\n",
       "      <td>0</td>\n",
       "      <td>0</td>\n",
       "      <td>R.GGSGGSHGGGSGFGGESGGSYGGGEEASGSGGGYGGGSGKSSHS.-</td>\n",
       "      <td>sp|P35527|K1C9_HUMAN</td>\n",
       "      <td>0.0</td>\n",
       "      <td>0.0</td>\n",
       "      <td>1</td>\n",
       "    </tr>\n",
       "    <tr>\n",
       "      <th>14073</th>\n",
       "      <td>controllerType=0controllerNumber=1scan=7991</td>\n",
       "      <td>1</td>\n",
       "      <td>7991</td>\n",
       "      <td>1336.114624</td>\n",
       "      <td>1336.114549</td>\n",
       "      <td>1336.114624</td>\n",
       "      <td>32</td>\n",
       "      <td>0</td>\n",
       "      <td>1</td>\n",
       "      <td>0</td>\n",
       "      <td>...</td>\n",
       "      <td>1.000000</td>\n",
       "      <td>0</td>\n",
       "      <td>0</td>\n",
       "      <td>0</td>\n",
       "      <td>0</td>\n",
       "      <td>K.KKEEEEDEEDEEDEEEEEDEEDEDEEEDDDDE.-</td>\n",
       "      <td>sp|P09429|HMGB1_HUMAN</td>\n",
       "      <td>0.0</td>\n",
       "      <td>0.0</td>\n",
       "      <td>1</td>\n",
       "    </tr>\n",
       "    <tr>\n",
       "      <th>14191</th>\n",
       "      <td>controllerType=0controllerNumber=1scan=8046</td>\n",
       "      <td>1</td>\n",
       "      <td>8046</td>\n",
       "      <td>1336.115234</td>\n",
       "      <td>1336.114549</td>\n",
       "      <td>1336.115234</td>\n",
       "      <td>32</td>\n",
       "      <td>0</td>\n",
       "      <td>1</td>\n",
       "      <td>0</td>\n",
       "      <td>...</td>\n",
       "      <td>0.992819</td>\n",
       "      <td>0</td>\n",
       "      <td>0</td>\n",
       "      <td>0</td>\n",
       "      <td>0</td>\n",
       "      <td>K.KKEEEEDEEDEEDEEEEEDEEDEDEEEDDDDE.-</td>\n",
       "      <td>sp|P09429|HMGB1_HUMAN</td>\n",
       "      <td>0.0</td>\n",
       "      <td>0.0</td>\n",
       "      <td>1</td>\n",
       "    </tr>\n",
       "  </tbody>\n",
       "</table>\n",
       "<p>5 rows × 64 columns</p>\n",
       "</div>"
      ],
      "text/plain": [
       "                                            SpecId  Label  ScanNr  \\\n",
       "15534  controllerType=0controllerNumber=1scan=8704      1    8704   \n",
       "15647  controllerType=0controllerNumber=1scan=8757      1    8757   \n",
       "12279  controllerType=0controllerNumber=1scan=7273      1    7273   \n",
       "14073  controllerType=0controllerNumber=1scan=7991      1    7991   \n",
       "14191  controllerType=0controllerNumber=1scan=8046      1    8046   \n",
       "\n",
       "           ExpMass     CalcMass         mass  peplen  charge2  charge3  \\\n",
       "15534  1075.096069  1075.098716  1075.096069      40        0        1   \n",
       "15647  1075.099487  1075.098716  1075.099487      40        0        1   \n",
       "12279   906.114624   906.114606   906.114624      44        0        0   \n",
       "14073  1336.114624  1336.114549  1336.114624      32        0        1   \n",
       "14191  1336.115234  1336.114549  1336.115234      32        0        1   \n",
       "\n",
       "       charge4  ...   precursor_purity  NuXL:XL_U  NuXL:XL_C  NuXL:XL_G  \\\n",
       "15534        0  ...           1.000000          0          0          0   \n",
       "15647        0  ...           1.000000          0          0          0   \n",
       "12279        1  ...           0.969195          0          0          0   \n",
       "14073        0  ...           1.000000          0          0          0   \n",
       "14191        0  ...           0.992819          0          0          0   \n",
       "\n",
       "       NuXL:XL_A                                           Peptide  \\\n",
       "15534          0      R.GGSGGSHGGGSGFGGESGGSYGGGEEASGSGGGYGGGSGK.S   \n",
       "15647          0      R.GGSGGSHGGGSGFGGESGGSYGGGEEASGSGGGYGGGSGK.S   \n",
       "12279          0  R.GGSGGSHGGGSGFGGESGGSYGGGEEASGSGGGYGGGSGKSSHS.-   \n",
       "14073          0              K.KKEEEEDEEDEEDEEEEEDEEDEDEEEDDDDE.-   \n",
       "14191          0              K.KKEEEEDEEDEEDEEEEEDEEDEDEEEDDDDE.-   \n",
       "\n",
       "                    Proteins  FDR  q-val  Rank  \n",
       "15534   sp|P35527|K1C9_HUMAN  0.0    0.0     1  \n",
       "15647   sp|P35527|K1C9_HUMAN  0.0    0.0     1  \n",
       "12279   sp|P35527|K1C9_HUMAN  0.0    0.0     1  \n",
       "14073  sp|P09429|HMGB1_HUMAN  0.0    0.0     1  \n",
       "14191  sp|P09429|HMGB1_HUMAN  0.0    0.0     1  \n",
       "\n",
       "[5 rows x 64 columns]"
      ]
     },
     "execution_count": 1,
     "metadata": {},
     "output_type": "execute_result"
    }
   ],
   "source": [
    "from processing import *\n",
    "\n",
    "idCol = 'SpecId'\n",
    "scoreCol = 'NuXL:score'\n",
    "\n",
    "# Read slow dataset\n",
    "df = readAndProcess('../Data/1-AChernev_080219_dir_HeLa_cyt_UCGA_slow.tsv', idCol, scoreCol)\n",
    "\n",
    "df.head()"
   ]
  },
  {
   "cell_type": "code",
   "execution_count": 2,
   "metadata": {},
   "outputs": [],
   "source": [
    "# scores to include in training\n",
    "scores = ['NuXL:total_loss_score','NuXL:ladder_score', 'NuXL:precursor_score']\n",
    "\n",
    "# evaluate learning method\n",
    "def evalLearning(mlObj, methodname = 'method', numTests = 500, scrs = scores):\n",
    "    ds = df[scrs]\n",
    "    \n",
    "    # choose numTests random indices from df\n",
    "    ixRand = rd.sample(range(min(df.index), max(df.index) + 1), k = numTests)\n",
    "        \n",
    "    # let the ML object predict the class for all of the random test rows\n",
    "    if (len(scrs) > 1):\n",
    "        prediction = mlObj.predict(ds.loc[ixRand,].values.tolist())\n",
    "    else:\n",
    "        prediction = mlObj.predict(ds.loc[ixRand].values.tolist())\n",
    "    \n",
    "    # retrieve corresponding NuXL scores\n",
    "    testScores = [df.loc[ixRand[i],'NuXL:score'] for i in range(numTests)]\n",
    "    \n",
    "    # plot the results\n",
    "    plt.xlabel('NuXL:score')\n",
    "    plt.ylabel('Classification by ' + methodname)\n",
    "    return plt.scatter(testScores, prediction)"
   ]
  },
  {
   "cell_type": "code",
   "execution_count": 3,
   "metadata": {},
   "outputs": [
    {
     "name": "stdout",
     "output_type": "stream",
     "text": [
      "Wall time: 24.9 ms\n"
     ]
    },
    {
     "name": "stderr",
     "output_type": "stream",
     "text": [
      "C:\\ProgramData\\Anaconda3\\lib\\site-packages\\ipykernel_launcher.py:1: UserWarning: Boolean Series key will be reindexed to match DataFrame index.\n",
      "  \"\"\"Entry point for launching an IPython kernel.\n"
     ]
    }
   ],
   "source": [
    "# collect true and false training data\n",
    "ixTrue = [x for x in df.index if (df['q-val'].iloc[x] <= 0.05 and df['Label'].iloc[x] == 1)]\n",
    "ixFalse = [x for x in df.index if (df['Label'].iloc[x] == 0)]\n",
    "ixFalse = rd.sample(ixFalse, k = len(ixTrue))\n",
    "\n",
    "falseTrain = df[scores].iloc[ixFalse].values.tolist()\n",
    "%time trueTrain = df[df['q-val'] <= 0.05][df.Label == 1][scores].values.tolist() #df[scores].iloc[ixTrue].values.tolist()\n",
    "train = falseTrain + trueTrain\n",
    "\n",
    "classes = [0] * len(falseTrain) + [1] * len(trueTrain)"
   ]
  },
  {
   "cell_type": "code",
   "execution_count": 4,
   "metadata": {},
   "outputs": [
    {
     "data": {
      "image/png": "[encoded data removed]",
      "text/plain": [
       "<Figure size 432x288 with 1 Axes>"
      ]
     },
     "metadata": {
      "needs_background": "light"
     },
     "output_type": "display_data"
    }
   ],
   "source": [
    "# train lda\n",
    "from sklearn import discriminant_analysis as da\n",
    "lda = da.LinearDiscriminantAnalysis()\n",
    "\n",
    "lda.fit(train, classes)\n",
    "\n",
    "evalLearning(lda, 'linear discriminant analysis')\n",
    "plt.savefig('../results/lda_compared_to_NuXLscore.png')"
   ]
  },
  {
   "cell_type": "markdown",
   "metadata": {},
   "source": [
    "Da der ladder score, vor allem im Vergleich zu den anderen ausgewählten scores, ähnlich einer Normalverteilung verteilt ist und tatsächlich ein deutlicher Unterschied im Mittelwert bei den positiv- und negativ-Beispielen zu sehen ist, probiere ich einmal, ein LDA-Modell nur damit zu trainieren. Das Ergebnis ist aber nicht vielversprechend."
   ]
  },
  {
   "cell_type": "code",
   "execution_count": 5,
   "metadata": {},
   "outputs": [
    {
     "data": {
      "text/plain": [
       "array([[<matplotlib.axes._subplots.AxesSubplot object at 0x000001784AD0BE48>,\n",
       "        <matplotlib.axes._subplots.AxesSubplot object at 0x000001784AF31D88>],\n",
       "       [<matplotlib.axes._subplots.AxesSubplot object at 0x000001784AF78988>,\n",
       "        <matplotlib.axes._subplots.AxesSubplot object at 0x000001784AFD64C8>]],\n",
       "      dtype=object)"
      ]
     },
     "execution_count": 5,
     "metadata": {},
     "output_type": "execute_result"
    },
    {
     "data": {
      "image/png": "[encoded data removed]",
      "text/plain": [
       "<Figure size 432x288 with 4 Axes>"
      ]
     },
     "metadata": {
      "needs_background": "light"
     },
     "output_type": "display_data"
    },
    {
     "data": {
      "image/png": "[encoded data removed]",
      "text/plain": [
       "<Figure size 432x288 with 4 Axes>"
      ]
     },
     "metadata": {
      "needs_background": "light"
     },
     "output_type": "display_data"
    }
   ],
   "source": [
    "df[scores].iloc[ixTrue].hist()\n",
    "df[scores].iloc[ixFalse].hist()"
   ]
  },
  {
   "cell_type": "code",
   "execution_count": 6,
   "metadata": {},
   "outputs": [
    {
     "data": {
      "image/png": "[encoded data removed]",
      "text/plain": [
       "<Figure size 432x288 with 1 Axes>"
      ]
     },
     "metadata": {
      "needs_background": "light"
     },
     "output_type": "display_data"
    }
   ],
   "source": [
    "# ladder score mit lda probieren\n",
    "lda = da.LinearDiscriminantAnalysis()\n",
    "\n",
    "ladderFalseTrain = [[i] for i in df['NuXL:ladder_score'].iloc[ixFalse]]\n",
    "ladderTrueTrain = [[i] for i in df['NuXL:ladder_score'].iloc[ixTrue]]\n",
    "ladderTrain = ladderFalseTrain + ladderTrueTrain\n",
    "\n",
    "lda.fit(ladderTrain, classes)\n",
    "\n",
    "evalLearning(lda, 'linear discriminant analysis', scrs = ['NuXL:ladder_score'])\n",
    "plt.savefig('../results/lda_of_ladder_score.png')"
   ]
  },
  {
   "cell_type": "code",
   "execution_count": 7,
   "metadata": {},
   "outputs": [
    {
     "name": "stderr",
     "output_type": "stream",
     "text": [
      "C:\\ProgramData\\Anaconda3\\lib\\site-packages\\sklearn\\linear_model\\logistic.py:432: FutureWarning: Default solver will be changed to 'lbfgs' in 0.22. Specify a solver to silence this warning.\n",
      "  FutureWarning)\n"
     ]
    },
    {
     "data": {
      "image/png": "[encoded data removed]",
      "text/plain": [
       "<Figure size 432x288 with 1 Axes>"
      ]
     },
     "metadata": {
      "needs_background": "light"
     },
     "output_type": "display_data"
    }
   ],
   "source": [
    "# train logistic regression\n",
    "from sklearn.linear_model import LogisticRegression\n",
    "lr = LogisticRegression()\n",
    "\n",
    "lr.fit(train, classes)\n",
    "\n",
    "evalLearning(lr, 'logistic regression')\n",
    "plt.savefig('../results/lr_compared_to_NuXLscore.png')"
   ]
  },
  {
   "cell_type": "code",
   "execution_count": 13,
   "metadata": {},
   "outputs": [
    {
     "name": "stderr",
     "output_type": "stream",
     "text": [
      "C:\\ProgramData\\Anaconda3\\lib\\site-packages\\sklearn\\svm\\base.py:193: FutureWarning: The default value of gamma will change from 'auto' to 'scale' in version 0.22 to account better for unscaled features. Set gamma explicitly to 'auto' or 'scale' to avoid this warning.\n",
      "  \"avoid this warning.\", FutureWarning)\n"
     ]
    },
    {
     "data": {
      "image/png": "[encoded data removed]",
      "text/plain": [
       "<Figure size 432x288 with 1 Axes>"
      ]
     },
     "metadata": {
      "needs_background": "light"
     },
     "output_type": "display_data"
    }
   ],
   "source": [
    "# train svm\n",
    "from sklearn import svm\n",
    "clf = svm.SVC(probability = True).fit(train, classes)\n",
    "\n",
    "evalLearning(clf, 'support vector classification')\n",
    "plt.savefig('../results/svm_compared_to_NuXLscore.png')"
   ]
  },
  {
   "cell_type": "code",
   "execution_count": 14,
   "metadata": {},
   "outputs": [
    {
     "data": {
      "text/plain": [
       "<matplotlib.collections.PathCollection at 0x1784bd42f88>"
      ]
     },
     "execution_count": 14,
     "metadata": {},
     "output_type": "execute_result"
    },
    {
     "data": {
      "image/png": "[encoded data removed]",
      "text/plain": [
       "<Figure size 432x288 with 1 Axes>"
      ]
     },
     "metadata": {
      "needs_background": "light"
     },
     "output_type": "display_data"
    }
   ],
   "source": [
    "ds = df[scores]\n",
    "numTests = 500\n",
    "\n",
    "# choose numTests random indices from df\n",
    "ixRand = rd.sample(range(min(df.index), max(df.index) + 1), k = numTests)\n",
    "\n",
    "# let the ML object predict the class for all of the random test rows\n",
    "prediction = [ls[1] for ls in clf.predict_log_proba(ds.loc[ixRand,].values.tolist())]\n",
    "\n",
    "# retrieve corresponding NuXL scores\n",
    "testScores = [df.loc[ixRand[i],'NuXL:score'] for i in range(numTests)]\n",
    "\n",
    "plt.scatter(testScores, prediction)"
   ]
  },
  {
   "cell_type": "code",
   "execution_count": 24,
   "metadata": {},
   "outputs": [
    {
     "name": "stdout",
     "output_type": "stream",
     "text": [
      "Wall time: 361 ms\n"
     ]
    },
    {
     "data": {
      "text/plain": [
       "<matplotlib.collections.PathCollection at 0x1784ad42c08>"
      ]
     },
     "execution_count": 24,
     "metadata": {},
     "output_type": "execute_result"
    },
    {
     "data": {
      "image/png": "[encoded data removed]",
      "text/plain": [
       "<Figure size 432x288 with 1 Axes>"
      ]
     },
     "metadata": {
      "needs_background": "light"
     },
     "output_type": "display_data"
    }
   ],
   "source": [
    "%time clf = svm.LinearSVC(max_iter = 100000).fit(train, classes)\n",
    "\n",
    "ds = df[scores]\n",
    "numTests = 500\n",
    "\n",
    "# choose numTests random indices from df\n",
    "ixRand = rd.sample(range(min(df.index), max(df.index) + 1), k = numTests)\n",
    "\n",
    "# let the ML object predict the class for all of the random test rows\n",
    "prediction = clf.decision_function(ds.loc[ixRand,].values.tolist())\n",
    "\n",
    "# retrieve corresponding NuXL scores\n",
    "testScores = [df.loc[ixRand[i],'NuXL:score'] for i in range(numTests)]\n",
    "\n",
    "plt.scatter(testScores, prediction)"
   ]
  }
 ],
 "metadata": {
  "kernelspec": {
   "display_name": "Python 3",
   "language": "python",
   "name": "python3"
  },
  "language_info": {
   "codemirror_mode": {
    "name": "ipython",
    "version": 3
   },
   "file_extension": ".py",
   "mimetype": "text/x-python",
   "name": "python",
   "nbconvert_exporter": "python",
   "pygments_lexer": "ipython3",
   "version": "3.7.4"
  }
 },
 "nbformat": 4,
 "nbformat_minor": 2
}
