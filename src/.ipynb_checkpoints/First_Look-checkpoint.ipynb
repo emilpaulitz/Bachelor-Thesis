{
 "cells": [
  {
   "cell_type": "code",
   "execution_count": 1,
   "metadata": {},
   "outputs": [],
   "source": [
    "# Import File\n",
    "import pandas as pd\n",
    "import numpy as np\n",
    "import matplotlib.pyplot as plt\n",
    "import random as rd\n",
    "\n",
    "# Read text file and turn it into a pandas data frame\n",
    "def DFfromTXT(fileName):\n",
    "    txt = open(fileName,'r').read()\n",
    "\n",
    "    # create list of lists from txt\n",
    "    lines = txt.splitlines()\n",
    "    xs = [l.split('\\t') for l in lines]\n",
    "\n",
    "    # join the listed proteins if there is more than one\n",
    "    for x in xs:\n",
    "        while (len(x) > len(xs[0])):\n",
    "            x[-2:] = [', '.join(x[-2:])]\n",
    "\n",
    "    # create a pandas DataFrame from the acquired data\n",
    "    df = pd.DataFrame(xs[1:], index = range(len(xs[1:])), columns = xs[0])\n",
    "    return df\n",
    "\n",
    "# add columns containing FDR and the q-value respectively\n",
    "def calcQ(df, scoreColName):\n",
    "    df[scoreColName] = [float(i) for i in df[scoreColName]]\n",
    "    \n",
    "    # Sort by score columns\n",
    "    df.sort_values(scoreColName, ascending=False, inplace = True)\n",
    "\n",
    "    # Replace -1 by 0 and turn every element into a number\n",
    "    df = df[df.Label != '-']\n",
    "    df['Label'].replace(to_replace = '1', value = 1, inplace = True)\n",
    "    df['Label'].replace(to_replace = '-1', value = 0, inplace = True)\n",
    "\n",
    "    # calculate FDR\n",
    "    df['FDR'] = 1 - (df['Label'].cumsum()/[i + 1 for i in range(len(df.index))])\n",
    "\n",
    "    # calculate q-value\n",
    "    df['q-val'] = df['FDR'][::-1].cummin()[::-1]\n",
    "    \n",
    "    return df\n",
    "\n",
    "# add a column containing the Ranks of entries with the same id\n",
    "def addRanks(df, idColName, scoreColName):\n",
    "    # Sort by score to have the ranks in increasing order, and by ID to group same IDs\n",
    "    df.sort_values(scoreColName, inplace = True, ascending = False)\n",
    "    df.sort_values(idColName, inplace = True, kind = 'mergesort')\n",
    "\n",
    "    # for better performance iterate over lists\n",
    "    ids = list(df[idColName])\n",
    "    ranks = []\n",
    "    lastId = ''\n",
    "\n",
    "    # iterate over the sorted IDs, increasing the rank for every occurence of the same ID\n",
    "    for currId in ids:\n",
    "        if (currId == lastId):\n",
    "            currRank += 1\n",
    "        else:\n",
    "            currRank = 1\n",
    "            lastId = currId\n",
    "        ranks += [currRank]\n",
    "\n",
    "    df['Rank'] = ranks\n",
    "    return df\n",
    "\n",
    "# Read the specified file, calculate FDR, q-value and ranks and sort it according to its score\n",
    "def readAndProcess(fileName, idColName,  scoreColName):\n",
    "    d = DFfromTXT(fileName)\n",
    "    d1 = calcQ(d, scoreColName)\n",
    "    df = addRanks(d1, idColName, scoreColName)\n",
    "    df.sort_values(scoreColName, inplace = True, ascending = False)\n",
    "    return df    \n",
    "\n",
    "# Plot Pseudo ROC of the df including colums 'q-val' in x = [0,xMax] for all entries (with col 'Rank' being 1, if specified)\n",
    "def pseudoROC(df, xMax, onlyFirstRank):\n",
    "    if (onlyFirstRank):\n",
    "        qVals = [df.loc[i, 'q-val'] for i in df.index if (df.loc[i,'q-val'] <= xMax and df.loc[i, 'Rank'] == 1)]\n",
    "    else: \n",
    "        qVals = [df.loc[i, 'q-val'] for i in df.index if (df.loc[i,'q-val'] <= xMax)]\n",
    "    plt.xlim(0,xMax)\n",
    "    plt.ylim(0,len(qVals))\n",
    "    plt.plot(qVals, range(len(qVals)))"
   ]
  },
  {
   "cell_type": "code",
   "execution_count": 2,
   "metadata": {},
   "outputs": [
    {
     "data": {
      "text/html": [
       "<div>\n",
       "<style scoped>\n",
       "    .dataframe tbody tr th:only-of-type {\n",
       "        vertical-align: middle;\n",
       "    }\n",
       "\n",
       "    .dataframe tbody tr th {\n",
       "        vertical-align: top;\n",
       "    }\n",
       "\n",
       "    .dataframe thead th {\n",
       "        text-align: right;\n",
       "    }\n",
       "</style>\n",
       "<table border=\"1\" class=\"dataframe\">\n",
       "  <thead>\n",
       "    <tr style=\"text-align: right;\">\n",
       "      <th></th>\n",
       "      <th>SpecId</th>\n",
       "      <th>Label</th>\n",
       "      <th>ScanNr</th>\n",
       "      <th>ExpMass</th>\n",
       "      <th>CalcMass</th>\n",
       "      <th>mass</th>\n",
       "      <th>peplen</th>\n",
       "      <th>charge2</th>\n",
       "      <th>charge3</th>\n",
       "      <th>charge4</th>\n",
       "      <th>...</th>\n",
       "      <th>precursor_purity</th>\n",
       "      <th>NuXL:XL_U</th>\n",
       "      <th>NuXL:XL_C</th>\n",
       "      <th>NuXL:XL_G</th>\n",
       "      <th>NuXL:XL_A</th>\n",
       "      <th>Peptide</th>\n",
       "      <th>Proteins</th>\n",
       "      <th>FDR</th>\n",
       "      <th>q-val</th>\n",
       "      <th>Rank</th>\n",
       "    </tr>\n",
       "  </thead>\n",
       "  <tbody>\n",
       "    <tr>\n",
       "      <th>9450</th>\n",
       "      <td>controllerType=0controllerNumber=1scan=8704</td>\n",
       "      <td>1</td>\n",
       "      <td>8704</td>\n",
       "      <td>1075.096069335940001</td>\n",
       "      <td>1075.098715746004473</td>\n",
       "      <td>1075.096069335940001</td>\n",
       "      <td>40</td>\n",
       "      <td>0</td>\n",
       "      <td>1</td>\n",
       "      <td>0</td>\n",
       "      <td>...</td>\n",
       "      <td>1.0</td>\n",
       "      <td>0</td>\n",
       "      <td>0</td>\n",
       "      <td>0</td>\n",
       "      <td>0</td>\n",
       "      <td>R.GGSGGSHGGGSGFGGESGGSYGGGEEASGSGGGYGGGSGK.S</td>\n",
       "      <td>sp|P35527|K1C9_HUMAN</td>\n",
       "      <td>0.0</td>\n",
       "      <td>0.0</td>\n",
       "      <td>1</td>\n",
       "    </tr>\n",
       "    <tr>\n",
       "      <th>9523</th>\n",
       "      <td>controllerType=0controllerNumber=1scan=8757</td>\n",
       "      <td>1</td>\n",
       "      <td>8757</td>\n",
       "      <td>1075.099487304690001</td>\n",
       "      <td>1075.098715746004473</td>\n",
       "      <td>1075.099487304690001</td>\n",
       "      <td>40</td>\n",
       "      <td>0</td>\n",
       "      <td>1</td>\n",
       "      <td>0</td>\n",
       "      <td>...</td>\n",
       "      <td>1.0</td>\n",
       "      <td>0</td>\n",
       "      <td>0</td>\n",
       "      <td>0</td>\n",
       "      <td>0</td>\n",
       "      <td>R.GGSGGSHGGGSGFGGESGGSYGGGEEASGSGGGYGGGSGK.S</td>\n",
       "      <td>sp|P35527|K1C9_HUMAN</td>\n",
       "      <td>0.0</td>\n",
       "      <td>0.0</td>\n",
       "      <td>1</td>\n",
       "    </tr>\n",
       "    <tr>\n",
       "      <th>7438</th>\n",
       "      <td>controllerType=0controllerNumber=1scan=7273</td>\n",
       "      <td>1</td>\n",
       "      <td>7273</td>\n",
       "      <td>906.114624023437955</td>\n",
       "      <td>906.114605851646047</td>\n",
       "      <td>906.114624023437955</td>\n",
       "      <td>44</td>\n",
       "      <td>0</td>\n",
       "      <td>0</td>\n",
       "      <td>1</td>\n",
       "      <td>...</td>\n",
       "      <td>0.969195320917585</td>\n",
       "      <td>0</td>\n",
       "      <td>0</td>\n",
       "      <td>0</td>\n",
       "      <td>0</td>\n",
       "      <td>R.GGSGGSHGGGSGFGGESGGSYGGGEEASGSGGGYGGGSGKSSHS.-</td>\n",
       "      <td>sp|P35527|K1C9_HUMAN</td>\n",
       "      <td>0.0</td>\n",
       "      <td>0.0</td>\n",
       "      <td>1</td>\n",
       "    </tr>\n",
       "    <tr>\n",
       "      <th>8544</th>\n",
       "      <td>controllerType=0controllerNumber=1scan=7991</td>\n",
       "      <td>1</td>\n",
       "      <td>7991</td>\n",
       "      <td>1336.114624023440228</td>\n",
       "      <td>1336.114549096904966</td>\n",
       "      <td>1336.114624023440228</td>\n",
       "      <td>32</td>\n",
       "      <td>0</td>\n",
       "      <td>1</td>\n",
       "      <td>0</td>\n",
       "      <td>...</td>\n",
       "      <td>1.0</td>\n",
       "      <td>0</td>\n",
       "      <td>0</td>\n",
       "      <td>0</td>\n",
       "      <td>0</td>\n",
       "      <td>K.KKEEEEDEEDEEDEEEEEDEEDEDEEEDDDDE.-</td>\n",
       "      <td>sp|P09429|HMGB1_HUMAN</td>\n",
       "      <td>0.0</td>\n",
       "      <td>0.0</td>\n",
       "      <td>1</td>\n",
       "    </tr>\n",
       "    <tr>\n",
       "      <th>8614</th>\n",
       "      <td>controllerType=0controllerNumber=1scan=8046</td>\n",
       "      <td>1</td>\n",
       "      <td>8046</td>\n",
       "      <td>1336.115234375</td>\n",
       "      <td>1336.114549096904966</td>\n",
       "      <td>1336.115234375</td>\n",
       "      <td>32</td>\n",
       "      <td>0</td>\n",
       "      <td>1</td>\n",
       "      <td>0</td>\n",
       "      <td>...</td>\n",
       "      <td>0.992818714425246</td>\n",
       "      <td>0</td>\n",
       "      <td>0</td>\n",
       "      <td>0</td>\n",
       "      <td>0</td>\n",
       "      <td>K.KKEEEEDEEDEEDEEEEEDEEDEDEEEDDDDE.-</td>\n",
       "      <td>sp|P09429|HMGB1_HUMAN</td>\n",
       "      <td>0.0</td>\n",
       "      <td>0.0</td>\n",
       "      <td>1</td>\n",
       "    </tr>\n",
       "  </tbody>\n",
       "</table>\n",
       "<p>5 rows × 64 columns</p>\n",
       "</div>"
      ],
      "text/plain": [
       "                                           SpecId  Label ScanNr  \\\n",
       "9450  controllerType=0controllerNumber=1scan=8704      1   8704   \n",
       "9523  controllerType=0controllerNumber=1scan=8757      1   8757   \n",
       "7438  controllerType=0controllerNumber=1scan=7273      1   7273   \n",
       "8544  controllerType=0controllerNumber=1scan=7991      1   7991   \n",
       "8614  controllerType=0controllerNumber=1scan=8046      1   8046   \n",
       "\n",
       "                   ExpMass              CalcMass                  mass peplen  \\\n",
       "9450  1075.096069335940001  1075.098715746004473  1075.096069335940001     40   \n",
       "9523  1075.099487304690001  1075.098715746004473  1075.099487304690001     40   \n",
       "7438   906.114624023437955   906.114605851646047   906.114624023437955     44   \n",
       "8544  1336.114624023440228  1336.114549096904966  1336.114624023440228     32   \n",
       "8614        1336.115234375  1336.114549096904966        1336.115234375     32   \n",
       "\n",
       "     charge2 charge3 charge4 ...    precursor_purity NuXL:XL_U NuXL:XL_C  \\\n",
       "9450       0       1       0 ...                 1.0         0         0   \n",
       "9523       0       1       0 ...                 1.0         0         0   \n",
       "7438       0       0       1 ...   0.969195320917585         0         0   \n",
       "8544       0       1       0 ...                 1.0         0         0   \n",
       "8614       0       1       0 ...   0.992818714425246         0         0   \n",
       "\n",
       "     NuXL:XL_G NuXL:XL_A                                           Peptide  \\\n",
       "9450         0         0      R.GGSGGSHGGGSGFGGESGGSYGGGEEASGSGGGYGGGSGK.S   \n",
       "9523         0         0      R.GGSGGSHGGGSGFGGESGGSYGGGEEASGSGGGYGGGSGK.S   \n",
       "7438         0         0  R.GGSGGSHGGGSGFGGESGGSYGGGEEASGSGGGYGGGSGKSSHS.-   \n",
       "8544         0         0              K.KKEEEEDEEDEEDEEEEEDEEDEDEEEDDDDE.-   \n",
       "8614         0         0              K.KKEEEEDEEDEEDEEEEEDEEDEDEEEDDDDE.-   \n",
       "\n",
       "                   Proteins  FDR q-val Rank  \n",
       "9450   sp|P35527|K1C9_HUMAN  0.0   0.0    1  \n",
       "9523   sp|P35527|K1C9_HUMAN  0.0   0.0    1  \n",
       "7438   sp|P35527|K1C9_HUMAN  0.0   0.0    1  \n",
       "8544  sp|P09429|HMGB1_HUMAN  0.0   0.0    1  \n",
       "8614  sp|P09429|HMGB1_HUMAN  0.0   0.0    1  \n",
       "\n",
       "[5 rows x 64 columns]"
      ]
     },
     "execution_count": 2,
     "metadata": {},
     "output_type": "execute_result"
    }
   ],
   "source": [
    "idCol = 'SpecId'\n",
    "scoreCol = 'NuXL:score'\n",
    "\n",
    "dFast = readAndProcess('../Data/1-AChernev_080219_dir_HeLa_cyt_UCGA_fast.tsv', idCol, scoreCol)\n",
    "dSlow = readAndProcess('../Data/1-AChernev_080219_dir_HeLa_cyt_UCGA_slow.tsv', idCol, scoreCol)\n",
    "\n",
    "dFast['NuXL:isXL'] = [int(x) for x in dFast['NuXL:isXL']]\n",
    "dSlow['NuXL:isXL'] = [int(x) for x in dSlow['NuXL:isXL']]\n",
    "\n",
    "dFast.head()"
   ]
  },
  {
   "cell_type": "code",
   "execution_count": 3,
   "metadata": {},
   "outputs": [
    {
     "data": {
      "image/png": "[encoded data removed]",
      "text/plain": [
       "<Figure size 432x288 with 1 Axes>"
      ]
     },
     "metadata": {
      "needs_background": "light"
     },
     "output_type": "display_data"
    }
   ],
   "source": [
    "# Plot data from slow scoring method using only rank 1\n",
    "dSlXL = dSlow[dSlow['NuXL:isXL'] == 1]\n",
    "dSlNoXL = dSlow[dSlow['NuXL:isXL'] == 0]\n",
    "pseudoROC(dSlNoXL, 0.05, True)\n",
    "pseudoROC(dSlXL, 0.05, True)"
   ]
  },
  {
   "cell_type": "code",
   "execution_count": 4,
   "metadata": {},
   "outputs": [
    {
     "data": {
      "image/png": "[encoded data removed]",
      "text/plain": [
       "<Figure size 432x288 with 1 Axes>"
      ]
     },
     "metadata": {
      "needs_background": "light"
     },
     "output_type": "display_data"
    }
   ],
   "source": [
    "# Plot data from fast scoring method using only rank 1\n",
    "dFaXL = dFast[dFast['NuXL:isXL'] == 1]\n",
    "dFaNoXL = dFast[dFast['NuXL:isXL'] == 0]\n",
    "pseudoROC(dFaNoXL, 0.05, True)\n",
    "pseudoROC(dFaXL, 0.05, True)"
   ]
  },
  {
   "cell_type": "code",
   "execution_count": 5,
   "metadata": {},
   "outputs": [
    {
     "data": {
      "image/png": "[encoded data removed]",
      "text/plain": [
       "<Figure size 432x288 with 1 Axes>"
      ]
     },
     "metadata": {
      "needs_background": "light"
     },
     "output_type": "display_data"
    }
   ],
   "source": [
    "# Plot data from fast scoring method using all ranks\n",
    "pseudoROC(dFaNoXL, 0.05, False)\n",
    "pseudoROC(dFaXL, 0.05, False)"
   ]
  },
  {
   "cell_type": "code",
   "execution_count": 6,
   "metadata": {},
   "outputs": [
    {
     "data": {
      "text/plain": [
       "[<matplotlib.lines.Line2D at 0x1ed778bd608>]"
      ]
     },
     "execution_count": 6,
     "metadata": {},
     "output_type": "execute_result"
    },
    {
     "data": {
      "image/png": "[encoded data removed]",
      "text/plain": [
       "<Figure size 432x288 with 1 Axes>"
      ]
     },
     "metadata": {
      "needs_background": "light"
     },
     "output_type": "display_data"
    }
   ],
   "source": [
    "df = dSlow\n",
    "x = [float(x) for x in df[scoreCol]]\n",
    "y = [float(x) for x in df['FDR']]\n",
    "plt.plot(x, y)"
   ]
  },
  {
   "cell_type": "code",
   "execution_count": 7,
   "metadata": {},
   "outputs": [],
   "source": [
    "# collect true and false training data\n",
    "scores = ['NuXL:total_loss_score','NuXL:ladder_score', 'NuXL:precursor_score']\n",
    "for i in df[scores]:\n",
    "    df[i] = [float(x) for x in df[i]]\n",
    "    \n",
    "ixTrue = [x for x in df.index if (df['q-val'].iloc[x] <= 0.05 and df['Label'].iloc[x] == 1)]\n",
    "ixFalse = [x for x in df.index if (df['Label'].iloc[x] == 0)]\n",
    "ixFalse = rd.choices(ixFalse, k = len(ixTrue))"
   ]
  },
  {
   "cell_type": "code",
   "execution_count": 18,
   "metadata": {},
   "outputs": [],
   "source": [
    "# evaluate learning method\n",
    "def evalLearning(mlObj, methodname = 'method', numTests = 500):\n",
    "    ds = df[scores]\n",
    "    ixRand = []\n",
    "    \n",
    "    for i in range(numTests):\n",
    "        ixRand += [rd.randint(min(df.index), max(df.index))]\n",
    "        \n",
    "    prediction = mlObj.predict([list(ds.loc[ixRand[i],]) for i in range(numTests)])\n",
    "    testScores = [df.loc[ixRand[i],'NuXL:score'] for i in range(numTests)]\n",
    "    \n",
    "    plt.xlabel('NuXL:score')\n",
    "    plt.ylabel('Classification by ' + methodname)\n",
    "    return plt.scatter(testScores, prediction)"
   ]
  },
  {
   "cell_type": "code",
   "execution_count": 22,
   "metadata": {},
   "outputs": [
    {
     "data": {
      "image/png": "[encoded data removed]",
      "text/plain": [
       "<Figure size 432x288 with 1 Axes>"
      ]
     },
     "metadata": {
      "needs_background": "light"
     },
     "output_type": "display_data"
    }
   ],
   "source": [
    "# train lda\n",
    "from sklearn import discriminant_analysis as da\n",
    "lda = da.LinearDiscriminantAnalysis()\n",
    "\n",
    "falseTrain = df[scores].iloc[ixFalse].values.tolist()\n",
    "trueTrain = df[scores].iloc[ixTrue].values.tolist()\n",
    "train = falseTrain + trueTrain\n",
    "\n",
    "classes = [0] * len(falseTrain) + [1] * len(trueTrain)\n",
    "lda.fit(train, classes)\n",
    "\n",
    "evalLearning(lda, 'linear discriminant analysis')\n",
    "plt.savefig('lda_compared_to_NuXLscore.png')"
   ]
  },
  {
   "cell_type": "code",
   "execution_count": 26,
   "metadata": {},
   "outputs": [
    {
     "name": "stderr",
     "output_type": "stream",
     "text": [
      "C:\\ProgramData\\Anaconda3\\lib\\site-packages\\sklearn\\linear_model\\logistic.py:432: FutureWarning: Default solver will be changed to 'lbfgs' in 0.22. Specify a solver to silence this warning.\n",
      "  FutureWarning)\n"
     ]
    },
    {
     "data": {
      "image/png": "[encoded data removed]",
      "text/plain": [
       "<Figure size 432x288 with 1 Axes>"
      ]
     },
     "metadata": {
      "needs_background": "light"
     },
     "output_type": "display_data"
    }
   ],
   "source": [
    "# train logistic regression\n",
    "from sklearn.linear_model import LogisticRegression\n",
    "lr = LogisticRegression()\n",
    "\n",
    "lr.fit(train, classes)\n",
    "\n",
    "evalLearning(lr, 'logistic regression')\n",
    "plt.savefig('../results/lr_compared_to_NuXLscore.png')"
   ]
  },
  {
   "cell_type": "code",
   "execution_count": 27,
   "metadata": {},
   "outputs": [
    {
     "name": "stderr",
     "output_type": "stream",
     "text": [
      "C:\\ProgramData\\Anaconda3\\lib\\site-packages\\sklearn\\svm\\base.py:193: FutureWarning: The default value of gamma will change from 'auto' to 'scale' in version 0.22 to account better for unscaled features. Set gamma explicitly to 'auto' or 'scale' to avoid this warning.\n",
      "  \"avoid this warning.\", FutureWarning)\n"
     ]
    },
    {
     "data": {
      "image/png": "[encoded data removed]",
      "text/plain": [
       "<Figure size 432x288 with 1 Axes>"
      ]
     },
     "metadata": {
      "needs_background": "light"
     },
     "output_type": "display_data"
    }
   ],
   "source": [
    "# train svm\n",
    "from sklearn import svm\n",
    "clf = svm.SVC().fit(train, classes)\n",
    "\n",
    "evalLearning(clf, 'support vector classification')\n",
    "plt.savefig('../results/svm_compared_to_NuXLscore.png')"
   ]
  }
 ],
 "metadata": {
  "kernelspec": {
   "display_name": "Python 3",
   "language": "python",
   "name": "python3"
  },
  "language_info": {
   "codemirror_mode": {
    "name": "ipython",
    "version": 3
   },
   "file_extension": ".py",
   "mimetype": "text/x-python",
   "name": "python",
   "nbconvert_exporter": "python",
   "pygments_lexer": "ipython3",
   "version": "3.7.4"
  }
 },
 "nbformat": 4,
 "nbformat_minor": 2
}
