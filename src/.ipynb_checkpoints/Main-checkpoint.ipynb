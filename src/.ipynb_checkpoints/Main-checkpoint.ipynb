{
 "cells": [
  {
   "cell_type": "code",
   "execution_count": 1,
   "metadata": {
    "scrolled": true
   },
   "outputs": [
    {
     "name": "stdout",
     "output_type": "stream",
     "text": [
      "file read\n",
      "strings converted to numbers\n",
      "q-values estimated\n",
      "ranks computed\n",
      "features normed\n",
      "file ready\n"
     ]
    }
   ],
   "source": [
    "from pycolator import *\n",
    "\n",
    "idCol = 'SpecId'\n",
    "scoreCol = 'NuXL:score'\n",
    "excluded = ['SpecId', 'Label', 'ScanNr', 'Peptide', 'Proteins', 'FDR', 'q-val', 'class-specific_q-val', 'Rank', 'temp_score', 'percolator_score']\n",
    "\n",
    "dSlow = readAndProcess('../data/1-AChernev_080219_dir_HeLa_cyt_UCGA_slow.tsv', idCol, scoreCol, excludedCols = excluded)"
   ]
  },
  {
   "cell_type": "code",
   "execution_count": 2,
   "metadata": {
    "scrolled": true
   },
   "outputs": [
    {
     "name": "stdout",
     "output_type": "stream",
     "text": [
      "Training in iteration 1 with split 1/3 starts!\n"
     ]
    },
    {
     "name": "stderr",
     "output_type": "stream",
     "text": [
      "C:\\Users\\emilp\\Documents\\Uni\\Bachelorarbeit\\Bachelor-Thesis\\src\\pycolator.py:240: SettingWithCopyWarning: \n",
      "A value is trying to be set on a copy of a slice from a DataFrame.\n",
      "Try using .loc[row_indexer,col_indexer] = value instead\n",
      "\n",
      "See the caveats in the documentation: http://pandas.pydata.org/pandas-docs/stable/indexing.html#indexing-view-versus-copy\n",
      "  validate[scoreNameTemp] = clf.decision_function(X)\n",
      "C:\\Users\\emilp\\Documents\\Uni\\Bachelorarbeit\\Bachelor-Thesis\\src\\pycolator.py:41: SettingWithCopyWarning: \n",
      "A value is trying to be set on a copy of a slice from a DataFrame\n",
      "\n",
      "See the caveats in the documentation: http://pandas.pydata.org/pandas-docs/stable/indexing.html#indexing-view-versus-copy\n",
      "  df.sort_values(scoreColName, ascending=False, inplace = True)\n",
      "C:\\Users\\emilp\\AppData\\Roaming\\Python\\Python37\\site-packages\\pandas\\core\\generic.py:5890: SettingWithCopyWarning: \n",
      "A value is trying to be set on a copy of a slice from a DataFrame\n",
      "\n",
      "See the caveats in the documentation: http://pandas.pydata.org/pandas-docs/stable/indexing.html#indexing-view-versus-copy\n",
      "  self._update_inplace(new_data)\n",
      "C:\\Users\\emilp\\Documents\\Uni\\Bachelorarbeit\\Bachelor-Thesis\\src\\pycolator.py:43: SettingWithCopyWarning: \n",
      "A value is trying to be set on a copy of a slice from a DataFrame.\n",
      "Try using .loc[row_indexer,col_indexer] = value instead\n",
      "\n",
      "See the caveats in the documentation: http://pandas.pydata.org/pandas-docs/stable/indexing.html#indexing-view-versus-copy\n",
      "  df['FDR'] = 1 - (df[labelColName].cumsum()/[i + 1 for i in range(len(df.index))])\n",
      "C:\\Users\\emilp\\Documents\\Uni\\Bachelorarbeit\\Bachelor-Thesis\\src\\pycolator.py:44: SettingWithCopyWarning: \n",
      "A value is trying to be set on a copy of a slice from a DataFrame.\n",
      "Try using .loc[row_indexer,col_indexer] = value instead\n",
      "\n",
      "See the caveats in the documentation: http://pandas.pydata.org/pandas-docs/stable/indexing.html#indexing-view-versus-copy\n",
      "  df['q-val'] = df['FDR'][::-1].cummin()[::-1]\n",
      "C:\\Users\\emilp\\Documents\\Uni\\Bachelorarbeit\\Bachelor-Thesis\\src\\pycolator.py:246: SettingWithCopyWarning: \n",
      "A value is trying to be set on a copy of a slice from a DataFrame.\n",
      "Try using .loc[row_indexer,col_indexer] = value instead\n",
      "\n",
      "See the caveats in the documentation: http://pandas.pydata.org/pandas-docs/stable/indexing.html#indexing-view-versus-copy\n",
      "  validate[scoreName] = (validate[scoreNameTemp] - qThreshold) / (qThreshold - decoyMedian)\n"
     ]
    },
    {
     "name": "stdout",
     "output_type": "stream",
     "text": [
      "Training in iteration 1 with split 2/3 starts!\n"
     ]
    },
    {
     "name": "stderr",
     "output_type": "stream",
     "text": [
      "C:\\Users\\emilp\\Documents\\Uni\\Bachelorarbeit\\Bachelor-Thesis\\src\\pycolator.py:240: SettingWithCopyWarning: \n",
      "A value is trying to be set on a copy of a slice from a DataFrame.\n",
      "Try using .loc[row_indexer,col_indexer] = value instead\n",
      "\n",
      "See the caveats in the documentation: http://pandas.pydata.org/pandas-docs/stable/indexing.html#indexing-view-versus-copy\n",
      "  validate[scoreNameTemp] = clf.decision_function(X)\n",
      "C:\\Users\\emilp\\Documents\\Uni\\Bachelorarbeit\\Bachelor-Thesis\\src\\pycolator.py:41: SettingWithCopyWarning: \n",
      "A value is trying to be set on a copy of a slice from a DataFrame\n",
      "\n",
      "See the caveats in the documentation: http://pandas.pydata.org/pandas-docs/stable/indexing.html#indexing-view-versus-copy\n",
      "  df.sort_values(scoreColName, ascending=False, inplace = True)\n",
      "C:\\Users\\emilp\\AppData\\Roaming\\Python\\Python37\\site-packages\\pandas\\core\\generic.py:5890: SettingWithCopyWarning: \n",
      "A value is trying to be set on a copy of a slice from a DataFrame\n",
      "\n",
      "See the caveats in the documentation: http://pandas.pydata.org/pandas-docs/stable/indexing.html#indexing-view-versus-copy\n",
      "  self._update_inplace(new_data)\n",
      "C:\\Users\\emilp\\Documents\\Uni\\Bachelorarbeit\\Bachelor-Thesis\\src\\pycolator.py:43: SettingWithCopyWarning: \n",
      "A value is trying to be set on a copy of a slice from a DataFrame.\n",
      "Try using .loc[row_indexer,col_indexer] = value instead\n",
      "\n",
      "See the caveats in the documentation: http://pandas.pydata.org/pandas-docs/stable/indexing.html#indexing-view-versus-copy\n",
      "  df['FDR'] = 1 - (df[labelColName].cumsum()/[i + 1 for i in range(len(df.index))])\n",
      "C:\\Users\\emilp\\Documents\\Uni\\Bachelorarbeit\\Bachelor-Thesis\\src\\pycolator.py:44: SettingWithCopyWarning: \n",
      "A value is trying to be set on a copy of a slice from a DataFrame.\n",
      "Try using .loc[row_indexer,col_indexer] = value instead\n",
      "\n",
      "See the caveats in the documentation: http://pandas.pydata.org/pandas-docs/stable/indexing.html#indexing-view-versus-copy\n",
      "  df['q-val'] = df['FDR'][::-1].cummin()[::-1]\n",
      "C:\\Users\\emilp\\Documents\\Uni\\Bachelorarbeit\\Bachelor-Thesis\\src\\pycolator.py:246: SettingWithCopyWarning: \n",
      "A value is trying to be set on a copy of a slice from a DataFrame.\n",
      "Try using .loc[row_indexer,col_indexer] = value instead\n",
      "\n",
      "See the caveats in the documentation: http://pandas.pydata.org/pandas-docs/stable/indexing.html#indexing-view-versus-copy\n",
      "  validate[scoreName] = (validate[scoreNameTemp] - qThreshold) / (qThreshold - decoyMedian)\n"
     ]
    },
    {
     "name": "stdout",
     "output_type": "stream",
     "text": [
      "Training in iteration 1 with split 3/3 starts!\n"
     ]
    },
    {
     "name": "stderr",
     "output_type": "stream",
     "text": [
      "C:\\Users\\emilp\\Documents\\Uni\\Bachelorarbeit\\Bachelor-Thesis\\src\\pycolator.py:240: SettingWithCopyWarning: \n",
      "A value is trying to be set on a copy of a slice from a DataFrame.\n",
      "Try using .loc[row_indexer,col_indexer] = value instead\n",
      "\n",
      "See the caveats in the documentation: http://pandas.pydata.org/pandas-docs/stable/indexing.html#indexing-view-versus-copy\n",
      "  validate[scoreNameTemp] = clf.decision_function(X)\n",
      "C:\\Users\\emilp\\Documents\\Uni\\Bachelorarbeit\\Bachelor-Thesis\\src\\pycolator.py:41: SettingWithCopyWarning: \n",
      "A value is trying to be set on a copy of a slice from a DataFrame\n",
      "\n",
      "See the caveats in the documentation: http://pandas.pydata.org/pandas-docs/stable/indexing.html#indexing-view-versus-copy\n",
      "  df.sort_values(scoreColName, ascending=False, inplace = True)\n",
      "C:\\Users\\emilp\\AppData\\Roaming\\Python\\Python37\\site-packages\\pandas\\core\\generic.py:5890: SettingWithCopyWarning: \n",
      "A value is trying to be set on a copy of a slice from a DataFrame\n",
      "\n",
      "See the caveats in the documentation: http://pandas.pydata.org/pandas-docs/stable/indexing.html#indexing-view-versus-copy\n",
      "  self._update_inplace(new_data)\n",
      "C:\\Users\\emilp\\Documents\\Uni\\Bachelorarbeit\\Bachelor-Thesis\\src\\pycolator.py:43: SettingWithCopyWarning: \n",
      "A value is trying to be set on a copy of a slice from a DataFrame.\n",
      "Try using .loc[row_indexer,col_indexer] = value instead\n",
      "\n",
      "See the caveats in the documentation: http://pandas.pydata.org/pandas-docs/stable/indexing.html#indexing-view-versus-copy\n",
      "  df['FDR'] = 1 - (df[labelColName].cumsum()/[i + 1 for i in range(len(df.index))])\n",
      "C:\\Users\\emilp\\Documents\\Uni\\Bachelorarbeit\\Bachelor-Thesis\\src\\pycolator.py:44: SettingWithCopyWarning: \n",
      "A value is trying to be set on a copy of a slice from a DataFrame.\n",
      "Try using .loc[row_indexer,col_indexer] = value instead\n",
      "\n",
      "See the caveats in the documentation: http://pandas.pydata.org/pandas-docs/stable/indexing.html#indexing-view-versus-copy\n",
      "  df['q-val'] = df['FDR'][::-1].cummin()[::-1]\n",
      "C:\\Users\\emilp\\Documents\\Uni\\Bachelorarbeit\\Bachelor-Thesis\\src\\pycolator.py:246: SettingWithCopyWarning: \n",
      "A value is trying to be set on a copy of a slice from a DataFrame.\n",
      "Try using .loc[row_indexer,col_indexer] = value instead\n",
      "\n",
      "See the caveats in the documentation: http://pandas.pydata.org/pandas-docs/stable/indexing.html#indexing-view-versus-copy\n",
      "  validate[scoreName] = (validate[scoreNameTemp] - qThreshold) / (qThreshold - decoyMedian)\n"
     ]
    },
    {
     "name": "stdout",
     "output_type": "stream",
     "text": [
      "Iteration 1/10 done!\n",
      "Training in iteration 2 with split 1/3 starts!\n"
     ]
    },
    {
     "name": "stderr",
     "output_type": "stream",
     "text": [
      "C:\\Users\\emilp\\Documents\\Uni\\Bachelorarbeit\\Bachelor-Thesis\\src\\pycolator.py:240: SettingWithCopyWarning: \n",
      "A value is trying to be set on a copy of a slice from a DataFrame.\n",
      "Try using .loc[row_indexer,col_indexer] = value instead\n",
      "\n",
      "See the caveats in the documentation: http://pandas.pydata.org/pandas-docs/stable/indexing.html#indexing-view-versus-copy\n",
      "  validate[scoreNameTemp] = clf.decision_function(X)\n",
      "C:\\Users\\emilp\\Documents\\Uni\\Bachelorarbeit\\Bachelor-Thesis\\src\\pycolator.py:41: SettingWithCopyWarning: \n",
      "A value is trying to be set on a copy of a slice from a DataFrame\n",
      "\n",
      "See the caveats in the documentation: http://pandas.pydata.org/pandas-docs/stable/indexing.html#indexing-view-versus-copy\n",
      "  df.sort_values(scoreColName, ascending=False, inplace = True)\n",
      "C:\\Users\\emilp\\AppData\\Roaming\\Python\\Python37\\site-packages\\pandas\\core\\generic.py:5890: SettingWithCopyWarning: \n",
      "A value is trying to be set on a copy of a slice from a DataFrame\n",
      "\n",
      "See the caveats in the documentation: http://pandas.pydata.org/pandas-docs/stable/indexing.html#indexing-view-versus-copy\n",
      "  self._update_inplace(new_data)\n",
      "C:\\Users\\emilp\\Documents\\Uni\\Bachelorarbeit\\Bachelor-Thesis\\src\\pycolator.py:43: SettingWithCopyWarning: \n",
      "A value is trying to be set on a copy of a slice from a DataFrame.\n",
      "Try using .loc[row_indexer,col_indexer] = value instead\n",
      "\n",
      "See the caveats in the documentation: http://pandas.pydata.org/pandas-docs/stable/indexing.html#indexing-view-versus-copy\n",
      "  df['FDR'] = 1 - (df[labelColName].cumsum()/[i + 1 for i in range(len(df.index))])\n",
      "C:\\Users\\emilp\\Documents\\Uni\\Bachelorarbeit\\Bachelor-Thesis\\src\\pycolator.py:44: SettingWithCopyWarning: \n",
      "A value is trying to be set on a copy of a slice from a DataFrame.\n",
      "Try using .loc[row_indexer,col_indexer] = value instead\n",
      "\n",
      "See the caveats in the documentation: http://pandas.pydata.org/pandas-docs/stable/indexing.html#indexing-view-versus-copy\n",
      "  df['q-val'] = df['FDR'][::-1].cummin()[::-1]\n",
      "C:\\Users\\emilp\\Documents\\Uni\\Bachelorarbeit\\Bachelor-Thesis\\src\\pycolator.py:246: SettingWithCopyWarning: \n",
      "A value is trying to be set on a copy of a slice from a DataFrame.\n",
      "Try using .loc[row_indexer,col_indexer] = value instead\n",
      "\n",
      "See the caveats in the documentation: http://pandas.pydata.org/pandas-docs/stable/indexing.html#indexing-view-versus-copy\n",
      "  validate[scoreName] = (validate[scoreNameTemp] - qThreshold) / (qThreshold - decoyMedian)\n"
     ]
    },
    {
     "name": "stdout",
     "output_type": "stream",
     "text": [
      "Training in iteration 2 with split 2/3 starts!\n"
     ]
    },
    {
     "name": "stderr",
     "output_type": "stream",
     "text": [
      "C:\\Users\\emilp\\Documents\\Uni\\Bachelorarbeit\\Bachelor-Thesis\\src\\pycolator.py:240: SettingWithCopyWarning: \n",
      "A value is trying to be set on a copy of a slice from a DataFrame.\n",
      "Try using .loc[row_indexer,col_indexer] = value instead\n",
      "\n",
      "See the caveats in the documentation: http://pandas.pydata.org/pandas-docs/stable/indexing.html#indexing-view-versus-copy\n",
      "  validate[scoreNameTemp] = clf.decision_function(X)\n",
      "C:\\Users\\emilp\\Documents\\Uni\\Bachelorarbeit\\Bachelor-Thesis\\src\\pycolator.py:41: SettingWithCopyWarning: \n",
      "A value is trying to be set on a copy of a slice from a DataFrame\n",
      "\n",
      "See the caveats in the documentation: http://pandas.pydata.org/pandas-docs/stable/indexing.html#indexing-view-versus-copy\n",
      "  df.sort_values(scoreColName, ascending=False, inplace = True)\n",
      "C:\\Users\\emilp\\AppData\\Roaming\\Python\\Python37\\site-packages\\pandas\\core\\generic.py:5890: SettingWithCopyWarning: \n",
      "A value is trying to be set on a copy of a slice from a DataFrame\n",
      "\n",
      "See the caveats in the documentation: http://pandas.pydata.org/pandas-docs/stable/indexing.html#indexing-view-versus-copy\n",
      "  self._update_inplace(new_data)\n",
      "C:\\Users\\emilp\\Documents\\Uni\\Bachelorarbeit\\Bachelor-Thesis\\src\\pycolator.py:43: SettingWithCopyWarning: \n",
      "A value is trying to be set on a copy of a slice from a DataFrame.\n",
      "Try using .loc[row_indexer,col_indexer] = value instead\n",
      "\n",
      "See the caveats in the documentation: http://pandas.pydata.org/pandas-docs/stable/indexing.html#indexing-view-versus-copy\n",
      "  df['FDR'] = 1 - (df[labelColName].cumsum()/[i + 1 for i in range(len(df.index))])\n",
      "C:\\Users\\emilp\\Documents\\Uni\\Bachelorarbeit\\Bachelor-Thesis\\src\\pycolator.py:44: SettingWithCopyWarning: \n",
      "A value is trying to be set on a copy of a slice from a DataFrame.\n",
      "Try using .loc[row_indexer,col_indexer] = value instead\n",
      "\n",
      "See the caveats in the documentation: http://pandas.pydata.org/pandas-docs/stable/indexing.html#indexing-view-versus-copy\n",
      "  df['q-val'] = df['FDR'][::-1].cummin()[::-1]\n",
      "C:\\Users\\emilp\\Documents\\Uni\\Bachelorarbeit\\Bachelor-Thesis\\src\\pycolator.py:246: SettingWithCopyWarning: \n",
      "A value is trying to be set on a copy of a slice from a DataFrame.\n",
      "Try using .loc[row_indexer,col_indexer] = value instead\n",
      "\n",
      "See the caveats in the documentation: http://pandas.pydata.org/pandas-docs/stable/indexing.html#indexing-view-versus-copy\n",
      "  validate[scoreName] = (validate[scoreNameTemp] - qThreshold) / (qThreshold - decoyMedian)\n"
     ]
    },
    {
     "name": "stdout",
     "output_type": "stream",
     "text": [
      "Training in iteration 2 with split 3/3 starts!\n"
     ]
    },
    {
     "name": "stderr",
     "output_type": "stream",
     "text": [
      "C:\\Users\\emilp\\Documents\\Uni\\Bachelorarbeit\\Bachelor-Thesis\\src\\pycolator.py:240: SettingWithCopyWarning: \n",
      "A value is trying to be set on a copy of a slice from a DataFrame.\n",
      "Try using .loc[row_indexer,col_indexer] = value instead\n",
      "\n",
      "See the caveats in the documentation: http://pandas.pydata.org/pandas-docs/stable/indexing.html#indexing-view-versus-copy\n",
      "  validate[scoreNameTemp] = clf.decision_function(X)\n",
      "C:\\Users\\emilp\\Documents\\Uni\\Bachelorarbeit\\Bachelor-Thesis\\src\\pycolator.py:41: SettingWithCopyWarning: \n",
      "A value is trying to be set on a copy of a slice from a DataFrame\n",
      "\n",
      "See the caveats in the documentation: http://pandas.pydata.org/pandas-docs/stable/indexing.html#indexing-view-versus-copy\n",
      "  df.sort_values(scoreColName, ascending=False, inplace = True)\n",
      "C:\\Users\\emilp\\AppData\\Roaming\\Python\\Python37\\site-packages\\pandas\\core\\generic.py:5890: SettingWithCopyWarning: \n",
      "A value is trying to be set on a copy of a slice from a DataFrame\n",
      "\n",
      "See the caveats in the documentation: http://pandas.pydata.org/pandas-docs/stable/indexing.html#indexing-view-versus-copy\n",
      "  self._update_inplace(new_data)\n",
      "C:\\Users\\emilp\\Documents\\Uni\\Bachelorarbeit\\Bachelor-Thesis\\src\\pycolator.py:43: SettingWithCopyWarning: \n",
      "A value is trying to be set on a copy of a slice from a DataFrame.\n",
      "Try using .loc[row_indexer,col_indexer] = value instead\n",
      "\n",
      "See the caveats in the documentation: http://pandas.pydata.org/pandas-docs/stable/indexing.html#indexing-view-versus-copy\n",
      "  df['FDR'] = 1 - (df[labelColName].cumsum()/[i + 1 for i in range(len(df.index))])\n",
      "C:\\Users\\emilp\\Documents\\Uni\\Bachelorarbeit\\Bachelor-Thesis\\src\\pycolator.py:44: SettingWithCopyWarning: \n",
      "A value is trying to be set on a copy of a slice from a DataFrame.\n",
      "Try using .loc[row_indexer,col_indexer] = value instead\n",
      "\n",
      "See the caveats in the documentation: http://pandas.pydata.org/pandas-docs/stable/indexing.html#indexing-view-versus-copy\n",
      "  df['q-val'] = df['FDR'][::-1].cummin()[::-1]\n",
      "C:\\Users\\emilp\\Documents\\Uni\\Bachelorarbeit\\Bachelor-Thesis\\src\\pycolator.py:246: SettingWithCopyWarning: \n",
      "A value is trying to be set on a copy of a slice from a DataFrame.\n",
      "Try using .loc[row_indexer,col_indexer] = value instead\n",
      "\n",
      "See the caveats in the documentation: http://pandas.pydata.org/pandas-docs/stable/indexing.html#indexing-view-versus-copy\n",
      "  validate[scoreName] = (validate[scoreNameTemp] - qThreshold) / (qThreshold - decoyMedian)\n"
     ]
    },
    {
     "name": "stdout",
     "output_type": "stream",
     "text": [
      "Iteration 2/10 done!\n",
      "Training in iteration 3 with split 1/3 starts!\n"
     ]
    },
    {
     "name": "stderr",
     "output_type": "stream",
     "text": [
      "C:\\Users\\emilp\\Documents\\Uni\\Bachelorarbeit\\Bachelor-Thesis\\src\\pycolator.py:240: SettingWithCopyWarning: \n",
      "A value is trying to be set on a copy of a slice from a DataFrame.\n",
      "Try using .loc[row_indexer,col_indexer] = value instead\n",
      "\n",
      "See the caveats in the documentation: http://pandas.pydata.org/pandas-docs/stable/indexing.html#indexing-view-versus-copy\n",
      "  validate[scoreNameTemp] = clf.decision_function(X)\n",
      "C:\\Users\\emilp\\Documents\\Uni\\Bachelorarbeit\\Bachelor-Thesis\\src\\pycolator.py:41: SettingWithCopyWarning: \n",
      "A value is trying to be set on a copy of a slice from a DataFrame\n",
      "\n",
      "See the caveats in the documentation: http://pandas.pydata.org/pandas-docs/stable/indexing.html#indexing-view-versus-copy\n",
      "  df.sort_values(scoreColName, ascending=False, inplace = True)\n",
      "C:\\Users\\emilp\\AppData\\Roaming\\Python\\Python37\\site-packages\\pandas\\core\\generic.py:5890: SettingWithCopyWarning: \n",
      "A value is trying to be set on a copy of a slice from a DataFrame\n",
      "\n",
      "See the caveats in the documentation: http://pandas.pydata.org/pandas-docs/stable/indexing.html#indexing-view-versus-copy\n",
      "  self._update_inplace(new_data)\n",
      "C:\\Users\\emilp\\Documents\\Uni\\Bachelorarbeit\\Bachelor-Thesis\\src\\pycolator.py:43: SettingWithCopyWarning: \n",
      "A value is trying to be set on a copy of a slice from a DataFrame.\n",
      "Try using .loc[row_indexer,col_indexer] = value instead\n",
      "\n",
      "See the caveats in the documentation: http://pandas.pydata.org/pandas-docs/stable/indexing.html#indexing-view-versus-copy\n",
      "  df['FDR'] = 1 - (df[labelColName].cumsum()/[i + 1 for i in range(len(df.index))])\n",
      "C:\\Users\\emilp\\Documents\\Uni\\Bachelorarbeit\\Bachelor-Thesis\\src\\pycolator.py:44: SettingWithCopyWarning: \n",
      "A value is trying to be set on a copy of a slice from a DataFrame.\n",
      "Try using .loc[row_indexer,col_indexer] = value instead\n",
      "\n",
      "See the caveats in the documentation: http://pandas.pydata.org/pandas-docs/stable/indexing.html#indexing-view-versus-copy\n",
      "  df['q-val'] = df['FDR'][::-1].cummin()[::-1]\n",
      "C:\\Users\\emilp\\Documents\\Uni\\Bachelorarbeit\\Bachelor-Thesis\\src\\pycolator.py:246: SettingWithCopyWarning: \n",
      "A value is trying to be set on a copy of a slice from a DataFrame.\n",
      "Try using .loc[row_indexer,col_indexer] = value instead\n",
      "\n",
      "See the caveats in the documentation: http://pandas.pydata.org/pandas-docs/stable/indexing.html#indexing-view-versus-copy\n",
      "  validate[scoreName] = (validate[scoreNameTemp] - qThreshold) / (qThreshold - decoyMedian)\n"
     ]
    },
    {
     "name": "stdout",
     "output_type": "stream",
     "text": [
      "Training in iteration 3 with split 2/3 starts!\n"
     ]
    },
    {
     "name": "stderr",
     "output_type": "stream",
     "text": [
      "C:\\Users\\emilp\\Documents\\Uni\\Bachelorarbeit\\Bachelor-Thesis\\src\\pycolator.py:240: SettingWithCopyWarning: \n",
      "A value is trying to be set on a copy of a slice from a DataFrame.\n",
      "Try using .loc[row_indexer,col_indexer] = value instead\n",
      "\n",
      "See the caveats in the documentation: http://pandas.pydata.org/pandas-docs/stable/indexing.html#indexing-view-versus-copy\n",
      "  validate[scoreNameTemp] = clf.decision_function(X)\n",
      "C:\\Users\\emilp\\Documents\\Uni\\Bachelorarbeit\\Bachelor-Thesis\\src\\pycolator.py:41: SettingWithCopyWarning: \n",
      "A value is trying to be set on a copy of a slice from a DataFrame\n",
      "\n",
      "See the caveats in the documentation: http://pandas.pydata.org/pandas-docs/stable/indexing.html#indexing-view-versus-copy\n",
      "  df.sort_values(scoreColName, ascending=False, inplace = True)\n",
      "C:\\Users\\emilp\\AppData\\Roaming\\Python\\Python37\\site-packages\\pandas\\core\\generic.py:5890: SettingWithCopyWarning: \n",
      "A value is trying to be set on a copy of a slice from a DataFrame\n",
      "\n",
      "See the caveats in the documentation: http://pandas.pydata.org/pandas-docs/stable/indexing.html#indexing-view-versus-copy\n",
      "  self._update_inplace(new_data)\n",
      "C:\\Users\\emilp\\Documents\\Uni\\Bachelorarbeit\\Bachelor-Thesis\\src\\pycolator.py:43: SettingWithCopyWarning: \n",
      "A value is trying to be set on a copy of a slice from a DataFrame.\n",
      "Try using .loc[row_indexer,col_indexer] = value instead\n",
      "\n",
      "See the caveats in the documentation: http://pandas.pydata.org/pandas-docs/stable/indexing.html#indexing-view-versus-copy\n",
      "  df['FDR'] = 1 - (df[labelColName].cumsum()/[i + 1 for i in range(len(df.index))])\n",
      "C:\\Users\\emilp\\Documents\\Uni\\Bachelorarbeit\\Bachelor-Thesis\\src\\pycolator.py:44: SettingWithCopyWarning: \n",
      "A value is trying to be set on a copy of a slice from a DataFrame.\n",
      "Try using .loc[row_indexer,col_indexer] = value instead\n",
      "\n",
      "See the caveats in the documentation: http://pandas.pydata.org/pandas-docs/stable/indexing.html#indexing-view-versus-copy\n",
      "  df['q-val'] = df['FDR'][::-1].cummin()[::-1]\n",
      "C:\\Users\\emilp\\Documents\\Uni\\Bachelorarbeit\\Bachelor-Thesis\\src\\pycolator.py:246: SettingWithCopyWarning: \n",
      "A value is trying to be set on a copy of a slice from a DataFrame.\n",
      "Try using .loc[row_indexer,col_indexer] = value instead\n",
      "\n",
      "See the caveats in the documentation: http://pandas.pydata.org/pandas-docs/stable/indexing.html#indexing-view-versus-copy\n",
      "  validate[scoreName] = (validate[scoreNameTemp] - qThreshold) / (qThreshold - decoyMedian)\n"
     ]
    },
    {
     "name": "stdout",
     "output_type": "stream",
     "text": [
      "Training in iteration 3 with split 3/3 starts!\n"
     ]
    },
    {
     "name": "stderr",
     "output_type": "stream",
     "text": [
      "C:\\Users\\emilp\\Documents\\Uni\\Bachelorarbeit\\Bachelor-Thesis\\src\\pycolator.py:240: SettingWithCopyWarning: \n",
      "A value is trying to be set on a copy of a slice from a DataFrame.\n",
      "Try using .loc[row_indexer,col_indexer] = value instead\n",
      "\n",
      "See the caveats in the documentation: http://pandas.pydata.org/pandas-docs/stable/indexing.html#indexing-view-versus-copy\n",
      "  validate[scoreNameTemp] = clf.decision_function(X)\n",
      "C:\\Users\\emilp\\Documents\\Uni\\Bachelorarbeit\\Bachelor-Thesis\\src\\pycolator.py:41: SettingWithCopyWarning: \n",
      "A value is trying to be set on a copy of a slice from a DataFrame\n",
      "\n",
      "See the caveats in the documentation: http://pandas.pydata.org/pandas-docs/stable/indexing.html#indexing-view-versus-copy\n",
      "  df.sort_values(scoreColName, ascending=False, inplace = True)\n",
      "C:\\Users\\emilp\\AppData\\Roaming\\Python\\Python37\\site-packages\\pandas\\core\\generic.py:5890: SettingWithCopyWarning: \n",
      "A value is trying to be set on a copy of a slice from a DataFrame\n",
      "\n",
      "See the caveats in the documentation: http://pandas.pydata.org/pandas-docs/stable/indexing.html#indexing-view-versus-copy\n",
      "  self._update_inplace(new_data)\n",
      "C:\\Users\\emilp\\Documents\\Uni\\Bachelorarbeit\\Bachelor-Thesis\\src\\pycolator.py:43: SettingWithCopyWarning: \n",
      "A value is trying to be set on a copy of a slice from a DataFrame.\n",
      "Try using .loc[row_indexer,col_indexer] = value instead\n",
      "\n",
      "See the caveats in the documentation: http://pandas.pydata.org/pandas-docs/stable/indexing.html#indexing-view-versus-copy\n",
      "  df['FDR'] = 1 - (df[labelColName].cumsum()/[i + 1 for i in range(len(df.index))])\n",
      "C:\\Users\\emilp\\Documents\\Uni\\Bachelorarbeit\\Bachelor-Thesis\\src\\pycolator.py:44: SettingWithCopyWarning: \n",
      "A value is trying to be set on a copy of a slice from a DataFrame.\n",
      "Try using .loc[row_indexer,col_indexer] = value instead\n",
      "\n",
      "See the caveats in the documentation: http://pandas.pydata.org/pandas-docs/stable/indexing.html#indexing-view-versus-copy\n",
      "  df['q-val'] = df['FDR'][::-1].cummin()[::-1]\n",
      "C:\\Users\\emilp\\Documents\\Uni\\Bachelorarbeit\\Bachelor-Thesis\\src\\pycolator.py:246: SettingWithCopyWarning: \n",
      "A value is trying to be set on a copy of a slice from a DataFrame.\n",
      "Try using .loc[row_indexer,col_indexer] = value instead\n",
      "\n",
      "See the caveats in the documentation: http://pandas.pydata.org/pandas-docs/stable/indexing.html#indexing-view-versus-copy\n",
      "  validate[scoreName] = (validate[scoreNameTemp] - qThreshold) / (qThreshold - decoyMedian)\n"
     ]
    },
    {
     "name": "stdout",
     "output_type": "stream",
     "text": [
      "Iteration 3/10 done!\n",
      "Training in iteration 4 with split 1/3 starts!\n"
     ]
    },
    {
     "name": "stderr",
     "output_type": "stream",
     "text": [
      "C:\\Users\\emilp\\Documents\\Uni\\Bachelorarbeit\\Bachelor-Thesis\\src\\pycolator.py:240: SettingWithCopyWarning: \n",
      "A value is trying to be set on a copy of a slice from a DataFrame.\n",
      "Try using .loc[row_indexer,col_indexer] = value instead\n",
      "\n",
      "See the caveats in the documentation: http://pandas.pydata.org/pandas-docs/stable/indexing.html#indexing-view-versus-copy\n",
      "  validate[scoreNameTemp] = clf.decision_function(X)\n",
      "C:\\Users\\emilp\\Documents\\Uni\\Bachelorarbeit\\Bachelor-Thesis\\src\\pycolator.py:41: SettingWithCopyWarning: \n",
      "A value is trying to be set on a copy of a slice from a DataFrame\n",
      "\n",
      "See the caveats in the documentation: http://pandas.pydata.org/pandas-docs/stable/indexing.html#indexing-view-versus-copy\n",
      "  df.sort_values(scoreColName, ascending=False, inplace = True)\n",
      "C:\\Users\\emilp\\AppData\\Roaming\\Python\\Python37\\site-packages\\pandas\\core\\generic.py:5890: SettingWithCopyWarning: \n",
      "A value is trying to be set on a copy of a slice from a DataFrame\n",
      "\n",
      "See the caveats in the documentation: http://pandas.pydata.org/pandas-docs/stable/indexing.html#indexing-view-versus-copy\n",
      "  self._update_inplace(new_data)\n",
      "C:\\Users\\emilp\\Documents\\Uni\\Bachelorarbeit\\Bachelor-Thesis\\src\\pycolator.py:43: SettingWithCopyWarning: \n",
      "A value is trying to be set on a copy of a slice from a DataFrame.\n",
      "Try using .loc[row_indexer,col_indexer] = value instead\n",
      "\n",
      "See the caveats in the documentation: http://pandas.pydata.org/pandas-docs/stable/indexing.html#indexing-view-versus-copy\n",
      "  df['FDR'] = 1 - (df[labelColName].cumsum()/[i + 1 for i in range(len(df.index))])\n",
      "C:\\Users\\emilp\\Documents\\Uni\\Bachelorarbeit\\Bachelor-Thesis\\src\\pycolator.py:44: SettingWithCopyWarning: \n",
      "A value is trying to be set on a copy of a slice from a DataFrame.\n",
      "Try using .loc[row_indexer,col_indexer] = value instead\n",
      "\n",
      "See the caveats in the documentation: http://pandas.pydata.org/pandas-docs/stable/indexing.html#indexing-view-versus-copy\n",
      "  df['q-val'] = df['FDR'][::-1].cummin()[::-1]\n",
      "C:\\Users\\emilp\\Documents\\Uni\\Bachelorarbeit\\Bachelor-Thesis\\src\\pycolator.py:246: SettingWithCopyWarning: \n",
      "A value is trying to be set on a copy of a slice from a DataFrame.\n",
      "Try using .loc[row_indexer,col_indexer] = value instead\n",
      "\n",
      "See the caveats in the documentation: http://pandas.pydata.org/pandas-docs/stable/indexing.html#indexing-view-versus-copy\n",
      "  validate[scoreName] = (validate[scoreNameTemp] - qThreshold) / (qThreshold - decoyMedian)\n"
     ]
    },
    {
     "name": "stdout",
     "output_type": "stream",
     "text": [
      "Training in iteration 4 with split 2/3 starts!\n"
     ]
    },
    {
     "name": "stderr",
     "output_type": "stream",
     "text": [
      "C:\\Users\\emilp\\Documents\\Uni\\Bachelorarbeit\\Bachelor-Thesis\\src\\pycolator.py:240: SettingWithCopyWarning: \n",
      "A value is trying to be set on a copy of a slice from a DataFrame.\n",
      "Try using .loc[row_indexer,col_indexer] = value instead\n",
      "\n",
      "See the caveats in the documentation: http://pandas.pydata.org/pandas-docs/stable/indexing.html#indexing-view-versus-copy\n",
      "  validate[scoreNameTemp] = clf.decision_function(X)\n",
      "C:\\Users\\emilp\\Documents\\Uni\\Bachelorarbeit\\Bachelor-Thesis\\src\\pycolator.py:41: SettingWithCopyWarning: \n",
      "A value is trying to be set on a copy of a slice from a DataFrame\n",
      "\n",
      "See the caveats in the documentation: http://pandas.pydata.org/pandas-docs/stable/indexing.html#indexing-view-versus-copy\n",
      "  df.sort_values(scoreColName, ascending=False, inplace = True)\n",
      "C:\\Users\\emilp\\AppData\\Roaming\\Python\\Python37\\site-packages\\pandas\\core\\generic.py:5890: SettingWithCopyWarning: \n",
      "A value is trying to be set on a copy of a slice from a DataFrame\n",
      "\n",
      "See the caveats in the documentation: http://pandas.pydata.org/pandas-docs/stable/indexing.html#indexing-view-versus-copy\n",
      "  self._update_inplace(new_data)\n",
      "C:\\Users\\emilp\\Documents\\Uni\\Bachelorarbeit\\Bachelor-Thesis\\src\\pycolator.py:43: SettingWithCopyWarning: \n",
      "A value is trying to be set on a copy of a slice from a DataFrame.\n",
      "Try using .loc[row_indexer,col_indexer] = value instead\n",
      "\n",
      "See the caveats in the documentation: http://pandas.pydata.org/pandas-docs/stable/indexing.html#indexing-view-versus-copy\n",
      "  df['FDR'] = 1 - (df[labelColName].cumsum()/[i + 1 for i in range(len(df.index))])\n",
      "C:\\Users\\emilp\\Documents\\Uni\\Bachelorarbeit\\Bachelor-Thesis\\src\\pycolator.py:44: SettingWithCopyWarning: \n",
      "A value is trying to be set on a copy of a slice from a DataFrame.\n",
      "Try using .loc[row_indexer,col_indexer] = value instead\n",
      "\n",
      "See the caveats in the documentation: http://pandas.pydata.org/pandas-docs/stable/indexing.html#indexing-view-versus-copy\n",
      "  df['q-val'] = df['FDR'][::-1].cummin()[::-1]\n",
      "C:\\Users\\emilp\\Documents\\Uni\\Bachelorarbeit\\Bachelor-Thesis\\src\\pycolator.py:246: SettingWithCopyWarning: \n",
      "A value is trying to be set on a copy of a slice from a DataFrame.\n",
      "Try using .loc[row_indexer,col_indexer] = value instead\n",
      "\n",
      "See the caveats in the documentation: http://pandas.pydata.org/pandas-docs/stable/indexing.html#indexing-view-versus-copy\n",
      "  validate[scoreName] = (validate[scoreNameTemp] - qThreshold) / (qThreshold - decoyMedian)\n"
     ]
    },
    {
     "name": "stdout",
     "output_type": "stream",
     "text": [
      "Training in iteration 4 with split 3/3 starts!\n"
     ]
    },
    {
     "name": "stderr",
     "output_type": "stream",
     "text": [
      "C:\\Users\\emilp\\Documents\\Uni\\Bachelorarbeit\\Bachelor-Thesis\\src\\pycolator.py:240: SettingWithCopyWarning: \n",
      "A value is trying to be set on a copy of a slice from a DataFrame.\n",
      "Try using .loc[row_indexer,col_indexer] = value instead\n",
      "\n",
      "See the caveats in the documentation: http://pandas.pydata.org/pandas-docs/stable/indexing.html#indexing-view-versus-copy\n",
      "  validate[scoreNameTemp] = clf.decision_function(X)\n",
      "C:\\Users\\emilp\\Documents\\Uni\\Bachelorarbeit\\Bachelor-Thesis\\src\\pycolator.py:41: SettingWithCopyWarning: \n",
      "A value is trying to be set on a copy of a slice from a DataFrame\n",
      "\n",
      "See the caveats in the documentation: http://pandas.pydata.org/pandas-docs/stable/indexing.html#indexing-view-versus-copy\n",
      "  df.sort_values(scoreColName, ascending=False, inplace = True)\n",
      "C:\\Users\\emilp\\AppData\\Roaming\\Python\\Python37\\site-packages\\pandas\\core\\generic.py:5890: SettingWithCopyWarning: \n",
      "A value is trying to be set on a copy of a slice from a DataFrame\n",
      "\n",
      "See the caveats in the documentation: http://pandas.pydata.org/pandas-docs/stable/indexing.html#indexing-view-versus-copy\n",
      "  self._update_inplace(new_data)\n",
      "C:\\Users\\emilp\\Documents\\Uni\\Bachelorarbeit\\Bachelor-Thesis\\src\\pycolator.py:43: SettingWithCopyWarning: \n",
      "A value is trying to be set on a copy of a slice from a DataFrame.\n",
      "Try using .loc[row_indexer,col_indexer] = value instead\n",
      "\n",
      "See the caveats in the documentation: http://pandas.pydata.org/pandas-docs/stable/indexing.html#indexing-view-versus-copy\n",
      "  df['FDR'] = 1 - (df[labelColName].cumsum()/[i + 1 for i in range(len(df.index))])\n",
      "C:\\Users\\emilp\\Documents\\Uni\\Bachelorarbeit\\Bachelor-Thesis\\src\\pycolator.py:44: SettingWithCopyWarning: \n",
      "A value is trying to be set on a copy of a slice from a DataFrame.\n",
      "Try using .loc[row_indexer,col_indexer] = value instead\n",
      "\n",
      "See the caveats in the documentation: http://pandas.pydata.org/pandas-docs/stable/indexing.html#indexing-view-versus-copy\n",
      "  df['q-val'] = df['FDR'][::-1].cummin()[::-1]\n",
      "C:\\Users\\emilp\\Documents\\Uni\\Bachelorarbeit\\Bachelor-Thesis\\src\\pycolator.py:246: SettingWithCopyWarning: \n",
      "A value is trying to be set on a copy of a slice from a DataFrame.\n",
      "Try using .loc[row_indexer,col_indexer] = value instead\n",
      "\n",
      "See the caveats in the documentation: http://pandas.pydata.org/pandas-docs/stable/indexing.html#indexing-view-versus-copy\n",
      "  validate[scoreName] = (validate[scoreNameTemp] - qThreshold) / (qThreshold - decoyMedian)\n"
     ]
    },
    {
     "name": "stdout",
     "output_type": "stream",
     "text": [
      "Iteration 4/10 done!\n",
      "Training in iteration 5 with split 1/3 starts!\n"
     ]
    },
    {
     "name": "stderr",
     "output_type": "stream",
     "text": [
      "C:\\Users\\emilp\\Documents\\Uni\\Bachelorarbeit\\Bachelor-Thesis\\src\\pycolator.py:240: SettingWithCopyWarning: \n",
      "A value is trying to be set on a copy of a slice from a DataFrame.\n",
      "Try using .loc[row_indexer,col_indexer] = value instead\n",
      "\n",
      "See the caveats in the documentation: http://pandas.pydata.org/pandas-docs/stable/indexing.html#indexing-view-versus-copy\n",
      "  validate[scoreNameTemp] = clf.decision_function(X)\n",
      "C:\\Users\\emilp\\Documents\\Uni\\Bachelorarbeit\\Bachelor-Thesis\\src\\pycolator.py:41: SettingWithCopyWarning: \n",
      "A value is trying to be set on a copy of a slice from a DataFrame\n",
      "\n",
      "See the caveats in the documentation: http://pandas.pydata.org/pandas-docs/stable/indexing.html#indexing-view-versus-copy\n",
      "  df.sort_values(scoreColName, ascending=False, inplace = True)\n",
      "C:\\Users\\emilp\\AppData\\Roaming\\Python\\Python37\\site-packages\\pandas\\core\\generic.py:5890: SettingWithCopyWarning: \n",
      "A value is trying to be set on a copy of a slice from a DataFrame\n",
      "\n",
      "See the caveats in the documentation: http://pandas.pydata.org/pandas-docs/stable/indexing.html#indexing-view-versus-copy\n",
      "  self._update_inplace(new_data)\n",
      "C:\\Users\\emilp\\Documents\\Uni\\Bachelorarbeit\\Bachelor-Thesis\\src\\pycolator.py:43: SettingWithCopyWarning: \n",
      "A value is trying to be set on a copy of a slice from a DataFrame.\n",
      "Try using .loc[row_indexer,col_indexer] = value instead\n",
      "\n",
      "See the caveats in the documentation: http://pandas.pydata.org/pandas-docs/stable/indexing.html#indexing-view-versus-copy\n",
      "  df['FDR'] = 1 - (df[labelColName].cumsum()/[i + 1 for i in range(len(df.index))])\n",
      "C:\\Users\\emilp\\Documents\\Uni\\Bachelorarbeit\\Bachelor-Thesis\\src\\pycolator.py:44: SettingWithCopyWarning: \n",
      "A value is trying to be set on a copy of a slice from a DataFrame.\n",
      "Try using .loc[row_indexer,col_indexer] = value instead\n",
      "\n",
      "See the caveats in the documentation: http://pandas.pydata.org/pandas-docs/stable/indexing.html#indexing-view-versus-copy\n",
      "  df['q-val'] = df['FDR'][::-1].cummin()[::-1]\n",
      "C:\\Users\\emilp\\Documents\\Uni\\Bachelorarbeit\\Bachelor-Thesis\\src\\pycolator.py:246: SettingWithCopyWarning: \n",
      "A value is trying to be set on a copy of a slice from a DataFrame.\n",
      "Try using .loc[row_indexer,col_indexer] = value instead\n",
      "\n",
      "See the caveats in the documentation: http://pandas.pydata.org/pandas-docs/stable/indexing.html#indexing-view-versus-copy\n",
      "  validate[scoreName] = (validate[scoreNameTemp] - qThreshold) / (qThreshold - decoyMedian)\n"
     ]
    },
    {
     "name": "stdout",
     "output_type": "stream",
     "text": [
      "Training in iteration 5 with split 2/3 starts!\n"
     ]
    },
    {
     "name": "stderr",
     "output_type": "stream",
     "text": [
      "C:\\Users\\emilp\\Documents\\Uni\\Bachelorarbeit\\Bachelor-Thesis\\src\\pycolator.py:240: SettingWithCopyWarning: \n",
      "A value is trying to be set on a copy of a slice from a DataFrame.\n",
      "Try using .loc[row_indexer,col_indexer] = value instead\n",
      "\n",
      "See the caveats in the documentation: http://pandas.pydata.org/pandas-docs/stable/indexing.html#indexing-view-versus-copy\n",
      "  validate[scoreNameTemp] = clf.decision_function(X)\n",
      "C:\\Users\\emilp\\Documents\\Uni\\Bachelorarbeit\\Bachelor-Thesis\\src\\pycolator.py:41: SettingWithCopyWarning: \n",
      "A value is trying to be set on a copy of a slice from a DataFrame\n",
      "\n",
      "See the caveats in the documentation: http://pandas.pydata.org/pandas-docs/stable/indexing.html#indexing-view-versus-copy\n",
      "  df.sort_values(scoreColName, ascending=False, inplace = True)\n",
      "C:\\Users\\emilp\\AppData\\Roaming\\Python\\Python37\\site-packages\\pandas\\core\\generic.py:5890: SettingWithCopyWarning: \n",
      "A value is trying to be set on a copy of a slice from a DataFrame\n",
      "\n",
      "See the caveats in the documentation: http://pandas.pydata.org/pandas-docs/stable/indexing.html#indexing-view-versus-copy\n",
      "  self._update_inplace(new_data)\n",
      "C:\\Users\\emilp\\Documents\\Uni\\Bachelorarbeit\\Bachelor-Thesis\\src\\pycolator.py:43: SettingWithCopyWarning: \n",
      "A value is trying to be set on a copy of a slice from a DataFrame.\n",
      "Try using .loc[row_indexer,col_indexer] = value instead\n",
      "\n",
      "See the caveats in the documentation: http://pandas.pydata.org/pandas-docs/stable/indexing.html#indexing-view-versus-copy\n",
      "  df['FDR'] = 1 - (df[labelColName].cumsum()/[i + 1 for i in range(len(df.index))])\n",
      "C:\\Users\\emilp\\Documents\\Uni\\Bachelorarbeit\\Bachelor-Thesis\\src\\pycolator.py:44: SettingWithCopyWarning: \n",
      "A value is trying to be set on a copy of a slice from a DataFrame.\n",
      "Try using .loc[row_indexer,col_indexer] = value instead\n",
      "\n",
      "See the caveats in the documentation: http://pandas.pydata.org/pandas-docs/stable/indexing.html#indexing-view-versus-copy\n",
      "  df['q-val'] = df['FDR'][::-1].cummin()[::-1]\n",
      "C:\\Users\\emilp\\Documents\\Uni\\Bachelorarbeit\\Bachelor-Thesis\\src\\pycolator.py:246: SettingWithCopyWarning: \n",
      "A value is trying to be set on a copy of a slice from a DataFrame.\n",
      "Try using .loc[row_indexer,col_indexer] = value instead\n",
      "\n",
      "See the caveats in the documentation: http://pandas.pydata.org/pandas-docs/stable/indexing.html#indexing-view-versus-copy\n",
      "  validate[scoreName] = (validate[scoreNameTemp] - qThreshold) / (qThreshold - decoyMedian)\n"
     ]
    },
    {
     "name": "stdout",
     "output_type": "stream",
     "text": [
      "Training in iteration 5 with split 3/3 starts!\n"
     ]
    },
    {
     "name": "stderr",
     "output_type": "stream",
     "text": [
      "C:\\Users\\emilp\\Documents\\Uni\\Bachelorarbeit\\Bachelor-Thesis\\src\\pycolator.py:240: SettingWithCopyWarning: \n",
      "A value is trying to be set on a copy of a slice from a DataFrame.\n",
      "Try using .loc[row_indexer,col_indexer] = value instead\n",
      "\n",
      "See the caveats in the documentation: http://pandas.pydata.org/pandas-docs/stable/indexing.html#indexing-view-versus-copy\n",
      "  validate[scoreNameTemp] = clf.decision_function(X)\n",
      "C:\\Users\\emilp\\Documents\\Uni\\Bachelorarbeit\\Bachelor-Thesis\\src\\pycolator.py:41: SettingWithCopyWarning: \n",
      "A value is trying to be set on a copy of a slice from a DataFrame\n",
      "\n",
      "See the caveats in the documentation: http://pandas.pydata.org/pandas-docs/stable/indexing.html#indexing-view-versus-copy\n",
      "  df.sort_values(scoreColName, ascending=False, inplace = True)\n",
      "C:\\Users\\emilp\\AppData\\Roaming\\Python\\Python37\\site-packages\\pandas\\core\\generic.py:5890: SettingWithCopyWarning: \n",
      "A value is trying to be set on a copy of a slice from a DataFrame\n",
      "\n",
      "See the caveats in the documentation: http://pandas.pydata.org/pandas-docs/stable/indexing.html#indexing-view-versus-copy\n",
      "  self._update_inplace(new_data)\n",
      "C:\\Users\\emilp\\Documents\\Uni\\Bachelorarbeit\\Bachelor-Thesis\\src\\pycolator.py:43: SettingWithCopyWarning: \n",
      "A value is trying to be set on a copy of a slice from a DataFrame.\n",
      "Try using .loc[row_indexer,col_indexer] = value instead\n",
      "\n",
      "See the caveats in the documentation: http://pandas.pydata.org/pandas-docs/stable/indexing.html#indexing-view-versus-copy\n",
      "  df['FDR'] = 1 - (df[labelColName].cumsum()/[i + 1 for i in range(len(df.index))])\n",
      "C:\\Users\\emilp\\Documents\\Uni\\Bachelorarbeit\\Bachelor-Thesis\\src\\pycolator.py:44: SettingWithCopyWarning: \n",
      "A value is trying to be set on a copy of a slice from a DataFrame.\n",
      "Try using .loc[row_indexer,col_indexer] = value instead\n",
      "\n",
      "See the caveats in the documentation: http://pandas.pydata.org/pandas-docs/stable/indexing.html#indexing-view-versus-copy\n",
      "  df['q-val'] = df['FDR'][::-1].cummin()[::-1]\n",
      "C:\\Users\\emilp\\Documents\\Uni\\Bachelorarbeit\\Bachelor-Thesis\\src\\pycolator.py:246: SettingWithCopyWarning: \n",
      "A value is trying to be set on a copy of a slice from a DataFrame.\n",
      "Try using .loc[row_indexer,col_indexer] = value instead\n",
      "\n",
      "See the caveats in the documentation: http://pandas.pydata.org/pandas-docs/stable/indexing.html#indexing-view-versus-copy\n",
      "  validate[scoreName] = (validate[scoreNameTemp] - qThreshold) / (qThreshold - decoyMedian)\n"
     ]
    },
    {
     "name": "stdout",
     "output_type": "stream",
     "text": [
      "Iteration 5/10 done!\n",
      "Training in iteration 6 with split 1/3 starts!\n"
     ]
    },
    {
     "name": "stderr",
     "output_type": "stream",
     "text": [
      "C:\\Users\\emilp\\Documents\\Uni\\Bachelorarbeit\\Bachelor-Thesis\\src\\pycolator.py:240: SettingWithCopyWarning: \n",
      "A value is trying to be set on a copy of a slice from a DataFrame.\n",
      "Try using .loc[row_indexer,col_indexer] = value instead\n",
      "\n",
      "See the caveats in the documentation: http://pandas.pydata.org/pandas-docs/stable/indexing.html#indexing-view-versus-copy\n",
      "  validate[scoreNameTemp] = clf.decision_function(X)\n",
      "C:\\Users\\emilp\\Documents\\Uni\\Bachelorarbeit\\Bachelor-Thesis\\src\\pycolator.py:41: SettingWithCopyWarning: \n",
      "A value is trying to be set on a copy of a slice from a DataFrame\n",
      "\n",
      "See the caveats in the documentation: http://pandas.pydata.org/pandas-docs/stable/indexing.html#indexing-view-versus-copy\n",
      "  df.sort_values(scoreColName, ascending=False, inplace = True)\n",
      "C:\\Users\\emilp\\AppData\\Roaming\\Python\\Python37\\site-packages\\pandas\\core\\generic.py:5890: SettingWithCopyWarning: \n",
      "A value is trying to be set on a copy of a slice from a DataFrame\n",
      "\n",
      "See the caveats in the documentation: http://pandas.pydata.org/pandas-docs/stable/indexing.html#indexing-view-versus-copy\n",
      "  self._update_inplace(new_data)\n",
      "C:\\Users\\emilp\\Documents\\Uni\\Bachelorarbeit\\Bachelor-Thesis\\src\\pycolator.py:43: SettingWithCopyWarning: \n",
      "A value is trying to be set on a copy of a slice from a DataFrame.\n",
      "Try using .loc[row_indexer,col_indexer] = value instead\n",
      "\n",
      "See the caveats in the documentation: http://pandas.pydata.org/pandas-docs/stable/indexing.html#indexing-view-versus-copy\n",
      "  df['FDR'] = 1 - (df[labelColName].cumsum()/[i + 1 for i in range(len(df.index))])\n",
      "C:\\Users\\emilp\\Documents\\Uni\\Bachelorarbeit\\Bachelor-Thesis\\src\\pycolator.py:44: SettingWithCopyWarning: \n",
      "A value is trying to be set on a copy of a slice from a DataFrame.\n",
      "Try using .loc[row_indexer,col_indexer] = value instead\n",
      "\n",
      "See the caveats in the documentation: http://pandas.pydata.org/pandas-docs/stable/indexing.html#indexing-view-versus-copy\n",
      "  df['q-val'] = df['FDR'][::-1].cummin()[::-1]\n",
      "C:\\Users\\emilp\\Documents\\Uni\\Bachelorarbeit\\Bachelor-Thesis\\src\\pycolator.py:246: SettingWithCopyWarning: \n",
      "A value is trying to be set on a copy of a slice from a DataFrame.\n",
      "Try using .loc[row_indexer,col_indexer] = value instead\n",
      "\n",
      "See the caveats in the documentation: http://pandas.pydata.org/pandas-docs/stable/indexing.html#indexing-view-versus-copy\n",
      "  validate[scoreName] = (validate[scoreNameTemp] - qThreshold) / (qThreshold - decoyMedian)\n"
     ]
    },
    {
     "name": "stdout",
     "output_type": "stream",
     "text": [
      "Training in iteration 6 with split 2/3 starts!\n"
     ]
    },
    {
     "name": "stderr",
     "output_type": "stream",
     "text": [
      "C:\\Users\\emilp\\Documents\\Uni\\Bachelorarbeit\\Bachelor-Thesis\\src\\pycolator.py:240: SettingWithCopyWarning: \n",
      "A value is trying to be set on a copy of a slice from a DataFrame.\n",
      "Try using .loc[row_indexer,col_indexer] = value instead\n",
      "\n",
      "See the caveats in the documentation: http://pandas.pydata.org/pandas-docs/stable/indexing.html#indexing-view-versus-copy\n",
      "  validate[scoreNameTemp] = clf.decision_function(X)\n",
      "C:\\Users\\emilp\\Documents\\Uni\\Bachelorarbeit\\Bachelor-Thesis\\src\\pycolator.py:41: SettingWithCopyWarning: \n",
      "A value is trying to be set on a copy of a slice from a DataFrame\n",
      "\n",
      "See the caveats in the documentation: http://pandas.pydata.org/pandas-docs/stable/indexing.html#indexing-view-versus-copy\n",
      "  df.sort_values(scoreColName, ascending=False, inplace = True)\n",
      "C:\\Users\\emilp\\AppData\\Roaming\\Python\\Python37\\site-packages\\pandas\\core\\generic.py:5890: SettingWithCopyWarning: \n",
      "A value is trying to be set on a copy of a slice from a DataFrame\n",
      "\n",
      "See the caveats in the documentation: http://pandas.pydata.org/pandas-docs/stable/indexing.html#indexing-view-versus-copy\n",
      "  self._update_inplace(new_data)\n",
      "C:\\Users\\emilp\\Documents\\Uni\\Bachelorarbeit\\Bachelor-Thesis\\src\\pycolator.py:43: SettingWithCopyWarning: \n",
      "A value is trying to be set on a copy of a slice from a DataFrame.\n",
      "Try using .loc[row_indexer,col_indexer] = value instead\n",
      "\n",
      "See the caveats in the documentation: http://pandas.pydata.org/pandas-docs/stable/indexing.html#indexing-view-versus-copy\n",
      "  df['FDR'] = 1 - (df[labelColName].cumsum()/[i + 1 for i in range(len(df.index))])\n",
      "C:\\Users\\emilp\\Documents\\Uni\\Bachelorarbeit\\Bachelor-Thesis\\src\\pycolator.py:44: SettingWithCopyWarning: \n",
      "A value is trying to be set on a copy of a slice from a DataFrame.\n",
      "Try using .loc[row_indexer,col_indexer] = value instead\n",
      "\n",
      "See the caveats in the documentation: http://pandas.pydata.org/pandas-docs/stable/indexing.html#indexing-view-versus-copy\n",
      "  df['q-val'] = df['FDR'][::-1].cummin()[::-1]\n",
      "C:\\Users\\emilp\\Documents\\Uni\\Bachelorarbeit\\Bachelor-Thesis\\src\\pycolator.py:246: SettingWithCopyWarning: \n",
      "A value is trying to be set on a copy of a slice from a DataFrame.\n",
      "Try using .loc[row_indexer,col_indexer] = value instead\n",
      "\n",
      "See the caveats in the documentation: http://pandas.pydata.org/pandas-docs/stable/indexing.html#indexing-view-versus-copy\n",
      "  validate[scoreName] = (validate[scoreNameTemp] - qThreshold) / (qThreshold - decoyMedian)\n"
     ]
    },
    {
     "name": "stdout",
     "output_type": "stream",
     "text": [
      "Training in iteration 6 with split 3/3 starts!\n"
     ]
    },
    {
     "name": "stderr",
     "output_type": "stream",
     "text": [
      "C:\\Users\\emilp\\Documents\\Uni\\Bachelorarbeit\\Bachelor-Thesis\\src\\pycolator.py:240: SettingWithCopyWarning: \n",
      "A value is trying to be set on a copy of a slice from a DataFrame.\n",
      "Try using .loc[row_indexer,col_indexer] = value instead\n",
      "\n",
      "See the caveats in the documentation: http://pandas.pydata.org/pandas-docs/stable/indexing.html#indexing-view-versus-copy\n",
      "  validate[scoreNameTemp] = clf.decision_function(X)\n",
      "C:\\Users\\emilp\\Documents\\Uni\\Bachelorarbeit\\Bachelor-Thesis\\src\\pycolator.py:41: SettingWithCopyWarning: \n",
      "A value is trying to be set on a copy of a slice from a DataFrame\n",
      "\n",
      "See the caveats in the documentation: http://pandas.pydata.org/pandas-docs/stable/indexing.html#indexing-view-versus-copy\n",
      "  df.sort_values(scoreColName, ascending=False, inplace = True)\n",
      "C:\\Users\\emilp\\AppData\\Roaming\\Python\\Python37\\site-packages\\pandas\\core\\generic.py:5890: SettingWithCopyWarning: \n",
      "A value is trying to be set on a copy of a slice from a DataFrame\n",
      "\n",
      "See the caveats in the documentation: http://pandas.pydata.org/pandas-docs/stable/indexing.html#indexing-view-versus-copy\n",
      "  self._update_inplace(new_data)\n",
      "C:\\Users\\emilp\\Documents\\Uni\\Bachelorarbeit\\Bachelor-Thesis\\src\\pycolator.py:43: SettingWithCopyWarning: \n",
      "A value is trying to be set on a copy of a slice from a DataFrame.\n",
      "Try using .loc[row_indexer,col_indexer] = value instead\n",
      "\n",
      "See the caveats in the documentation: http://pandas.pydata.org/pandas-docs/stable/indexing.html#indexing-view-versus-copy\n",
      "  df['FDR'] = 1 - (df[labelColName].cumsum()/[i + 1 for i in range(len(df.index))])\n",
      "C:\\Users\\emilp\\Documents\\Uni\\Bachelorarbeit\\Bachelor-Thesis\\src\\pycolator.py:44: SettingWithCopyWarning: \n",
      "A value is trying to be set on a copy of a slice from a DataFrame.\n",
      "Try using .loc[row_indexer,col_indexer] = value instead\n",
      "\n",
      "See the caveats in the documentation: http://pandas.pydata.org/pandas-docs/stable/indexing.html#indexing-view-versus-copy\n",
      "  df['q-val'] = df['FDR'][::-1].cummin()[::-1]\n",
      "C:\\Users\\emilp\\Documents\\Uni\\Bachelorarbeit\\Bachelor-Thesis\\src\\pycolator.py:246: SettingWithCopyWarning: \n",
      "A value is trying to be set on a copy of a slice from a DataFrame.\n",
      "Try using .loc[row_indexer,col_indexer] = value instead\n",
      "\n",
      "See the caveats in the documentation: http://pandas.pydata.org/pandas-docs/stable/indexing.html#indexing-view-versus-copy\n",
      "  validate[scoreName] = (validate[scoreNameTemp] - qThreshold) / (qThreshold - decoyMedian)\n"
     ]
    },
    {
     "name": "stdout",
     "output_type": "stream",
     "text": [
      "Iteration 6/10 done!\n",
      "Training in iteration 7 with split 1/3 starts!\n"
     ]
    },
    {
     "name": "stderr",
     "output_type": "stream",
     "text": [
      "C:\\Users\\emilp\\Documents\\Uni\\Bachelorarbeit\\Bachelor-Thesis\\src\\pycolator.py:240: SettingWithCopyWarning: \n",
      "A value is trying to be set on a copy of a slice from a DataFrame.\n",
      "Try using .loc[row_indexer,col_indexer] = value instead\n",
      "\n",
      "See the caveats in the documentation: http://pandas.pydata.org/pandas-docs/stable/indexing.html#indexing-view-versus-copy\n",
      "  validate[scoreNameTemp] = clf.decision_function(X)\n",
      "C:\\Users\\emilp\\Documents\\Uni\\Bachelorarbeit\\Bachelor-Thesis\\src\\pycolator.py:41: SettingWithCopyWarning: \n",
      "A value is trying to be set on a copy of a slice from a DataFrame\n",
      "\n",
      "See the caveats in the documentation: http://pandas.pydata.org/pandas-docs/stable/indexing.html#indexing-view-versus-copy\n",
      "  df.sort_values(scoreColName, ascending=False, inplace = True)\n",
      "C:\\Users\\emilp\\AppData\\Roaming\\Python\\Python37\\site-packages\\pandas\\core\\generic.py:5890: SettingWithCopyWarning: \n",
      "A value is trying to be set on a copy of a slice from a DataFrame\n",
      "\n",
      "See the caveats in the documentation: http://pandas.pydata.org/pandas-docs/stable/indexing.html#indexing-view-versus-copy\n",
      "  self._update_inplace(new_data)\n",
      "C:\\Users\\emilp\\Documents\\Uni\\Bachelorarbeit\\Bachelor-Thesis\\src\\pycolator.py:43: SettingWithCopyWarning: \n",
      "A value is trying to be set on a copy of a slice from a DataFrame.\n",
      "Try using .loc[row_indexer,col_indexer] = value instead\n",
      "\n",
      "See the caveats in the documentation: http://pandas.pydata.org/pandas-docs/stable/indexing.html#indexing-view-versus-copy\n",
      "  df['FDR'] = 1 - (df[labelColName].cumsum()/[i + 1 for i in range(len(df.index))])\n",
      "C:\\Users\\emilp\\Documents\\Uni\\Bachelorarbeit\\Bachelor-Thesis\\src\\pycolator.py:44: SettingWithCopyWarning: \n",
      "A value is trying to be set on a copy of a slice from a DataFrame.\n",
      "Try using .loc[row_indexer,col_indexer] = value instead\n",
      "\n",
      "See the caveats in the documentation: http://pandas.pydata.org/pandas-docs/stable/indexing.html#indexing-view-versus-copy\n",
      "  df['q-val'] = df['FDR'][::-1].cummin()[::-1]\n",
      "C:\\Users\\emilp\\Documents\\Uni\\Bachelorarbeit\\Bachelor-Thesis\\src\\pycolator.py:246: SettingWithCopyWarning: \n",
      "A value is trying to be set on a copy of a slice from a DataFrame.\n",
      "Try using .loc[row_indexer,col_indexer] = value instead\n",
      "\n",
      "See the caveats in the documentation: http://pandas.pydata.org/pandas-docs/stable/indexing.html#indexing-view-versus-copy\n",
      "  validate[scoreName] = (validate[scoreNameTemp] - qThreshold) / (qThreshold - decoyMedian)\n"
     ]
    },
    {
     "name": "stdout",
     "output_type": "stream",
     "text": [
      "Training in iteration 7 with split 2/3 starts!\n"
     ]
    },
    {
     "name": "stderr",
     "output_type": "stream",
     "text": [
      "C:\\Users\\emilp\\Documents\\Uni\\Bachelorarbeit\\Bachelor-Thesis\\src\\pycolator.py:240: SettingWithCopyWarning: \n",
      "A value is trying to be set on a copy of a slice from a DataFrame.\n",
      "Try using .loc[row_indexer,col_indexer] = value instead\n",
      "\n",
      "See the caveats in the documentation: http://pandas.pydata.org/pandas-docs/stable/indexing.html#indexing-view-versus-copy\n",
      "  validate[scoreNameTemp] = clf.decision_function(X)\n",
      "C:\\Users\\emilp\\Documents\\Uni\\Bachelorarbeit\\Bachelor-Thesis\\src\\pycolator.py:41: SettingWithCopyWarning: \n",
      "A value is trying to be set on a copy of a slice from a DataFrame\n",
      "\n",
      "See the caveats in the documentation: http://pandas.pydata.org/pandas-docs/stable/indexing.html#indexing-view-versus-copy\n",
      "  df.sort_values(scoreColName, ascending=False, inplace = True)\n",
      "C:\\Users\\emilp\\AppData\\Roaming\\Python\\Python37\\site-packages\\pandas\\core\\generic.py:5890: SettingWithCopyWarning: \n",
      "A value is trying to be set on a copy of a slice from a DataFrame\n",
      "\n",
      "See the caveats in the documentation: http://pandas.pydata.org/pandas-docs/stable/indexing.html#indexing-view-versus-copy\n",
      "  self._update_inplace(new_data)\n",
      "C:\\Users\\emilp\\Documents\\Uni\\Bachelorarbeit\\Bachelor-Thesis\\src\\pycolator.py:43: SettingWithCopyWarning: \n",
      "A value is trying to be set on a copy of a slice from a DataFrame.\n",
      "Try using .loc[row_indexer,col_indexer] = value instead\n",
      "\n",
      "See the caveats in the documentation: http://pandas.pydata.org/pandas-docs/stable/indexing.html#indexing-view-versus-copy\n",
      "  df['FDR'] = 1 - (df[labelColName].cumsum()/[i + 1 for i in range(len(df.index))])\n",
      "C:\\Users\\emilp\\Documents\\Uni\\Bachelorarbeit\\Bachelor-Thesis\\src\\pycolator.py:44: SettingWithCopyWarning: \n",
      "A value is trying to be set on a copy of a slice from a DataFrame.\n",
      "Try using .loc[row_indexer,col_indexer] = value instead\n",
      "\n",
      "See the caveats in the documentation: http://pandas.pydata.org/pandas-docs/stable/indexing.html#indexing-view-versus-copy\n",
      "  df['q-val'] = df['FDR'][::-1].cummin()[::-1]\n",
      "C:\\Users\\emilp\\Documents\\Uni\\Bachelorarbeit\\Bachelor-Thesis\\src\\pycolator.py:246: SettingWithCopyWarning: \n",
      "A value is trying to be set on a copy of a slice from a DataFrame.\n",
      "Try using .loc[row_indexer,col_indexer] = value instead\n",
      "\n",
      "See the caveats in the documentation: http://pandas.pydata.org/pandas-docs/stable/indexing.html#indexing-view-versus-copy\n",
      "  validate[scoreName] = (validate[scoreNameTemp] - qThreshold) / (qThreshold - decoyMedian)\n"
     ]
    },
    {
     "name": "stdout",
     "output_type": "stream",
     "text": [
      "Training in iteration 7 with split 3/3 starts!\n"
     ]
    },
    {
     "name": "stderr",
     "output_type": "stream",
     "text": [
      "C:\\Users\\emilp\\Documents\\Uni\\Bachelorarbeit\\Bachelor-Thesis\\src\\pycolator.py:240: SettingWithCopyWarning: \n",
      "A value is trying to be set on a copy of a slice from a DataFrame.\n",
      "Try using .loc[row_indexer,col_indexer] = value instead\n",
      "\n",
      "See the caveats in the documentation: http://pandas.pydata.org/pandas-docs/stable/indexing.html#indexing-view-versus-copy\n",
      "  validate[scoreNameTemp] = clf.decision_function(X)\n",
      "C:\\Users\\emilp\\Documents\\Uni\\Bachelorarbeit\\Bachelor-Thesis\\src\\pycolator.py:41: SettingWithCopyWarning: \n",
      "A value is trying to be set on a copy of a slice from a DataFrame\n",
      "\n",
      "See the caveats in the documentation: http://pandas.pydata.org/pandas-docs/stable/indexing.html#indexing-view-versus-copy\n",
      "  df.sort_values(scoreColName, ascending=False, inplace = True)\n",
      "C:\\Users\\emilp\\AppData\\Roaming\\Python\\Python37\\site-packages\\pandas\\core\\generic.py:5890: SettingWithCopyWarning: \n",
      "A value is trying to be set on a copy of a slice from a DataFrame\n",
      "\n",
      "See the caveats in the documentation: http://pandas.pydata.org/pandas-docs/stable/indexing.html#indexing-view-versus-copy\n",
      "  self._update_inplace(new_data)\n",
      "C:\\Users\\emilp\\Documents\\Uni\\Bachelorarbeit\\Bachelor-Thesis\\src\\pycolator.py:43: SettingWithCopyWarning: \n",
      "A value is trying to be set on a copy of a slice from a DataFrame.\n",
      "Try using .loc[row_indexer,col_indexer] = value instead\n",
      "\n",
      "See the caveats in the documentation: http://pandas.pydata.org/pandas-docs/stable/indexing.html#indexing-view-versus-copy\n",
      "  df['FDR'] = 1 - (df[labelColName].cumsum()/[i + 1 for i in range(len(df.index))])\n",
      "C:\\Users\\emilp\\Documents\\Uni\\Bachelorarbeit\\Bachelor-Thesis\\src\\pycolator.py:44: SettingWithCopyWarning: \n",
      "A value is trying to be set on a copy of a slice from a DataFrame.\n",
      "Try using .loc[row_indexer,col_indexer] = value instead\n",
      "\n",
      "See the caveats in the documentation: http://pandas.pydata.org/pandas-docs/stable/indexing.html#indexing-view-versus-copy\n",
      "  df['q-val'] = df['FDR'][::-1].cummin()[::-1]\n",
      "C:\\Users\\emilp\\Documents\\Uni\\Bachelorarbeit\\Bachelor-Thesis\\src\\pycolator.py:246: SettingWithCopyWarning: \n",
      "A value is trying to be set on a copy of a slice from a DataFrame.\n",
      "Try using .loc[row_indexer,col_indexer] = value instead\n",
      "\n",
      "See the caveats in the documentation: http://pandas.pydata.org/pandas-docs/stable/indexing.html#indexing-view-versus-copy\n",
      "  validate[scoreName] = (validate[scoreNameTemp] - qThreshold) / (qThreshold - decoyMedian)\n"
     ]
    },
    {
     "name": "stdout",
     "output_type": "stream",
     "text": [
      "Iteration 7/10 done!\n",
      "Training in iteration 8 with split 1/3 starts!\n"
     ]
    },
    {
     "name": "stderr",
     "output_type": "stream",
     "text": [
      "C:\\Users\\emilp\\Documents\\Uni\\Bachelorarbeit\\Bachelor-Thesis\\src\\pycolator.py:240: SettingWithCopyWarning: \n",
      "A value is trying to be set on a copy of a slice from a DataFrame.\n",
      "Try using .loc[row_indexer,col_indexer] = value instead\n",
      "\n",
      "See the caveats in the documentation: http://pandas.pydata.org/pandas-docs/stable/indexing.html#indexing-view-versus-copy\n",
      "  validate[scoreNameTemp] = clf.decision_function(X)\n",
      "C:\\Users\\emilp\\Documents\\Uni\\Bachelorarbeit\\Bachelor-Thesis\\src\\pycolator.py:41: SettingWithCopyWarning: \n",
      "A value is trying to be set on a copy of a slice from a DataFrame\n",
      "\n",
      "See the caveats in the documentation: http://pandas.pydata.org/pandas-docs/stable/indexing.html#indexing-view-versus-copy\n",
      "  df.sort_values(scoreColName, ascending=False, inplace = True)\n",
      "C:\\Users\\emilp\\AppData\\Roaming\\Python\\Python37\\site-packages\\pandas\\core\\generic.py:5890: SettingWithCopyWarning: \n",
      "A value is trying to be set on a copy of a slice from a DataFrame\n",
      "\n",
      "See the caveats in the documentation: http://pandas.pydata.org/pandas-docs/stable/indexing.html#indexing-view-versus-copy\n",
      "  self._update_inplace(new_data)\n",
      "C:\\Users\\emilp\\Documents\\Uni\\Bachelorarbeit\\Bachelor-Thesis\\src\\pycolator.py:43: SettingWithCopyWarning: \n",
      "A value is trying to be set on a copy of a slice from a DataFrame.\n",
      "Try using .loc[row_indexer,col_indexer] = value instead\n",
      "\n",
      "See the caveats in the documentation: http://pandas.pydata.org/pandas-docs/stable/indexing.html#indexing-view-versus-copy\n",
      "  df['FDR'] = 1 - (df[labelColName].cumsum()/[i + 1 for i in range(len(df.index))])\n",
      "C:\\Users\\emilp\\Documents\\Uni\\Bachelorarbeit\\Bachelor-Thesis\\src\\pycolator.py:44: SettingWithCopyWarning: \n",
      "A value is trying to be set on a copy of a slice from a DataFrame.\n",
      "Try using .loc[row_indexer,col_indexer] = value instead\n",
      "\n",
      "See the caveats in the documentation: http://pandas.pydata.org/pandas-docs/stable/indexing.html#indexing-view-versus-copy\n",
      "  df['q-val'] = df['FDR'][::-1].cummin()[::-1]\n",
      "C:\\Users\\emilp\\Documents\\Uni\\Bachelorarbeit\\Bachelor-Thesis\\src\\pycolator.py:246: SettingWithCopyWarning: \n",
      "A value is trying to be set on a copy of a slice from a DataFrame.\n",
      "Try using .loc[row_indexer,col_indexer] = value instead\n",
      "\n",
      "See the caveats in the documentation: http://pandas.pydata.org/pandas-docs/stable/indexing.html#indexing-view-versus-copy\n",
      "  validate[scoreName] = (validate[scoreNameTemp] - qThreshold) / (qThreshold - decoyMedian)\n"
     ]
    },
    {
     "name": "stdout",
     "output_type": "stream",
     "text": [
      "Training in iteration 8 with split 2/3 starts!\n"
     ]
    },
    {
     "name": "stderr",
     "output_type": "stream",
     "text": [
      "C:\\Users\\emilp\\Documents\\Uni\\Bachelorarbeit\\Bachelor-Thesis\\src\\pycolator.py:240: SettingWithCopyWarning: \n",
      "A value is trying to be set on a copy of a slice from a DataFrame.\n",
      "Try using .loc[row_indexer,col_indexer] = value instead\n",
      "\n",
      "See the caveats in the documentation: http://pandas.pydata.org/pandas-docs/stable/indexing.html#indexing-view-versus-copy\n",
      "  validate[scoreNameTemp] = clf.decision_function(X)\n",
      "C:\\Users\\emilp\\Documents\\Uni\\Bachelorarbeit\\Bachelor-Thesis\\src\\pycolator.py:41: SettingWithCopyWarning: \n",
      "A value is trying to be set on a copy of a slice from a DataFrame\n",
      "\n",
      "See the caveats in the documentation: http://pandas.pydata.org/pandas-docs/stable/indexing.html#indexing-view-versus-copy\n",
      "  df.sort_values(scoreColName, ascending=False, inplace = True)\n",
      "C:\\Users\\emilp\\AppData\\Roaming\\Python\\Python37\\site-packages\\pandas\\core\\generic.py:5890: SettingWithCopyWarning: \n",
      "A value is trying to be set on a copy of a slice from a DataFrame\n",
      "\n",
      "See the caveats in the documentation: http://pandas.pydata.org/pandas-docs/stable/indexing.html#indexing-view-versus-copy\n",
      "  self._update_inplace(new_data)\n",
      "C:\\Users\\emilp\\Documents\\Uni\\Bachelorarbeit\\Bachelor-Thesis\\src\\pycolator.py:43: SettingWithCopyWarning: \n",
      "A value is trying to be set on a copy of a slice from a DataFrame.\n",
      "Try using .loc[row_indexer,col_indexer] = value instead\n",
      "\n",
      "See the caveats in the documentation: http://pandas.pydata.org/pandas-docs/stable/indexing.html#indexing-view-versus-copy\n",
      "  df['FDR'] = 1 - (df[labelColName].cumsum()/[i + 1 for i in range(len(df.index))])\n",
      "C:\\Users\\emilp\\Documents\\Uni\\Bachelorarbeit\\Bachelor-Thesis\\src\\pycolator.py:44: SettingWithCopyWarning: \n",
      "A value is trying to be set on a copy of a slice from a DataFrame.\n",
      "Try using .loc[row_indexer,col_indexer] = value instead\n",
      "\n",
      "See the caveats in the documentation: http://pandas.pydata.org/pandas-docs/stable/indexing.html#indexing-view-versus-copy\n",
      "  df['q-val'] = df['FDR'][::-1].cummin()[::-1]\n",
      "C:\\Users\\emilp\\Documents\\Uni\\Bachelorarbeit\\Bachelor-Thesis\\src\\pycolator.py:246: SettingWithCopyWarning: \n",
      "A value is trying to be set on a copy of a slice from a DataFrame.\n",
      "Try using .loc[row_indexer,col_indexer] = value instead\n",
      "\n",
      "See the caveats in the documentation: http://pandas.pydata.org/pandas-docs/stable/indexing.html#indexing-view-versus-copy\n",
      "  validate[scoreName] = (validate[scoreNameTemp] - qThreshold) / (qThreshold - decoyMedian)\n"
     ]
    },
    {
     "name": "stdout",
     "output_type": "stream",
     "text": [
      "Training in iteration 8 with split 3/3 starts!\n"
     ]
    },
    {
     "name": "stderr",
     "output_type": "stream",
     "text": [
      "C:\\Users\\emilp\\Documents\\Uni\\Bachelorarbeit\\Bachelor-Thesis\\src\\pycolator.py:240: SettingWithCopyWarning: \n",
      "A value is trying to be set on a copy of a slice from a DataFrame.\n",
      "Try using .loc[row_indexer,col_indexer] = value instead\n",
      "\n",
      "See the caveats in the documentation: http://pandas.pydata.org/pandas-docs/stable/indexing.html#indexing-view-versus-copy\n",
      "  validate[scoreNameTemp] = clf.decision_function(X)\n",
      "C:\\Users\\emilp\\Documents\\Uni\\Bachelorarbeit\\Bachelor-Thesis\\src\\pycolator.py:41: SettingWithCopyWarning: \n",
      "A value is trying to be set on a copy of a slice from a DataFrame\n",
      "\n",
      "See the caveats in the documentation: http://pandas.pydata.org/pandas-docs/stable/indexing.html#indexing-view-versus-copy\n",
      "  df.sort_values(scoreColName, ascending=False, inplace = True)\n",
      "C:\\Users\\emilp\\AppData\\Roaming\\Python\\Python37\\site-packages\\pandas\\core\\generic.py:5890: SettingWithCopyWarning: \n",
      "A value is trying to be set on a copy of a slice from a DataFrame\n",
      "\n",
      "See the caveats in the documentation: http://pandas.pydata.org/pandas-docs/stable/indexing.html#indexing-view-versus-copy\n",
      "  self._update_inplace(new_data)\n",
      "C:\\Users\\emilp\\Documents\\Uni\\Bachelorarbeit\\Bachelor-Thesis\\src\\pycolator.py:43: SettingWithCopyWarning: \n",
      "A value is trying to be set on a copy of a slice from a DataFrame.\n",
      "Try using .loc[row_indexer,col_indexer] = value instead\n",
      "\n",
      "See the caveats in the documentation: http://pandas.pydata.org/pandas-docs/stable/indexing.html#indexing-view-versus-copy\n",
      "  df['FDR'] = 1 - (df[labelColName].cumsum()/[i + 1 for i in range(len(df.index))])\n",
      "C:\\Users\\emilp\\Documents\\Uni\\Bachelorarbeit\\Bachelor-Thesis\\src\\pycolator.py:44: SettingWithCopyWarning: \n",
      "A value is trying to be set on a copy of a slice from a DataFrame.\n",
      "Try using .loc[row_indexer,col_indexer] = value instead\n",
      "\n",
      "See the caveats in the documentation: http://pandas.pydata.org/pandas-docs/stable/indexing.html#indexing-view-versus-copy\n",
      "  df['q-val'] = df['FDR'][::-1].cummin()[::-1]\n",
      "C:\\Users\\emilp\\Documents\\Uni\\Bachelorarbeit\\Bachelor-Thesis\\src\\pycolator.py:246: SettingWithCopyWarning: \n",
      "A value is trying to be set on a copy of a slice from a DataFrame.\n",
      "Try using .loc[row_indexer,col_indexer] = value instead\n",
      "\n",
      "See the caveats in the documentation: http://pandas.pydata.org/pandas-docs/stable/indexing.html#indexing-view-versus-copy\n",
      "  validate[scoreName] = (validate[scoreNameTemp] - qThreshold) / (qThreshold - decoyMedian)\n"
     ]
    },
    {
     "name": "stdout",
     "output_type": "stream",
     "text": [
      "Iteration 8/10 done!\n",
      "Training in iteration 9 with split 1/3 starts!\n"
     ]
    },
    {
     "name": "stderr",
     "output_type": "stream",
     "text": [
      "C:\\Users\\emilp\\Documents\\Uni\\Bachelorarbeit\\Bachelor-Thesis\\src\\pycolator.py:240: SettingWithCopyWarning: \n",
      "A value is trying to be set on a copy of a slice from a DataFrame.\n",
      "Try using .loc[row_indexer,col_indexer] = value instead\n",
      "\n",
      "See the caveats in the documentation: http://pandas.pydata.org/pandas-docs/stable/indexing.html#indexing-view-versus-copy\n",
      "  validate[scoreNameTemp] = clf.decision_function(X)\n",
      "C:\\Users\\emilp\\Documents\\Uni\\Bachelorarbeit\\Bachelor-Thesis\\src\\pycolator.py:41: SettingWithCopyWarning: \n",
      "A value is trying to be set on a copy of a slice from a DataFrame\n",
      "\n",
      "See the caveats in the documentation: http://pandas.pydata.org/pandas-docs/stable/indexing.html#indexing-view-versus-copy\n",
      "  df.sort_values(scoreColName, ascending=False, inplace = True)\n",
      "C:\\Users\\emilp\\AppData\\Roaming\\Python\\Python37\\site-packages\\pandas\\core\\generic.py:5890: SettingWithCopyWarning: \n",
      "A value is trying to be set on a copy of a slice from a DataFrame\n",
      "\n",
      "See the caveats in the documentation: http://pandas.pydata.org/pandas-docs/stable/indexing.html#indexing-view-versus-copy\n",
      "  self._update_inplace(new_data)\n",
      "C:\\Users\\emilp\\Documents\\Uni\\Bachelorarbeit\\Bachelor-Thesis\\src\\pycolator.py:43: SettingWithCopyWarning: \n",
      "A value is trying to be set on a copy of a slice from a DataFrame.\n",
      "Try using .loc[row_indexer,col_indexer] = value instead\n",
      "\n",
      "See the caveats in the documentation: http://pandas.pydata.org/pandas-docs/stable/indexing.html#indexing-view-versus-copy\n",
      "  df['FDR'] = 1 - (df[labelColName].cumsum()/[i + 1 for i in range(len(df.index))])\n",
      "C:\\Users\\emilp\\Documents\\Uni\\Bachelorarbeit\\Bachelor-Thesis\\src\\pycolator.py:44: SettingWithCopyWarning: \n",
      "A value is trying to be set on a copy of a slice from a DataFrame.\n",
      "Try using .loc[row_indexer,col_indexer] = value instead\n",
      "\n",
      "See the caveats in the documentation: http://pandas.pydata.org/pandas-docs/stable/indexing.html#indexing-view-versus-copy\n",
      "  df['q-val'] = df['FDR'][::-1].cummin()[::-1]\n",
      "C:\\Users\\emilp\\Documents\\Uni\\Bachelorarbeit\\Bachelor-Thesis\\src\\pycolator.py:246: SettingWithCopyWarning: \n",
      "A value is trying to be set on a copy of a slice from a DataFrame.\n",
      "Try using .loc[row_indexer,col_indexer] = value instead\n",
      "\n",
      "See the caveats in the documentation: http://pandas.pydata.org/pandas-docs/stable/indexing.html#indexing-view-versus-copy\n",
      "  validate[scoreName] = (validate[scoreNameTemp] - qThreshold) / (qThreshold - decoyMedian)\n"
     ]
    },
    {
     "name": "stdout",
     "output_type": "stream",
     "text": [
      "Training in iteration 9 with split 2/3 starts!\n"
     ]
    },
    {
     "name": "stderr",
     "output_type": "stream",
     "text": [
      "C:\\Users\\emilp\\Documents\\Uni\\Bachelorarbeit\\Bachelor-Thesis\\src\\pycolator.py:240: SettingWithCopyWarning: \n",
      "A value is trying to be set on a copy of a slice from a DataFrame.\n",
      "Try using .loc[row_indexer,col_indexer] = value instead\n",
      "\n",
      "See the caveats in the documentation: http://pandas.pydata.org/pandas-docs/stable/indexing.html#indexing-view-versus-copy\n",
      "  validate[scoreNameTemp] = clf.decision_function(X)\n",
      "C:\\Users\\emilp\\Documents\\Uni\\Bachelorarbeit\\Bachelor-Thesis\\src\\pycolator.py:41: SettingWithCopyWarning: \n",
      "A value is trying to be set on a copy of a slice from a DataFrame\n",
      "\n",
      "See the caveats in the documentation: http://pandas.pydata.org/pandas-docs/stable/indexing.html#indexing-view-versus-copy\n",
      "  df.sort_values(scoreColName, ascending=False, inplace = True)\n",
      "C:\\Users\\emilp\\AppData\\Roaming\\Python\\Python37\\site-packages\\pandas\\core\\generic.py:5890: SettingWithCopyWarning: \n",
      "A value is trying to be set on a copy of a slice from a DataFrame\n",
      "\n",
      "See the caveats in the documentation: http://pandas.pydata.org/pandas-docs/stable/indexing.html#indexing-view-versus-copy\n",
      "  self._update_inplace(new_data)\n",
      "C:\\Users\\emilp\\Documents\\Uni\\Bachelorarbeit\\Bachelor-Thesis\\src\\pycolator.py:43: SettingWithCopyWarning: \n",
      "A value is trying to be set on a copy of a slice from a DataFrame.\n",
      "Try using .loc[row_indexer,col_indexer] = value instead\n",
      "\n",
      "See the caveats in the documentation: http://pandas.pydata.org/pandas-docs/stable/indexing.html#indexing-view-versus-copy\n",
      "  df['FDR'] = 1 - (df[labelColName].cumsum()/[i + 1 for i in range(len(df.index))])\n",
      "C:\\Users\\emilp\\Documents\\Uni\\Bachelorarbeit\\Bachelor-Thesis\\src\\pycolator.py:44: SettingWithCopyWarning: \n",
      "A value is trying to be set on a copy of a slice from a DataFrame.\n",
      "Try using .loc[row_indexer,col_indexer] = value instead\n",
      "\n",
      "See the caveats in the documentation: http://pandas.pydata.org/pandas-docs/stable/indexing.html#indexing-view-versus-copy\n",
      "  df['q-val'] = df['FDR'][::-1].cummin()[::-1]\n",
      "C:\\Users\\emilp\\Documents\\Uni\\Bachelorarbeit\\Bachelor-Thesis\\src\\pycolator.py:246: SettingWithCopyWarning: \n",
      "A value is trying to be set on a copy of a slice from a DataFrame.\n",
      "Try using .loc[row_indexer,col_indexer] = value instead\n",
      "\n",
      "See the caveats in the documentation: http://pandas.pydata.org/pandas-docs/stable/indexing.html#indexing-view-versus-copy\n",
      "  validate[scoreName] = (validate[scoreNameTemp] - qThreshold) / (qThreshold - decoyMedian)\n"
     ]
    },
    {
     "name": "stdout",
     "output_type": "stream",
     "text": [
      "Training in iteration 9 with split 3/3 starts!\n"
     ]
    },
    {
     "name": "stderr",
     "output_type": "stream",
     "text": [
      "C:\\Users\\emilp\\Documents\\Uni\\Bachelorarbeit\\Bachelor-Thesis\\src\\pycolator.py:240: SettingWithCopyWarning: \n",
      "A value is trying to be set on a copy of a slice from a DataFrame.\n",
      "Try using .loc[row_indexer,col_indexer] = value instead\n",
      "\n",
      "See the caveats in the documentation: http://pandas.pydata.org/pandas-docs/stable/indexing.html#indexing-view-versus-copy\n",
      "  validate[scoreNameTemp] = clf.decision_function(X)\n",
      "C:\\Users\\emilp\\Documents\\Uni\\Bachelorarbeit\\Bachelor-Thesis\\src\\pycolator.py:41: SettingWithCopyWarning: \n",
      "A value is trying to be set on a copy of a slice from a DataFrame\n",
      "\n",
      "See the caveats in the documentation: http://pandas.pydata.org/pandas-docs/stable/indexing.html#indexing-view-versus-copy\n",
      "  df.sort_values(scoreColName, ascending=False, inplace = True)\n",
      "C:\\Users\\emilp\\AppData\\Roaming\\Python\\Python37\\site-packages\\pandas\\core\\generic.py:5890: SettingWithCopyWarning: \n",
      "A value is trying to be set on a copy of a slice from a DataFrame\n",
      "\n",
      "See the caveats in the documentation: http://pandas.pydata.org/pandas-docs/stable/indexing.html#indexing-view-versus-copy\n",
      "  self._update_inplace(new_data)\n",
      "C:\\Users\\emilp\\Documents\\Uni\\Bachelorarbeit\\Bachelor-Thesis\\src\\pycolator.py:43: SettingWithCopyWarning: \n",
      "A value is trying to be set on a copy of a slice from a DataFrame.\n",
      "Try using .loc[row_indexer,col_indexer] = value instead\n",
      "\n",
      "See the caveats in the documentation: http://pandas.pydata.org/pandas-docs/stable/indexing.html#indexing-view-versus-copy\n",
      "  df['FDR'] = 1 - (df[labelColName].cumsum()/[i + 1 for i in range(len(df.index))])\n",
      "C:\\Users\\emilp\\Documents\\Uni\\Bachelorarbeit\\Bachelor-Thesis\\src\\pycolator.py:44: SettingWithCopyWarning: \n",
      "A value is trying to be set on a copy of a slice from a DataFrame.\n",
      "Try using .loc[row_indexer,col_indexer] = value instead\n",
      "\n",
      "See the caveats in the documentation: http://pandas.pydata.org/pandas-docs/stable/indexing.html#indexing-view-versus-copy\n",
      "  df['q-val'] = df['FDR'][::-1].cummin()[::-1]\n",
      "C:\\Users\\emilp\\Documents\\Uni\\Bachelorarbeit\\Bachelor-Thesis\\src\\pycolator.py:246: SettingWithCopyWarning: \n",
      "A value is trying to be set on a copy of a slice from a DataFrame.\n",
      "Try using .loc[row_indexer,col_indexer] = value instead\n",
      "\n",
      "See the caveats in the documentation: http://pandas.pydata.org/pandas-docs/stable/indexing.html#indexing-view-versus-copy\n",
      "  validate[scoreName] = (validate[scoreNameTemp] - qThreshold) / (qThreshold - decoyMedian)\n"
     ]
    },
    {
     "name": "stdout",
     "output_type": "stream",
     "text": [
      "Iteration 9/10 done!\n",
      "Training in iteration 10 with split 1/3 starts!\n"
     ]
    },
    {
     "name": "stderr",
     "output_type": "stream",
     "text": [
      "C:\\Users\\emilp\\Documents\\Uni\\Bachelorarbeit\\Bachelor-Thesis\\src\\pycolator.py:240: SettingWithCopyWarning: \n",
      "A value is trying to be set on a copy of a slice from a DataFrame.\n",
      "Try using .loc[row_indexer,col_indexer] = value instead\n",
      "\n",
      "See the caveats in the documentation: http://pandas.pydata.org/pandas-docs/stable/indexing.html#indexing-view-versus-copy\n",
      "  validate[scoreNameTemp] = clf.decision_function(X)\n",
      "C:\\Users\\emilp\\Documents\\Uni\\Bachelorarbeit\\Bachelor-Thesis\\src\\pycolator.py:41: SettingWithCopyWarning: \n",
      "A value is trying to be set on a copy of a slice from a DataFrame\n",
      "\n",
      "See the caveats in the documentation: http://pandas.pydata.org/pandas-docs/stable/indexing.html#indexing-view-versus-copy\n",
      "  df.sort_values(scoreColName, ascending=False, inplace = True)\n",
      "C:\\Users\\emilp\\AppData\\Roaming\\Python\\Python37\\site-packages\\pandas\\core\\generic.py:5890: SettingWithCopyWarning: \n",
      "A value is trying to be set on a copy of a slice from a DataFrame\n",
      "\n",
      "See the caveats in the documentation: http://pandas.pydata.org/pandas-docs/stable/indexing.html#indexing-view-versus-copy\n",
      "  self._update_inplace(new_data)\n",
      "C:\\Users\\emilp\\Documents\\Uni\\Bachelorarbeit\\Bachelor-Thesis\\src\\pycolator.py:43: SettingWithCopyWarning: \n",
      "A value is trying to be set on a copy of a slice from a DataFrame.\n",
      "Try using .loc[row_indexer,col_indexer] = value instead\n",
      "\n",
      "See the caveats in the documentation: http://pandas.pydata.org/pandas-docs/stable/indexing.html#indexing-view-versus-copy\n",
      "  df['FDR'] = 1 - (df[labelColName].cumsum()/[i + 1 for i in range(len(df.index))])\n",
      "C:\\Users\\emilp\\Documents\\Uni\\Bachelorarbeit\\Bachelor-Thesis\\src\\pycolator.py:44: SettingWithCopyWarning: \n",
      "A value is trying to be set on a copy of a slice from a DataFrame.\n",
      "Try using .loc[row_indexer,col_indexer] = value instead\n",
      "\n",
      "See the caveats in the documentation: http://pandas.pydata.org/pandas-docs/stable/indexing.html#indexing-view-versus-copy\n",
      "  df['q-val'] = df['FDR'][::-1].cummin()[::-1]\n",
      "C:\\Users\\emilp\\Documents\\Uni\\Bachelorarbeit\\Bachelor-Thesis\\src\\pycolator.py:246: SettingWithCopyWarning: \n",
      "A value is trying to be set on a copy of a slice from a DataFrame.\n",
      "Try using .loc[row_indexer,col_indexer] = value instead\n",
      "\n",
      "See the caveats in the documentation: http://pandas.pydata.org/pandas-docs/stable/indexing.html#indexing-view-versus-copy\n",
      "  validate[scoreName] = (validate[scoreNameTemp] - qThreshold) / (qThreshold - decoyMedian)\n"
     ]
    },
    {
     "name": "stdout",
     "output_type": "stream",
     "text": [
      "Training in iteration 10 with split 2/3 starts!\n"
     ]
    },
    {
     "name": "stderr",
     "output_type": "stream",
     "text": [
      "C:\\Users\\emilp\\Documents\\Uni\\Bachelorarbeit\\Bachelor-Thesis\\src\\pycolator.py:240: SettingWithCopyWarning: \n",
      "A value is trying to be set on a copy of a slice from a DataFrame.\n",
      "Try using .loc[row_indexer,col_indexer] = value instead\n",
      "\n",
      "See the caveats in the documentation: http://pandas.pydata.org/pandas-docs/stable/indexing.html#indexing-view-versus-copy\n",
      "  validate[scoreNameTemp] = clf.decision_function(X)\n",
      "C:\\Users\\emilp\\Documents\\Uni\\Bachelorarbeit\\Bachelor-Thesis\\src\\pycolator.py:41: SettingWithCopyWarning: \n",
      "A value is trying to be set on a copy of a slice from a DataFrame\n",
      "\n",
      "See the caveats in the documentation: http://pandas.pydata.org/pandas-docs/stable/indexing.html#indexing-view-versus-copy\n",
      "  df.sort_values(scoreColName, ascending=False, inplace = True)\n",
      "C:\\Users\\emilp\\AppData\\Roaming\\Python\\Python37\\site-packages\\pandas\\core\\generic.py:5890: SettingWithCopyWarning: \n",
      "A value is trying to be set on a copy of a slice from a DataFrame\n",
      "\n",
      "See the caveats in the documentation: http://pandas.pydata.org/pandas-docs/stable/indexing.html#indexing-view-versus-copy\n",
      "  self._update_inplace(new_data)\n",
      "C:\\Users\\emilp\\Documents\\Uni\\Bachelorarbeit\\Bachelor-Thesis\\src\\pycolator.py:43: SettingWithCopyWarning: \n",
      "A value is trying to be set on a copy of a slice from a DataFrame.\n",
      "Try using .loc[row_indexer,col_indexer] = value instead\n",
      "\n",
      "See the caveats in the documentation: http://pandas.pydata.org/pandas-docs/stable/indexing.html#indexing-view-versus-copy\n",
      "  df['FDR'] = 1 - (df[labelColName].cumsum()/[i + 1 for i in range(len(df.index))])\n",
      "C:\\Users\\emilp\\Documents\\Uni\\Bachelorarbeit\\Bachelor-Thesis\\src\\pycolator.py:44: SettingWithCopyWarning: \n",
      "A value is trying to be set on a copy of a slice from a DataFrame.\n",
      "Try using .loc[row_indexer,col_indexer] = value instead\n",
      "\n",
      "See the caveats in the documentation: http://pandas.pydata.org/pandas-docs/stable/indexing.html#indexing-view-versus-copy\n",
      "  df['q-val'] = df['FDR'][::-1].cummin()[::-1]\n",
      "C:\\Users\\emilp\\Documents\\Uni\\Bachelorarbeit\\Bachelor-Thesis\\src\\pycolator.py:246: SettingWithCopyWarning: \n",
      "A value is trying to be set on a copy of a slice from a DataFrame.\n",
      "Try using .loc[row_indexer,col_indexer] = value instead\n",
      "\n",
      "See the caveats in the documentation: http://pandas.pydata.org/pandas-docs/stable/indexing.html#indexing-view-versus-copy\n",
      "  validate[scoreName] = (validate[scoreNameTemp] - qThreshold) / (qThreshold - decoyMedian)\n"
     ]
    },
    {
     "name": "stdout",
     "output_type": "stream",
     "text": [
      "Training in iteration 10 with split 3/3 starts!\n"
     ]
    },
    {
     "name": "stderr",
     "output_type": "stream",
     "text": [
      "C:\\Users\\emilp\\Documents\\Uni\\Bachelorarbeit\\Bachelor-Thesis\\src\\pycolator.py:240: SettingWithCopyWarning: \n",
      "A value is trying to be set on a copy of a slice from a DataFrame.\n",
      "Try using .loc[row_indexer,col_indexer] = value instead\n",
      "\n",
      "See the caveats in the documentation: http://pandas.pydata.org/pandas-docs/stable/indexing.html#indexing-view-versus-copy\n",
      "  validate[scoreNameTemp] = clf.decision_function(X)\n",
      "C:\\Users\\emilp\\Documents\\Uni\\Bachelorarbeit\\Bachelor-Thesis\\src\\pycolator.py:41: SettingWithCopyWarning: \n",
      "A value is trying to be set on a copy of a slice from a DataFrame\n",
      "\n",
      "See the caveats in the documentation: http://pandas.pydata.org/pandas-docs/stable/indexing.html#indexing-view-versus-copy\n",
      "  df.sort_values(scoreColName, ascending=False, inplace = True)\n",
      "C:\\Users\\emilp\\AppData\\Roaming\\Python\\Python37\\site-packages\\pandas\\core\\generic.py:5890: SettingWithCopyWarning: \n",
      "A value is trying to be set on a copy of a slice from a DataFrame\n",
      "\n",
      "See the caveats in the documentation: http://pandas.pydata.org/pandas-docs/stable/indexing.html#indexing-view-versus-copy\n",
      "  self._update_inplace(new_data)\n",
      "C:\\Users\\emilp\\Documents\\Uni\\Bachelorarbeit\\Bachelor-Thesis\\src\\pycolator.py:43: SettingWithCopyWarning: \n",
      "A value is trying to be set on a copy of a slice from a DataFrame.\n",
      "Try using .loc[row_indexer,col_indexer] = value instead\n",
      "\n",
      "See the caveats in the documentation: http://pandas.pydata.org/pandas-docs/stable/indexing.html#indexing-view-versus-copy\n",
      "  df['FDR'] = 1 - (df[labelColName].cumsum()/[i + 1 for i in range(len(df.index))])\n",
      "C:\\Users\\emilp\\Documents\\Uni\\Bachelorarbeit\\Bachelor-Thesis\\src\\pycolator.py:44: SettingWithCopyWarning: \n",
      "A value is trying to be set on a copy of a slice from a DataFrame.\n",
      "Try using .loc[row_indexer,col_indexer] = value instead\n",
      "\n",
      "See the caveats in the documentation: http://pandas.pydata.org/pandas-docs/stable/indexing.html#indexing-view-versus-copy\n",
      "  df['q-val'] = df['FDR'][::-1].cummin()[::-1]\n",
      "C:\\Users\\emilp\\Documents\\Uni\\Bachelorarbeit\\Bachelor-Thesis\\src\\pycolator.py:246: SettingWithCopyWarning: \n",
      "A value is trying to be set on a copy of a slice from a DataFrame.\n",
      "Try using .loc[row_indexer,col_indexer] = value instead\n",
      "\n",
      "See the caveats in the documentation: http://pandas.pydata.org/pandas-docs/stable/indexing.html#indexing-view-versus-copy\n",
      "  validate[scoreName] = (validate[scoreNameTemp] - qThreshold) / (qThreshold - decoyMedian)\n"
     ]
    },
    {
     "name": "stdout",
     "output_type": "stream",
     "text": [
      "Iteration 10/10 done!\n"
     ]
    },
    {
     "data": {
      "image/png": "[encoded data removed]",
      "text/plain": [
       "<Figure size 432x288 with 1 Axes>"
      ]
     },
     "metadata": {
      "needs_background": "light"
     },
     "output_type": "display_data"
    },
    {
     "data": {
      "image/png": "[encoded data removed]",
      "text/plain": [
       "<Figure size 432x288 with 1 Axes>"
      ]
     },
     "metadata": {
      "needs_background": "light"
     },
     "output_type": "display_data"
    },
    {
     "data": {
      "image/png": "[encoded data removed]",
      "text/plain": [
       "<Figure size 432x288 with 1 Axes>"
      ]
     },
     "metadata": {
      "needs_background": "light"
     },
     "output_type": "display_data"
    }
   ],
   "source": [
    "p = percolator(dSlow, idCol, excluded, plotEveryIter = True, plotSaveName = '../results/percolator_acv_{}_ScanNrTest.png')"
   ]
  },
  {
   "cell_type": "code",
   "execution_count": 3,
   "metadata": {},
   "outputs": [
    {
     "data": {
      "text/plain": [
       "342.3792564454764"
      ]
     },
     "execution_count": 3,
     "metadata": {},
     "output_type": "execute_result"
    },
    {
     "data": {
      "image/png": "[encoded data removed]",
      "text/plain": [
       "<Figure size 432x288 with 1 Axes>"
      ]
     },
     "metadata": {
      "needs_background": "light"
     },
     "output_type": "display_data"
    }
   ],
   "source": [
    "pseudoROC(p)"
   ]
  },
  {
   "cell_type": "code",
   "execution_count": 4,
   "metadata": {},
   "outputs": [
    {
     "data": {
      "text/plain": [
       "[52.91555820149449, 289.8600557672981]"
      ]
     },
     "execution_count": 4,
     "metadata": {},
     "output_type": "execute_result"
    },
    {
     "data": {
      "image/png": "[encoded data removed]",
      "text/plain": [
       "<Figure size 432x288 with 1 Axes>"
      ]
     },
     "metadata": {
      "needs_background": "light"
     },
     "output_type": "display_data"
    }
   ],
   "source": [
    "evalXL(p)"
   ]
  },
  {
   "cell_type": "code",
   "execution_count": 5,
   "metadata": {},
   "outputs": [
    {
     "data": {
      "text/plain": [
       "[48.105051743546106, 166.24870094745975]"
      ]
     },
     "execution_count": 5,
     "metadata": {},
     "output_type": "execute_result"
    },
    {
     "data": {
      "image/png": "[encoded data removed]",
      "text/plain": [
       "<Figure size 432x288 with 1 Axes>"
      ]
     },
     "metadata": {
      "needs_background": "light"
     },
     "output_type": "display_data"
    }
   ],
   "source": [
    "evalXL(dSlow)"
   ]
  }
 ],
 "metadata": {
  "kernelspec": {
   "display_name": "Python 3",
   "language": "python",
   "name": "python3"
  },
  "language_info": {
   "codemirror_mode": {
    "name": "ipython",
    "version": 3
   },
   "file_extension": ".py",
   "mimetype": "text/x-python",
   "name": "python",
   "nbconvert_exporter": "python",
   "pygments_lexer": "ipython3",
   "version": "3.7.4"
  }
 },
 "nbformat": 4,
 "nbformat_minor": 2
}
