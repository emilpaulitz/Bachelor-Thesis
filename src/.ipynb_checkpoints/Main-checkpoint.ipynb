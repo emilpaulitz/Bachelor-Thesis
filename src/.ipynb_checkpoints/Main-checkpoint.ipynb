{
 "cells": [
  {
   "cell_type": "code",
   "execution_count": 1,
   "metadata": {},
   "outputs": [
    {
     "name": "stdout",
     "output_type": "stream",
     "text": [
      "file read...\n",
      "strings converted to floats...\n",
      "q-values estimated...\n",
      "ranks computed...\n",
      "features normed...\n",
      "floats converted to int...\n",
      "file ready!\n",
      "Wall time: 16.1 s\n"
     ]
    }
   ],
   "source": [
    "%%time\n",
    "from pycolator import *\n",
    "\n",
    "idCol = 'SpecId'\n",
    "scoreCol = 'NuXL:score'\n",
    "excluded = ['SpecId', 'Label', 'ScanNr', 'Peptide', 'Proteins', 'FDR', 'q-val', 'class-specific_q-val', 'Rank', 'temp_score', 'percolator_score']\n",
    "\n",
    "dSlow = readAndProcess('../data/1-AChernev_080219_dir_HeLa_cyt_UCGA_slow.tsv', idCol, scoreCol, excludedCols = excluded)\n",
    "features = [x for x in list(dSlow.columns) if (x not in excluded)]"
   ]
  },
  {
   "cell_type": "code",
   "execution_count": 2,
   "metadata": {},
   "outputs": [
    {
     "name": "stdout",
     "output_type": "stream",
     "text": [
      "Training in iteration 1 with split 1/3 starts!\n",
      "Length of positive trainingset: 3633, length of negative training set: 28394\n",
      "Optimal parameters are C=10 and class_weight={0: 3, 1: 10}.\n",
      "\n",
      "Training in iteration 1 with split 2/3 starts!\n",
      "Length of positive trainingset: 3845, length of negative training set: 28394\n",
      "Optimal parameters are C=1 and class_weight={0: 10, 1: 10}.\n",
      "\n",
      "Training in iteration 1 with split 3/3 starts!\n",
      "Length of positive trainingset: 4277, length of negative training set: 28396\n",
      "Optimal parameters are C=1 and class_weight={0: 10, 1: 10}.\n",
      "\n",
      "Iteration 1/10 done!\n",
      "This iteration yielded identifications of 4872.\n",
      "Training in iteration 2 with split 1/3 starts!\n",
      "Length of positive trainingset: 4425, length of negative training set: 28394\n",
      "Optimal parameters are C=1 and class_weight={0: 10, 1: 10}.\n",
      "\n",
      "Training in iteration 2 with split 2/3 starts!\n",
      "Length of positive trainingset: 4483, length of negative training set: 28394\n",
      "Optimal parameters are C=10 and class_weight={0: 10, 1: 10}.\n",
      "\n",
      "Training in iteration 2 with split 3/3 starts!\n",
      "Length of positive trainingset: 4773, length of negative training set: 28396\n",
      "Optimal parameters are C=0.1 and class_weight={0: 10, 1: 10}.\n",
      "\n",
      "Iteration 2/10 done!\n",
      "This iteration yielded identifications of 5532.\n",
      "Training in iteration 3 with split 1/3 starts!\n",
      "Length of positive trainingset: 4894, length of negative training set: 28394\n",
      "Optimal parameters are C=1 and class_weight={0: 10, 1: 10}.\n",
      "\n",
      "Training in iteration 3 with split 2/3 starts!\n",
      "Length of positive trainingset: 5098, length of negative training set: 28394\n",
      "Optimal parameters are C=10 and class_weight={0: 3, 1: 10}.\n",
      "\n",
      "Training in iteration 3 with split 3/3 starts!\n",
      "Length of positive trainingset: 5152, length of negative training set: 28396\n",
      "Optimal parameters are C=10 and class_weight={0: 3, 1: 10}.\n",
      "\n",
      "Iteration 3/10 done!\n",
      "This iteration yielded identifications of 5816.\n",
      "Training in iteration 4 with split 1/3 starts!\n",
      "Length of positive trainingset: 5218, length of negative training set: 28394\n",
      "Optimal parameters are C=1 and class_weight={0: 10, 1: 10}.\n",
      "\n",
      "Training in iteration 4 with split 2/3 starts!\n",
      "Length of positive trainingset: 5268, length of negative training set: 28394\n",
      "Optimal parameters are C=10 and class_weight={0: 10, 1: 10}.\n",
      "\n",
      "Training in iteration 4 with split 3/3 starts!\n",
      "Length of positive trainingset: 5275, length of negative training set: 28396\n",
      "Optimal parameters are C=10 and class_weight={0: 3, 1: 10}.\n",
      "\n",
      "Iteration 4/10 done!\n",
      "This iteration yielded identifications of 5868.\n",
      "Re-ranking complete. Cutting off low ranks.\n",
      "\n",
      "Training in iteration 5 with split 1/3 starts!\n",
      "Length of positive trainingset: 4597, length of negative training set: 8060\n",
      "Optimal parameters are C=10 and class_weight={0: 3, 1: 10}.\n",
      "\n",
      "Training in iteration 5 with split 2/3 starts!\n",
      "Length of positive trainingset: 4669, length of negative training set: 8062\n",
      "Optimal parameters are C=10 and class_weight={0: 3, 1: 10}.\n",
      "\n",
      "Training in iteration 5 with split 3/3 starts!\n",
      "Length of positive trainingset: 4895, length of negative training set: 8062\n",
      "Optimal parameters are C=10 and class_weight={0: 3, 1: 10}.\n",
      "\n",
      "Iteration 5/10 done!\n",
      "This iteration yielded identifications of 6412.\n",
      "Training in iteration 6 with split 1/3 starts!\n",
      "Length of positive trainingset: 4876, length of negative training set: 8060\n",
      "Optimal parameters are C=10 and class_weight={0: 3, 1: 10}.\n",
      "\n",
      "Training in iteration 6 with split 2/3 starts!\n",
      "Length of positive trainingset: 4861, length of negative training set: 8062\n",
      "Optimal parameters are C=10 and class_weight={0: 3, 1: 10}.\n",
      "\n",
      "Training in iteration 6 with split 3/3 starts!\n",
      "Length of positive trainingset: 4843, length of negative training set: 8062\n",
      "Optimal parameters are C=10 and class_weight={0: 3, 1: 10}.\n",
      "\n",
      "Iteration 6/10 done!\n",
      "This iteration yielded identifications of 6465.\n",
      "Training in iteration 7 with split 1/3 starts!\n",
      "Length of positive trainingset: 4918, length of negative training set: 8060\n",
      "Optimal parameters are C=10 and class_weight={0: 3, 1: 10}.\n",
      "\n",
      "Training in iteration 7 with split 2/3 starts!\n",
      "Length of positive trainingset: 4865, length of negative training set: 8062\n",
      "Optimal parameters are C=10 and class_weight={0: 3, 1: 10}.\n",
      "\n",
      "Training in iteration 7 with split 3/3 starts!\n",
      "Length of positive trainingset: 4890, length of negative training set: 8062\n",
      "Optimal parameters are C=10 and class_weight={0: 3, 1: 10}.\n",
      "\n",
      "Iteration 7/10 done!\n",
      "This iteration yielded identifications of 6474.\n",
      "Training in iteration 8 with split 1/3 starts!\n",
      "Length of positive trainingset: 4910, length of negative training set: 8060\n",
      "Optimal parameters are C=10 and class_weight={0: 3, 1: 10}.\n",
      "\n",
      "Training in iteration 8 with split 2/3 starts!\n",
      "Length of positive trainingset: 4846, length of negative training set: 8062\n",
      "Optimal parameters are C=10 and class_weight={0: 3, 1: 10}.\n",
      "\n",
      "Training in iteration 8 with split 3/3 starts!\n",
      "Length of positive trainingset: 4905, length of negative training set: 8062\n",
      "Optimal parameters are C=10 and class_weight={0: 3, 1: 10}.\n",
      "\n",
      "Iteration 8/10 done!\n",
      "This iteration yielded identifications of 6489.\n",
      "Training in iteration 9 with split 1/3 starts!\n",
      "Length of positive trainingset: 4909, length of negative training set: 8060\n",
      "Optimal parameters are C=10 and class_weight={0: 3, 1: 10}.\n",
      "\n",
      "Training in iteration 9 with split 2/3 starts!\n",
      "Length of positive trainingset: 4859, length of negative training set: 8062\n",
      "Optimal parameters are C=10 and class_weight={0: 3, 1: 10}.\n",
      "\n",
      "Training in iteration 9 with split 3/3 starts!\n",
      "Length of positive trainingset: 4885, length of negative training set: 8062\n",
      "Optimal parameters are C=10 and class_weight={0: 3, 1: 10}.\n",
      "\n",
      "Iteration 9/10 done!\n",
      "This iteration yielded identifications of 6490.\n",
      "Training in iteration 10 with split 1/3 starts!\n",
      "Length of positive trainingset: 4925, length of negative training set: 8060\n",
      "Optimal parameters are C=10 and class_weight={0: 3, 1: 10}.\n",
      "\n",
      "Training in iteration 10 with split 2/3 starts!\n",
      "Length of positive trainingset: 4849, length of negative training set: 8062\n",
      "Optimal parameters are C=10 and class_weight={0: 3, 1: 10}.\n",
      "\n",
      "Training in iteration 10 with split 3/3 starts!\n",
      "Length of positive trainingset: 4916, length of negative training set: 8062\n",
      "Optimal parameters are C=10 and class_weight={0: 3, 1: 10}.\n",
      "\n",
      "Iteration 10/10 done!\n",
      "This iteration yielded identifications of 6508.\n",
      "Terminating and using Iteration 10 with identifications of 6508.\n"
     ]
    },
    {
     "data": {
      "image/png": "[encoded data removed]",
      "text/plain": [
       "<Figure size 432x288 with 1 Axes>"
      ]
     },
     "metadata": {
      "needs_background": "light"
     },
     "output_type": "display_data"
    },
    {
     "name": "stdout",
     "output_type": "stream",
     "text": [
      "Wall time: 2min 37s\n"
     ]
    }
   ],
   "source": [
    "%%time\n",
    "\n",
    "saveName = ''\n",
    "\n",
    "p = percolator_experimental(dSlow, idCol, features, plotSaveName = saveName)"
   ]
  },
  {
   "cell_type": "code",
   "execution_count": 3,
   "metadata": {},
   "outputs": [
    {
     "data": {
      "text/plain": [
       "6508"
      ]
     },
     "execution_count": 3,
     "metadata": {},
     "output_type": "execute_result"
    }
   ],
   "source": [
    "len(p.loc[p['q-val'] <= 0.01])"
   ]
  }
 ],
 "metadata": {
  "kernelspec": {
   "display_name": "Python 3",
   "language": "python",
   "name": "python3"
  },
  "language_info": {
   "codemirror_mode": {
    "name": "ipython",
    "version": 3
   },
   "file_extension": ".py",
   "mimetype": "text/x-python",
   "name": "python",
   "nbconvert_exporter": "python",
   "pygments_lexer": "ipython3",
   "version": "3.7.4"
  }
 },
 "nbformat": 4,
 "nbformat_minor": 2
}
