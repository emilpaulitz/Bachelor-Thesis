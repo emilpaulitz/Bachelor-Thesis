{
 "cells": [
  {
   "cell_type": "code",
   "execution_count": 1,
   "metadata": {
    "scrolled": true
   },
   "outputs": [
    {
     "ename": "NameError",
     "evalue": "name 'readAndProcess' is not defined",
     "output_type": "error",
     "traceback": [
      "\u001b[1;31m---------------------------------------------------------------------------\u001b[0m",
      "\u001b[1;31mNameError\u001b[0m                                 Traceback (most recent call last)",
      "\u001b[1;32m<ipython-input-1-3cc6dc067d8e>\u001b[0m in \u001b[0;36m<module>\u001b[1;34m\u001b[0m\n\u001b[0;32m      8\u001b[0m \u001b[0mexcluded\u001b[0m \u001b[1;33m=\u001b[0m \u001b[1;33m[\u001b[0m\u001b[1;34m'SpecId'\u001b[0m\u001b[1;33m,\u001b[0m \u001b[1;34m'Label'\u001b[0m\u001b[1;33m,\u001b[0m \u001b[1;34m'ScanNr'\u001b[0m\u001b[1;33m,\u001b[0m \u001b[1;34m'Peptide'\u001b[0m\u001b[1;33m,\u001b[0m \u001b[1;34m'Proteins'\u001b[0m\u001b[1;33m,\u001b[0m \u001b[1;34m'FDR'\u001b[0m\u001b[1;33m,\u001b[0m \u001b[1;34m'q-val'\u001b[0m\u001b[1;33m,\u001b[0m \u001b[1;34m'class-specific_q-val'\u001b[0m\u001b[1;33m,\u001b[0m \u001b[1;34m'Rank'\u001b[0m\u001b[1;33m,\u001b[0m \u001b[1;34m'temp_score'\u001b[0m\u001b[1;33m,\u001b[0m \u001b[1;34m'percolator_score'\u001b[0m\u001b[1;33m]\u001b[0m\u001b[1;33m\u001b[0m\u001b[1;33m\u001b[0m\u001b[0m\n\u001b[0;32m      9\u001b[0m \u001b[1;33m\u001b[0m\u001b[0m\n\u001b[1;32m---> 10\u001b[1;33m \u001b[0mdSlow\u001b[0m \u001b[1;33m=\u001b[0m \u001b[0mreadAndProcess\u001b[0m\u001b[1;33m(\u001b[0m\u001b[1;34m'../data/1-AChernev_080219_dir_HeLa_cyt_UCGA_slow.tsv'\u001b[0m\u001b[1;33m,\u001b[0m \u001b[0midCol\u001b[0m\u001b[1;33m,\u001b[0m \u001b[0mscoreCol\u001b[0m\u001b[1;33m,\u001b[0m \u001b[0mexcludedCols\u001b[0m \u001b[1;33m=\u001b[0m \u001b[0mexcluded\u001b[0m\u001b[1;33m)\u001b[0m\u001b[1;33m\u001b[0m\u001b[1;33m\u001b[0m\u001b[0m\n\u001b[0m",
      "\u001b[1;31mNameError\u001b[0m: name 'readAndProcess' is not defined"
     ]
    }
   ],
   "source": [
    "import importlib.util\n",
    "spec = importlib.util.spec_from_file_location(\"pycolator\", \"C:/Users/emilp/Documents/Uni/Bachelorarbeit/Bachelor-Thesis/src/pycolator.py\")\n",
    "p = importlib.util.module_from_spec(spec)\n",
    "spec.loader.exec_module(p)\n",
    "\n",
    "idCol = 'SpecId'\n",
    "scoreCol = 'NuXL:score'\n",
    "excluded = ['SpecId', 'Label', 'ScanNr', 'Peptide', 'Proteins', 'FDR', 'q-val', 'class-specific_q-val', 'Rank', 'temp_score', 'percolator_score']\n",
    "\n",
    "dSlow = readAndProcess('../data/1-AChernev_080219_dir_HeLa_cyt_UCGA_slow.tsv', idCol, scoreCol, excludedCols = excluded)"
   ]
  },
  {
   "cell_type": "code",
   "execution_count": null,
   "metadata": {
    "scrolled": true
   },
   "outputs": [],
   "source": [
    "p = percolator_experimental(dSlow, idCol, excluded, plotEveryIter = True, balancedOption=True, peptideTest = True,plotSaveName = '../results/percolator_acv_{}_peptideTest_withInnerCV.png')"
   ]
  },
  {
   "cell_type": "code",
   "execution_count": null,
   "metadata": {},
   "outputs": [],
   "source": [
    "pseudoROC(p)"
   ]
  },
  {
   "cell_type": "code",
   "execution_count": null,
   "metadata": {},
   "outputs": [],
   "source": [
    "evalXL(p)"
   ]
  },
  {
   "cell_type": "code",
   "execution_count": null,
   "metadata": {},
   "outputs": [],
   "source": [
    "evalXL(dSlow)"
   ]
  }
 ],
 "metadata": {
  "kernelspec": {
   "display_name": "Python 3",
   "language": "python",
   "name": "python3"
  },
  "language_info": {
   "codemirror_mode": {
    "name": "ipython",
    "version": 3
   },
   "file_extension": ".py",
   "mimetype": "text/x-python",
   "name": "python",
   "nbconvert_exporter": "python",
   "pygments_lexer": "ipython3",
   "version": "3.7.4"
  }
 },
 "nbformat": 4,
 "nbformat_minor": 2
}
