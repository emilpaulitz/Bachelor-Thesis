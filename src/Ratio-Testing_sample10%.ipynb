{
 "cells": [
  {
   "cell_type": "code",
   "execution_count": 1,
   "metadata": {},
   "outputs": [],
   "source": [
    "sampSize = 10"
   ]
  },
  {
   "cell_type": "code",
   "execution_count": 14,
   "metadata": {
    "scrolled": false
   },
   "outputs": [
    {
     "name": "stdout",
     "output_type": "stream",
     "text": [
      "file read...\n",
      "strings converted to floats...\n",
      "q-values estimated...\n",
      "ranks computed...\n",
      "features normed...\n",
      "floats converted to ints...\n",
      "file ready!\n",
      "Wall time: 17.4 s\n"
     ]
    }
   ],
   "source": [
    "%%time\n",
    "from pycolator import *\n",
    "\n",
    "idCol = 'SpecId'\n",
    "scoreCol = 'NuXL:score'\n",
    "excluded = ['SpecId', 'Label', 'ScanNr', 'Peptide', 'Proteins', 'FDR', 'q-val', 'class-specific_q-val', 'Rank', 'temp_score', 'percolator_score']\n",
    "\n",
    "dSlow = readAndProcess('../data/1-AChernev_080219_dir_HeLa_cyt_UCGA_slow.tsv', idCol, scoreCol, excludedCols = excluded)\n",
    "features = [x for x in list(dSlow.columns) if (x not in excluded)]"
   ]
  },
  {
   "cell_type": "markdown",
   "metadata": {},
   "source": [
    "# TODO: MONTE CARLO SAMPLING INTO BOX PLOTS?"
   ]
  },
  {
   "cell_type": "code",
   "execution_count": 3,
   "metadata": {},
   "outputs": [],
   "source": [
    "# set up metrices of original data set\n",
    "\n",
    "oriIdents = [[]] * sampSize\n",
    "oriExpectIdents = [[]] * sampSize\n",
    "oriLen = [[]] * sampSize\n",
    "oriAUCs = [[]] * sampSize\n",
    "dxl = dSlow.loc[dSlow['NuXL:isXL'] == 1]\n",
    "    \n",
    "for i in range(sampSize):\n",
    "    for portion in range(12): # smallest df has 3 entries\n",
    "        ix = list(dxl.index)\n",
    "        newDf = dxl.loc[dxl['q-val'] <= 0.1].sample(frac = 1/pow(2,portion))\n",
    "        oriExpectIdents[i].append(len(newDf.loc[newDf['q-val'] <= 0.01]))\n",
    "        newDf = calcQ(newDf, 'NuXL:score')\n",
    "        newIx = newDf.index\n",
    "        #newIx = [x for i,x in enumerate(ix) if (i % (pow(2,portion)) == 0)]\n",
    "        try:\n",
    "            oriAUCs[i].append(pseudoROC(newDf, plot = False))\n",
    "        except:\n",
    "            oriAUCs[i].append(0.0)\n",
    "        oriLen[i].append(len(newDf))\n",
    "        oriIdents[i].append(len(newDf.loc[newDf['q-val'] <= 0.01]))"
   ]
  },
  {
   "cell_type": "code",
   "execution_count": 13,
   "metadata": {},
   "outputs": [
    {
     "data": {
      "image/png": "[encoded data removed]",
      "text/plain": [
       "<Figure size 432x288 with 1 Axes>"
      ]
     },
     "metadata": {
      "needs_background": "light"
     },
     "output_type": "display_data"
    }
   ],
   "source": [
    "fig = plt.figure()\n",
    "ax = fig.add_axes([0.1, 0.1, 0.8, 0.8])\n",
    "ax.set_ylim(0,1.1)\n",
    "x = range(12)\n",
    "# y = [e/l for e,l in zip(oriExpectIdents,oriLen)]\n",
    "y = [e/l for es,ls in zip(oriExpectIdents,oriLen) for e,l in zip(es,ls)]\n",
    "# ax.plot(x, y)\n",
    "ax.boxplot(x, list(zip(y)))\n",
    "ax.set_xlabel('size of dataset')\n",
    "ax.set_title('portion of dataset with an expected q-value of less than 1%')\n",
    "ax.set_xticks(x)\n",
    "ax.set_xticklabels(oriLen[0])\n",
    "plt.show()"
   ]
  },
  {
   "cell_type": "code",
   "execution_count": 5,
   "metadata": {},
   "outputs": [
    {
     "ename": "TypeError",
     "evalue": "unsupported operand type(s) for /: 'list' and 'list'",
     "output_type": "error",
     "traceback": [
      "\u001b[1;31m---------------------------------------------------------------------------\u001b[0m",
      "\u001b[1;31mTypeError\u001b[0m                                 Traceback (most recent call last)",
      "\u001b[1;32m<ipython-input-5-3a5e035f1632>\u001b[0m in \u001b[0;36m<module>\u001b[1;34m\u001b[0m\n\u001b[0;32m      2\u001b[0m \u001b[0max\u001b[0m \u001b[1;33m=\u001b[0m \u001b[0mfig\u001b[0m\u001b[1;33m.\u001b[0m\u001b[0madd_axes\u001b[0m\u001b[1;33m(\u001b[0m\u001b[1;33m[\u001b[0m\u001b[1;36m0.1\u001b[0m\u001b[1;33m,\u001b[0m \u001b[1;36m0.1\u001b[0m\u001b[1;33m,\u001b[0m \u001b[1;36m0.8\u001b[0m\u001b[1;33m,\u001b[0m \u001b[1;36m0.8\u001b[0m\u001b[1;33m]\u001b[0m\u001b[1;33m)\u001b[0m\u001b[1;33m\u001b[0m\u001b[1;33m\u001b[0m\u001b[0m\n\u001b[0;32m      3\u001b[0m \u001b[0mx\u001b[0m \u001b[1;33m=\u001b[0m \u001b[0mrange\u001b[0m\u001b[1;33m(\u001b[0m\u001b[1;36m12\u001b[0m\u001b[1;33m)\u001b[0m\u001b[1;33m\u001b[0m\u001b[1;33m\u001b[0m\u001b[0m\n\u001b[1;32m----> 4\u001b[1;33m \u001b[0my\u001b[0m \u001b[1;33m=\u001b[0m \u001b[1;33m[\u001b[0m\u001b[0mi\u001b[0m\u001b[1;33m/\u001b[0m\u001b[0me\u001b[0m \u001b[1;32mif\u001b[0m \u001b[1;33m(\u001b[0m\u001b[0me\u001b[0m \u001b[1;33m!=\u001b[0m \u001b[1;36m0\u001b[0m\u001b[1;33m)\u001b[0m \u001b[1;32melse\u001b[0m \u001b[0mnp\u001b[0m\u001b[1;33m.\u001b[0m\u001b[0mnan\u001b[0m \u001b[1;32mfor\u001b[0m \u001b[0mi\u001b[0m\u001b[1;33m,\u001b[0m\u001b[0me\u001b[0m \u001b[1;32min\u001b[0m \u001b[0mzip\u001b[0m\u001b[1;33m(\u001b[0m\u001b[0moriIdents\u001b[0m\u001b[1;33m,\u001b[0m \u001b[0moriExpectIdents\u001b[0m\u001b[1;33m)\u001b[0m\u001b[1;33m]\u001b[0m\u001b[1;33m\u001b[0m\u001b[1;33m\u001b[0m\u001b[0m\n\u001b[0m\u001b[0;32m      5\u001b[0m \u001b[0myUpper\u001b[0m \u001b[1;33m=\u001b[0m \u001b[0mmax\u001b[0m\u001b[1;33m(\u001b[0m\u001b[1;36m2\u001b[0m \u001b[1;33m-\u001b[0m \u001b[0mmin\u001b[0m\u001b[1;33m(\u001b[0m\u001b[0my\u001b[0m\u001b[1;33m)\u001b[0m\u001b[1;33m,\u001b[0m \u001b[0mmax\u001b[0m\u001b[1;33m(\u001b[0m\u001b[0my\u001b[0m\u001b[1;33m)\u001b[0m\u001b[1;33m)\u001b[0m \u001b[1;33m+\u001b[0m \u001b[1;36m0.1\u001b[0m\u001b[1;33m\u001b[0m\u001b[1;33m\u001b[0m\u001b[0m\n\u001b[0;32m      6\u001b[0m \u001b[0max\u001b[0m\u001b[1;33m.\u001b[0m\u001b[0mset_ylim\u001b[0m\u001b[1;33m(\u001b[0m\u001b[1;36m2\u001b[0m \u001b[1;33m-\u001b[0m \u001b[0myUpper\u001b[0m\u001b[1;33m,\u001b[0m \u001b[0myUpper\u001b[0m\u001b[1;33m)\u001b[0m\u001b[1;33m\u001b[0m\u001b[1;33m\u001b[0m\u001b[0m\n",
      "\u001b[1;32m<ipython-input-5-3a5e035f1632>\u001b[0m in \u001b[0;36m<listcomp>\u001b[1;34m(.0)\u001b[0m\n\u001b[0;32m      2\u001b[0m \u001b[0max\u001b[0m \u001b[1;33m=\u001b[0m \u001b[0mfig\u001b[0m\u001b[1;33m.\u001b[0m\u001b[0madd_axes\u001b[0m\u001b[1;33m(\u001b[0m\u001b[1;33m[\u001b[0m\u001b[1;36m0.1\u001b[0m\u001b[1;33m,\u001b[0m \u001b[1;36m0.1\u001b[0m\u001b[1;33m,\u001b[0m \u001b[1;36m0.8\u001b[0m\u001b[1;33m,\u001b[0m \u001b[1;36m0.8\u001b[0m\u001b[1;33m]\u001b[0m\u001b[1;33m)\u001b[0m\u001b[1;33m\u001b[0m\u001b[1;33m\u001b[0m\u001b[0m\n\u001b[0;32m      3\u001b[0m \u001b[0mx\u001b[0m \u001b[1;33m=\u001b[0m \u001b[0mrange\u001b[0m\u001b[1;33m(\u001b[0m\u001b[1;36m12\u001b[0m\u001b[1;33m)\u001b[0m\u001b[1;33m\u001b[0m\u001b[1;33m\u001b[0m\u001b[0m\n\u001b[1;32m----> 4\u001b[1;33m \u001b[0my\u001b[0m \u001b[1;33m=\u001b[0m \u001b[1;33m[\u001b[0m\u001b[0mi\u001b[0m\u001b[1;33m/\u001b[0m\u001b[0me\u001b[0m \u001b[1;32mif\u001b[0m \u001b[1;33m(\u001b[0m\u001b[0me\u001b[0m \u001b[1;33m!=\u001b[0m \u001b[1;36m0\u001b[0m\u001b[1;33m)\u001b[0m \u001b[1;32melse\u001b[0m \u001b[0mnp\u001b[0m\u001b[1;33m.\u001b[0m\u001b[0mnan\u001b[0m \u001b[1;32mfor\u001b[0m \u001b[0mi\u001b[0m\u001b[1;33m,\u001b[0m\u001b[0me\u001b[0m \u001b[1;32min\u001b[0m \u001b[0mzip\u001b[0m\u001b[1;33m(\u001b[0m\u001b[0moriIdents\u001b[0m\u001b[1;33m,\u001b[0m \u001b[0moriExpectIdents\u001b[0m\u001b[1;33m)\u001b[0m\u001b[1;33m]\u001b[0m\u001b[1;33m\u001b[0m\u001b[1;33m\u001b[0m\u001b[0m\n\u001b[0m\u001b[0;32m      5\u001b[0m \u001b[0myUpper\u001b[0m \u001b[1;33m=\u001b[0m \u001b[0mmax\u001b[0m\u001b[1;33m(\u001b[0m\u001b[1;36m2\u001b[0m \u001b[1;33m-\u001b[0m \u001b[0mmin\u001b[0m\u001b[1;33m(\u001b[0m\u001b[0my\u001b[0m\u001b[1;33m)\u001b[0m\u001b[1;33m,\u001b[0m \u001b[0mmax\u001b[0m\u001b[1;33m(\u001b[0m\u001b[0my\u001b[0m\u001b[1;33m)\u001b[0m\u001b[1;33m)\u001b[0m \u001b[1;33m+\u001b[0m \u001b[1;36m0.1\u001b[0m\u001b[1;33m\u001b[0m\u001b[1;33m\u001b[0m\u001b[0m\n\u001b[0;32m      6\u001b[0m \u001b[0max\u001b[0m\u001b[1;33m.\u001b[0m\u001b[0mset_ylim\u001b[0m\u001b[1;33m(\u001b[0m\u001b[1;36m2\u001b[0m \u001b[1;33m-\u001b[0m \u001b[0myUpper\u001b[0m\u001b[1;33m,\u001b[0m \u001b[0myUpper\u001b[0m\u001b[1;33m)\u001b[0m\u001b[1;33m\u001b[0m\u001b[1;33m\u001b[0m\u001b[0m\n",
      "\u001b[1;31mTypeError\u001b[0m: unsupported operand type(s) for /: 'list' and 'list'"
     ]
    },
    {
     "data": {
      "image/png": "[encoded data removed]",
      "text/plain": [
       "<Figure size 432x288 with 1 Axes>"
      ]
     },
     "metadata": {
      "needs_background": "light"
     },
     "output_type": "display_data"
    }
   ],
   "source": [
    "fig = plt.figure()\n",
    "ax = fig.add_axes([0.1, 0.1, 0.8, 0.8])\n",
    "x = range(12)\n",
    "y = [i/e if (e != 0) else np.nan for i,e in zip(oriIdents, oriExpectIdents)]\n",
    "yUpper = max(2 - min(y), max(y)) + 0.1\n",
    "ax.set_ylim(2 - yUpper, yUpper)\n",
    "ax.plot(x, y)\n",
    "ax.set_xlabel('size of dataset')\n",
    "ax.set_title('number of found / number of expected idents at 1% q-value')\n",
    "ax.set_xticks(x)\n",
    "ax.set_xticklabels(oriLen)\n",
    "plt.show()"
   ]
  },
  {
   "cell_type": "code",
   "execution_count": null,
   "metadata": {
    "scrolled": true
   },
   "outputs": [],
   "source": [
    "# calculate metrices of percolator results\n",
    "\n",
    "# expected idents if algorithm would work as well as NuXL:score\n",
    "expId = [[]] * sampSize\n",
    "\n",
    "# expected idents if the algorithm would work as well as with the whole data set\n",
    "pExpectIdents = [[]] * sampSize\n",
    "\n",
    "pIdents = [[]] * sampSize\n",
    "pLen = [[]] * sampSize\n",
    "pAUCs = [[]] * sampSize\n",
    "\n",
    "saveName = ''\n",
    "\n",
    "iters = 12 # smallest df has 3 entries\n",
    "for i in range(sampSize):\n",
    "    for portion in range(iters):\n",
    "        dxl = dSlow.loc[dSlow['NuXL:isXL'] == 1]\n",
    "\n",
    "        ix = list(dxl.index)\n",
    "        newDf = dxl.loc[dxl['q-val'] <= 0.1].sample(frac = 1/pow(2,portion))\n",
    "        expId[i].append(len(newDf.loc[newDf['q-val'] <= 0.01]))\n",
    "        newIx = newDf.index\n",
    "\n",
    "        try:\n",
    "            pxl = percolator_experimental(newDf, idCol, features, plotSaveName = saveName, plotXLnXL = False)\n",
    "        except:\n",
    "            print('Dataset too small: {} PSMs. Quitting evaluation.'.format(len(newDf)))\n",
    "            iters = portion\n",
    "            del expId[-1]\n",
    "            break\n",
    "\n",
    "        if (portion == 0):\n",
    "            fullP = pd.DataFrame(pxl.loc[:,['Label', 'percolator_score', 'q-val']])\n",
    "\n",
    "        # maybe calc Q with sampled subset of fullP?\n",
    "        pExpectIdents[i].append(len(fullP.loc[(fullP.index.isin(newIx)) & (fullP['q-val'] <= 0.01)]))\n",
    "\n",
    "        try:\n",
    "            pAUCs[i].append(pseudoROC(newDf, plot = False))\n",
    "        except:\n",
    "            print('Error while calculating AUC in iteration {}/{}!'.format(portion + 1, iters))\n",
    "            pAUCs[i].append(0.0)\n",
    "        pLen[i].append(len(pxl))\n",
    "        pIdents[i].append(len(pxl.loc[pxl['q-val'] <= 0.01]))"
   ]
  },
  {
   "cell_type": "code",
   "execution_count": null,
   "metadata": {},
   "outputs": [],
   "source": [
    "fig = plt.figure()\n",
    "ax = fig.add_axes([0.1, 0.1, 0.8, 0.8])\n",
    "plt.ylim(0,1.1)\n",
    "x = range(iters)\n",
    "y = [e/l for e,l in zip(pExpectIdents,pLen)]\n",
    "ax.plot(x, y)\n",
    "ax.set_xlabel('size of dataset')\n",
    "ax.set_title('portion of dataset with an expected q-value of less than 1%')\n",
    "ax.set_xticks(x)\n",
    "ax.set_xticklabels(pLen)"
   ]
  },
  {
   "cell_type": "code",
   "execution_count": null,
   "metadata": {},
   "outputs": [],
   "source": [
    "fig = plt.figure()\n",
    "ax = fig.add_axes([0.1, 0.1, 0.8, 0.8])\n",
    "yUpper = max(2 - min(y), max(y)) + 0.1\n",
    "ax.set_ylim(2 - yUpper, yUpper)\n",
    "x = range(iters)\n",
    "y = [i/e if (e != 0) else np.nan for i,e in zip(pIdents, pExpectIdents)]\n",
    "ax.plot(x, y)\n",
    "ax.set_xlabel('size of dataset')\n",
    "ax.set_title('number of found / number of expected idents at 1% q-value')\n",
    "ax.set_xticks(x)\n",
    "ax.set_xticklabels(oriLen)\n",
    "plt.show()"
   ]
  },
  {
   "cell_type": "code",
   "execution_count": null,
   "metadata": {},
   "outputs": [],
   "source": [
    "x = range(iters)\n",
    "ratioAUCs = [p / o if (o!=0) else p + 1 for p,o in zip(pAUCs,oriAUCs)]\n",
    "ratioIdents = [p / o for p,o in zip(pIdents,oriIdents)]\n",
    "\n",
    "fig = plt.figure()\n",
    "ax = fig.add_axes([0.1, 0.1, 0.8, 0.8])\n",
    "yUpper = max(2 - min([a for a in ratioAUCs if a != 0]), max(ratioAUCs)) + 0.1\n",
    "ax.set_ylim(2 - yUpper, yUpper)\n",
    "ax.plot(x, ratioAUCs)\n",
    "ax.set_xlabel('size of dataset')\n",
    "ax.set_title('Ratio of AUCs of percolator vs NuXL')\n",
    "ax.set_xticks(x)\n",
    "ax.set_xticklabels(pLen)\n",
    "plt.show()\n",
    "\n",
    "fig = plt.figure()\n",
    "ax = fig.add_axes([0.1, 0.1, 0.8, 0.8])\n",
    "yUpper = max(2 - min(ratioIdents), max(ratioIdents)) + 0.1\n",
    "ax.set_ylim(2 - yUpper, yUpper)\n",
    "ax.plot(x,ratioIdents)\n",
    "ax.set_xlabel('size of dataset')\n",
    "ax.set_title('Ratio of Idents at 1% of percolator vs NuXL')\n",
    "ax.set_xticks(x)\n",
    "ax.set_xticklabels(pLen)\n",
    "plt.show()"
   ]
  }
 ],
 "metadata": {
  "kernelspec": {
   "display_name": "Python 3",
   "language": "python",
   "name": "python3"
  },
  "language_info": {
   "codemirror_mode": {
    "name": "ipython",
    "version": 3
   },
   "file_extension": ".py",
   "mimetype": "text/x-python",
   "name": "python",
   "nbconvert_exporter": "python",
   "pygments_lexer": "ipython3",
   "version": "3.7.6"
  }
 },
 "nbformat": 4,
 "nbformat_minor": 2
}
