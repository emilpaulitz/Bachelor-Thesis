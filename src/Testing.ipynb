{
 "cells": [
  {
   "cell_type": "code",
   "execution_count": 1,
   "metadata": {},
   "outputs": [
    {
     "name": "stdout",
     "output_type": "stream",
     "text": [
      "file read...\n",
      "strings converted to floats...\n",
      "q-values estimated...\n",
      "ranks computed...\n",
      "features normed...\n",
      "floats converted to ints...\n",
      "file ready!\n",
      "Wall time: 16 s\n"
     ]
    }
   ],
   "source": [
    "%%time\n",
    "from pycolator import *\n",
    "\n",
    "idCol = 'SpecId'\n",
    "scoreCol = 'NuXL:score'\n",
    "excluded = ['SpecId', 'Label', 'ScanNr', 'Peptide', 'Proteins', 'FDR', 'q-val', 'class-specific_q-val', 'Rank', 'temp_score', 'percolator_score']\n",
    "\n",
    "dSlow = readAndProcess('../data/1-AChernev_080219_dir_HeLa_cyt_UCGA_slow.tsv', idCol, scoreCol, excludedCols = excluded)\n",
    "features = [x for x in list(dSlow.columns) if (x not in excluded)]"
   ]
  },
  {
   "cell_type": "code",
   "execution_count": 65,
   "metadata": {},
   "outputs": [],
   "source": [
    "df = pd.concat([dSlow.head(100), dSlow.loc[dSlow.Label == 0].head(10)])"
   ]
  },
  {
   "cell_type": "code",
   "execution_count": 66,
   "metadata": {},
   "outputs": [
    {
     "name": "stdout",
     "output_type": "stream",
     "text": [
      "Training in iteration 1 with split 1/3 starts!\n",
      "Length of positive trainingset: 66, length of negative training set: 6\n",
      "Optimal parameters are C=0.1 and class_weight={0: 10, 1: 1}.\n",
      "\n",
      "Training in iteration 1 with split 2/3 starts!\n",
      "Length of positive trainingset: 67, length of negative training set: 7\n",
      "Optimal parameters are C=0.1 and class_weight={0: 3, 1: 1}.\n",
      "\n",
      "Training in iteration 1 with split 3/3 starts!\n",
      "Length of positive trainingset: 67, length of negative training set: 7\n",
      "Optimal parameters are C=0.1 and class_weight={0: 1, 1: 1}.\n",
      "\n",
      "Using AUC of pseudo-ROC with x = [0,0.05] as metric.\n",
      "Iteration 1/10 done! It yielded an auc of 4.831474843281398.\n",
      "\n",
      "Training in iteration 2 with split 1/3 starts!\n",
      "Length of positive trainingset: 66, length of negative training set: 6\n",
      "Optimal parameters are C=0.1 and class_weight={0: 3, 1: 1}.\n",
      "\n",
      "Training in iteration 2 with split 2/3 starts!\n",
      "Length of positive trainingset: 67, length of negative training set: 7\n",
      "Optimal parameters are C=0.1 and class_weight={0: 3, 1: 1}.\n",
      "\n",
      "Training in iteration 2 with split 3/3 starts!\n",
      "Length of positive trainingset: 67, length of negative training set: 7\n",
      "Optimal parameters are C=0.1 and class_weight={0: 10, 1: 1}.\n",
      "\n",
      "Iteration 2/10 done! It yielded an auc of 4.831474843281398.\n",
      "\n",
      "Re-ranking complete. Cutting off low ranks.\n",
      "\n",
      "Training in iteration 3 with split 1/3 starts!\n",
      "Length of positive trainingset: 66, length of negative training set: 4\n",
      "Optimal parameters are C=0.1 and class_weight={0: 1, 1: 1}.\n",
      "\n",
      "Training in iteration 3 with split 2/3 starts!\n",
      "Length of positive trainingset: 67, length of negative training set: 4\n",
      "Optimal parameters are C=0.1 and class_weight={0: 3, 1: 1}.\n",
      "\n",
      "Training in iteration 3 with split 3/3 starts!\n",
      "Length of positive trainingset: 67, length of negative training set: 4\n",
      "Optimal parameters are C=0.1 and class_weight={0: 3, 1: 1}.\n",
      "\n",
      "Iteration 3/10 done! It yielded an auc of 4.831474843281398.\n",
      "\n",
      "Training in iteration 4 with split 1/3 starts!\n",
      "Length of positive trainingset: 66, length of negative training set: 4\n",
      "Optimal parameters are C=0.1 and class_weight={0: 10, 1: 1}.\n",
      "\n",
      "Training in iteration 4 with split 2/3 starts!\n",
      "Length of positive trainingset: 67, length of negative training set: 4\n",
      "Optimal parameters are C=0.1 and class_weight={0: 1, 1: 1}.\n",
      "\n",
      "Training in iteration 4 with split 3/3 starts!\n",
      "Length of positive trainingset: 67, length of negative training set: 4\n",
      "Optimal parameters are C=0.1 and class_weight={0: 3, 1: 1}.\n",
      "\n",
      "Iteration 4/10 done! It yielded an auc of 4.831474843281398.\n",
      "\n",
      "Results are not getting better. Terminating and using Iteration 1 with an auc of 4.83.\n"
     ]
    },
    {
     "data": {
      "image/png": "[encoded data removed]",
      "text/plain": [
       "<Figure size 432x288 with 1 Axes>"
      ]
     },
     "metadata": {
      "needs_background": "light"
     },
     "output_type": "display_data"
    },
    {
     "name": "stdout",
     "output_type": "stream",
     "text": [
      "Wall time: 1.23 s\n"
     ]
    }
   ],
   "source": [
    "%%time\n",
    "\n",
    "saveName = ''\n",
    "\n",
    "p = percolator_experimental(df, idCol, features, plotSaveName = saveName, identsAsMetric = 'automatic', plotXLnXL = False)"
   ]
  },
  {
   "cell_type": "code",
   "execution_count": 51,
   "metadata": {},
   "outputs": [
    {
     "data": {
      "text/plain": [
       "0.9423076923076916"
      ]
     },
     "execution_count": 51,
     "metadata": {},
     "output_type": "execute_result"
    },
    {
     "data": {
      "image/png": "[encoded data removed]",
      "text/plain": [
       "<Figure size 432x288 with 1 Axes>"
      ]
     },
     "metadata": {
      "needs_background": "light"
     },
     "output_type": "display_data"
    }
   ],
   "source": [
    "pseudoROC(df)"
   ]
  },
  {
   "cell_type": "code",
   "execution_count": null,
   "metadata": {},
   "outputs": [],
   "source": []
  }
 ],
 "metadata": {
  "kernelspec": {
   "display_name": "Python 3",
   "language": "python",
   "name": "python3"
  },
  "language_info": {
   "codemirror_mode": {
    "name": "ipython",
    "version": 3
   },
   "file_extension": ".py",
   "mimetype": "text/x-python",
   "name": "python",
   "nbconvert_exporter": "python",
   "pygments_lexer": "ipython3",
   "version": "3.7.6"
  }
 },
 "nbformat": 4,
 "nbformat_minor": 2
}
