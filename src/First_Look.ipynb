{
 "cells": [
  {
   "cell_type": "code",
   "execution_count": 1,
   "metadata": {},
   "outputs": [],
   "source": [
    "# Import File\n",
    "import pandas as pd\n",
    "import matplotlib.pyplot as plt\n",
    "\n",
    "def DFfromTXT(fileName):\n",
    "    txt = open(fileName,'r').read()\n",
    "\n",
    "    # create list of lists from txt\n",
    "    lines = txt.splitlines()\n",
    "    xs = [l.split('\\t') for l in lines]\n",
    "\n",
    "    # join the listed proteins if there is more than one\n",
    "    for x in xs:\n",
    "        while (len(x) > len(xs[0])):\n",
    "            x[-2:] = [', '.join(x[-2:])]\n",
    "\n",
    "    # create a pandas DataFrame from the acquired data\n",
    "    df = pd.DataFrame(xs[1:], index = range(len(xs[1:])), columns = xs[0])\n",
    "    return df\n",
    "\n",
    "def calcQ(scoreColName, df):\n",
    "    df[scoreColName] = [float(i) for i in df[scoreColName]]\n",
    "    # Sort by score columns\n",
    "    df.sort_values(scoreColName, ascending=False, inplace = True)\n",
    "\n",
    "    # Replace -1 by 0 and turn every element into a number\n",
    "    df = df[df.Label != '-']\n",
    "    df.replace(to_replace = '1', value = 1, inplace = True)\n",
    "    df.replace(to_replace = '-1', value = 0, inplace = True)\n",
    "\n",
    "    # calculate FDR\n",
    "    df['FDR'] = 1 - (df['Label'].cumsum()/[i + 1 for i in range(len(df.index))])\n",
    "\n",
    "    # calculate q-value\n",
    "    df['q-val'] = df['FDR'][::-1].cummin()[::-1]\n",
    "    \n",
    "    return df\n",
    "\n",
    "def readAndProcess(fileName, scoreColName):\n",
    "    d = DFfromTXT(fileName)\n",
    "    return calcQ(scoreColName, d)\n",
    "\n",
    "def pseudoROC(df, xMax):\n",
    "    plt.xlim(0,xMax)\n",
    "    plt.ylim(0,len([i for i in df['q-val'] if i <= xMax]))\n",
    "    plt.plot(df['q-val'],range(len(df.index)))"
   ]
  },
  {
   "cell_type": "code",
   "execution_count": 2,
   "metadata": {},
   "outputs": [
    {
     "data": {
      "text/html": [
       "<div>\n",
       "<style scoped>\n",
       "    .dataframe tbody tr th:only-of-type {\n",
       "        vertical-align: middle;\n",
       "    }\n",
       "\n",
       "    .dataframe tbody tr th {\n",
       "        vertical-align: top;\n",
       "    }\n",
       "\n",
       "    .dataframe thead th {\n",
       "        text-align: right;\n",
       "    }\n",
       "</style>\n",
       "<table border=\"1\" class=\"dataframe\">\n",
       "  <thead>\n",
       "    <tr style=\"text-align: right;\">\n",
       "      <th></th>\n",
       "      <th>SpecId</th>\n",
       "      <th>Label</th>\n",
       "      <th>ScanNr</th>\n",
       "      <th>ExpMass</th>\n",
       "      <th>CalcMass</th>\n",
       "      <th>mass</th>\n",
       "      <th>peplen</th>\n",
       "      <th>charge2</th>\n",
       "      <th>charge3</th>\n",
       "      <th>charge4</th>\n",
       "      <th>...</th>\n",
       "      <th>nucleotide_mass_tags</th>\n",
       "      <th>precursor_purity</th>\n",
       "      <th>NuXL:XL_U</th>\n",
       "      <th>NuXL:XL_C</th>\n",
       "      <th>NuXL:XL_G</th>\n",
       "      <th>NuXL:XL_A</th>\n",
       "      <th>Peptide</th>\n",
       "      <th>Proteins</th>\n",
       "      <th>FDR</th>\n",
       "      <th>q-val</th>\n",
       "    </tr>\n",
       "  </thead>\n",
       "  <tbody>\n",
       "    <tr>\n",
       "      <th>9450</th>\n",
       "      <td>controllerType=0controllerNumber=1scan=8704</td>\n",
       "      <td>1</td>\n",
       "      <td>8704</td>\n",
       "      <td>1075.096069335940001</td>\n",
       "      <td>1075.098715746004473</td>\n",
       "      <td>1075.096069335940001</td>\n",
       "      <td>40</td>\n",
       "      <td>0</td>\n",
       "      <td>1</td>\n",
       "      <td>0</td>\n",
       "      <td>...</td>\n",
       "      <td>0.017514027655125</td>\n",
       "      <td>1.0</td>\n",
       "      <td>0</td>\n",
       "      <td>0</td>\n",
       "      <td>0</td>\n",
       "      <td>0</td>\n",
       "      <td>R.GGSGGSHGGGSGFGGESGGSYGGGEEASGSGGGYGGGSGK.S</td>\n",
       "      <td>sp|P35527|K1C9_HUMAN</td>\n",
       "      <td>0.0</td>\n",
       "      <td>0.0</td>\n",
       "    </tr>\n",
       "    <tr>\n",
       "      <th>9523</th>\n",
       "      <td>controllerType=0controllerNumber=1scan=8757</td>\n",
       "      <td>1</td>\n",
       "      <td>8757</td>\n",
       "      <td>1075.099487304690001</td>\n",
       "      <td>1075.098715746004473</td>\n",
       "      <td>1075.099487304690001</td>\n",
       "      <td>40</td>\n",
       "      <td>0</td>\n",
       "      <td>1</td>\n",
       "      <td>0</td>\n",
       "      <td>...</td>\n",
       "      <td>0.020461853593588</td>\n",
       "      <td>1.0</td>\n",
       "      <td>0</td>\n",
       "      <td>0</td>\n",
       "      <td>0</td>\n",
       "      <td>0</td>\n",
       "      <td>R.GGSGGSHGGGSGFGGESGGSYGGGEEASGSGGGYGGGSGK.S</td>\n",
       "      <td>sp|P35527|K1C9_HUMAN</td>\n",
       "      <td>0.0</td>\n",
       "      <td>0.0</td>\n",
       "    </tr>\n",
       "    <tr>\n",
       "      <th>7438</th>\n",
       "      <td>controllerType=0controllerNumber=1scan=7273</td>\n",
       "      <td>1</td>\n",
       "      <td>7273</td>\n",
       "      <td>906.114624023437955</td>\n",
       "      <td>906.114605851646047</td>\n",
       "      <td>906.114624023437955</td>\n",
       "      <td>44</td>\n",
       "      <td>0</td>\n",
       "      <td>0</td>\n",
       "      <td>1</td>\n",
       "      <td>...</td>\n",
       "      <td>0.013184398412704</td>\n",
       "      <td>0.969195320917585</td>\n",
       "      <td>0</td>\n",
       "      <td>0</td>\n",
       "      <td>0</td>\n",
       "      <td>0</td>\n",
       "      <td>R.GGSGGSHGGGSGFGGESGGSYGGGEEASGSGGGYGGGSGKSSHS.-</td>\n",
       "      <td>sp|P35527|K1C9_HUMAN</td>\n",
       "      <td>0.0</td>\n",
       "      <td>0.0</td>\n",
       "    </tr>\n",
       "    <tr>\n",
       "      <th>8544</th>\n",
       "      <td>controllerType=0controllerNumber=1scan=7991</td>\n",
       "      <td>1</td>\n",
       "      <td>7991</td>\n",
       "      <td>1336.114624023440228</td>\n",
       "      <td>1336.114549096904966</td>\n",
       "      <td>1336.114624023440228</td>\n",
       "      <td>32</td>\n",
       "      <td>0</td>\n",
       "      <td>1</td>\n",
       "      <td>0</td>\n",
       "      <td>...</td>\n",
       "      <td>0.045725647360086</td>\n",
       "      <td>1.0</td>\n",
       "      <td>0</td>\n",
       "      <td>0</td>\n",
       "      <td>0</td>\n",
       "      <td>0</td>\n",
       "      <td>K.KKEEEEDEEDEEDEEEEEDEEDEDEEEDDDDE.-</td>\n",
       "      <td>sp|P09429|HMGB1_HUMAN</td>\n",
       "      <td>0.0</td>\n",
       "      <td>0.0</td>\n",
       "    </tr>\n",
       "    <tr>\n",
       "      <th>8614</th>\n",
       "      <td>controllerType=0controllerNumber=1scan=8046</td>\n",
       "      <td>1</td>\n",
       "      <td>8046</td>\n",
       "      <td>1336.115234375</td>\n",
       "      <td>1336.114549096904966</td>\n",
       "      <td>1336.115234375</td>\n",
       "      <td>32</td>\n",
       "      <td>0</td>\n",
       "      <td>1</td>\n",
       "      <td>0</td>\n",
       "      <td>...</td>\n",
       "      <td>0.04514741897583</td>\n",
       "      <td>0.992818714425246</td>\n",
       "      <td>0</td>\n",
       "      <td>0</td>\n",
       "      <td>0</td>\n",
       "      <td>0</td>\n",
       "      <td>K.KKEEEEDEEDEEDEEEEEDEEDEDEEEDDDDE.-</td>\n",
       "      <td>sp|P09429|HMGB1_HUMAN</td>\n",
       "      <td>0.0</td>\n",
       "      <td>0.0</td>\n",
       "    </tr>\n",
       "  </tbody>\n",
       "</table>\n",
       "<p>5 rows × 63 columns</p>\n",
       "</div>"
      ],
      "text/plain": [
       "                                           SpecId  Label ScanNr  \\\n",
       "9450  controllerType=0controllerNumber=1scan=8704      1   8704   \n",
       "9523  controllerType=0controllerNumber=1scan=8757      1   8757   \n",
       "7438  controllerType=0controllerNumber=1scan=7273      1   7273   \n",
       "8544  controllerType=0controllerNumber=1scan=7991      1   7991   \n",
       "8614  controllerType=0controllerNumber=1scan=8046      1   8046   \n",
       "\n",
       "                   ExpMass              CalcMass                  mass peplen  \\\n",
       "9450  1075.096069335940001  1075.098715746004473  1075.096069335940001     40   \n",
       "9523  1075.099487304690001  1075.098715746004473  1075.099487304690001     40   \n",
       "7438   906.114624023437955   906.114605851646047   906.114624023437955     44   \n",
       "8544  1336.114624023440228  1336.114549096904966  1336.114624023440228     32   \n",
       "8614        1336.115234375  1336.114549096904966        1336.115234375     32   \n",
       "\n",
       "     charge2 charge3 charge4  ...  nucleotide_mass_tags   precursor_purity  \\\n",
       "9450       0       1       0  ...     0.017514027655125                1.0   \n",
       "9523       0       1       0  ...     0.020461853593588                1.0   \n",
       "7438       0       0       1  ...     0.013184398412704  0.969195320917585   \n",
       "8544       0       1       0  ...     0.045725647360086                1.0   \n",
       "8614       0       1       0  ...      0.04514741897583  0.992818714425246   \n",
       "\n",
       "     NuXL:XL_U NuXL:XL_C NuXL:XL_G NuXL:XL_A  \\\n",
       "9450         0         0         0         0   \n",
       "9523         0         0         0         0   \n",
       "7438         0         0         0         0   \n",
       "8544         0         0         0         0   \n",
       "8614         0         0         0         0   \n",
       "\n",
       "                                               Peptide               Proteins  \\\n",
       "9450      R.GGSGGSHGGGSGFGGESGGSYGGGEEASGSGGGYGGGSGK.S   sp|P35527|K1C9_HUMAN   \n",
       "9523      R.GGSGGSHGGGSGFGGESGGSYGGGEEASGSGGGYGGGSGK.S   sp|P35527|K1C9_HUMAN   \n",
       "7438  R.GGSGGSHGGGSGFGGESGGSYGGGEEASGSGGGYGGGSGKSSHS.-   sp|P35527|K1C9_HUMAN   \n",
       "8544              K.KKEEEEDEEDEEDEEEEEDEEDEDEEEDDDDE.-  sp|P09429|HMGB1_HUMAN   \n",
       "8614              K.KKEEEEDEEDEEDEEEEEDEEDEDEEEDDDDE.-  sp|P09429|HMGB1_HUMAN   \n",
       "\n",
       "      FDR q-val  \n",
       "9450  0.0   0.0  \n",
       "9523  0.0   0.0  \n",
       "7438  0.0   0.0  \n",
       "8544  0.0   0.0  \n",
       "8614  0.0   0.0  \n",
       "\n",
       "[5 rows x 63 columns]"
      ]
     },
     "execution_count": 2,
     "metadata": {},
     "output_type": "execute_result"
    }
   ],
   "source": [
    "scoreCol = 'NuXL:score'\n",
    "dFast = readAndProcess('Data/1-AChernev_080219_dir_HeLa_cyt_UCGA_fast.tsv', scoreCol)\n",
    "dSlow = readAndProcess('Data/1-AChernev_080219_dir_HeLa_cyt_UCGA_slow.tsv', scoreCol)\n",
    "dFast['NuXL:isXL'] = [int(x) for x in dFast['NuXL:isXL']]\n",
    "dSlow['NuXL:isXL'] = [int(x) for x in dSlow['NuXL:isXL']]\n",
    "dFast.head()"
   ]
  },
  {
   "cell_type": "code",
   "execution_count": 3,
   "metadata": {},
   "outputs": [
    {
     "data": {
      "image/png": "[encoded data removed]",
      "text/plain": [
       "<Figure size 432x288 with 1 Axes>"
      ]
     },
     "metadata": {
      "needs_background": "light"
     },
     "output_type": "display_data"
    }
   ],
   "source": [
    "dFaXL = dFast[dFast['NuXL:isXL'] == 1]\n",
    "dFaNoXL = dFast[dFast['NuXL:isXL'] == 0]\n",
    "pseudoROC(dFaNoXL, 0.05)\n",
    "pseudoROC(dFaXL, 0.05)"
   ]
  },
  {
   "cell_type": "code",
   "execution_count": 4,
   "metadata": {},
   "outputs": [
    {
     "data": {
      "image/png": "[encoded data removed]",
      "text/plain": [
       "<Figure size 432x288 with 1 Axes>"
      ]
     },
     "metadata": {
      "needs_background": "light"
     },
     "output_type": "display_data"
    }
   ],
   "source": [
    "dSlXL = dSlow[dSlow['NuXL:isXL'] == 1]\n",
    "dSlNoXL = dSlow[dSlow['NuXL:isXL'] == 0]\n",
    "pseudoROC(dSlNoXL, 0.05)\n",
    "pseudoROC(dSlXL, 0.05)"
   ]
  },
  {
   "cell_type": "code",
   "execution_count": 5,
   "metadata": {},
   "outputs": [
    {
     "data": {
      "text/plain": [
       "[<matplotlib.lines.Line2D at 0x17ed2207188>]"
      ]
     },
     "execution_count": 5,
     "metadata": {},
     "output_type": "execute_result"
    },
    {
     "data": {
      "image/png": "[encoded data removed]",
      "text/plain": [
       "<Figure size 432x288 with 1 Axes>"
      ]
     },
     "metadata": {
      "needs_background": "light"
     },
     "output_type": "display_data"
    }
   ],
   "source": [
    "df = dSlow\n",
    "x = [float(x) for x in df[scoreCol]]\n",
    "y = [float(x) for x in df['FDR']]\n",
    "plt.plot(x, y)"
   ]
  }
 ],
 "metadata": {
  "kernelspec": {
   "display_name": "Python 3",
   "language": "python",
   "name": "python3"
  },
  "language_info": {
   "codemirror_mode": {
    "name": "ipython",
    "version": 3
   },
   "file_extension": ".py",
   "mimetype": "text/x-python",
   "name": "python",
   "nbconvert_exporter": "python",
   "pygments_lexer": "ipython3",
   "version": "3.7.4"
  }
 },
 "nbformat": 4,
 "nbformat_minor": 2
}
